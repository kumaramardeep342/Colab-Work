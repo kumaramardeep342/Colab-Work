{
  "nbformat": 4,
  "nbformat_minor": 0,
  "metadata": {
    "colab": {
      "provenance": [],
      "mount_file_id": "1tBWEIN8Xf8qgUxAIQ0a8auB5sCpA81_K",
      "authorship_tag": "ABX9TyOZjjtvPBTAOpsSpjEg93zb",
      "include_colab_link": true
    },
    "kernelspec": {
      "name": "python3",
      "display_name": "Python 3"
    },
    "language_info": {
      "name": "python"
    }
  },
  "cells": [
    {
      "cell_type": "markdown",
      "metadata": {
        "id": "view-in-github",
        "colab_type": "text"
      },
      "source": [
        "<a href=\"https://colab.research.google.com/github/kumaramardeep342/Colab-Work/blob/main/Ed_AI__NLP_M2_CaseStudy1.ipynb\" target=\"_parent\"><img src=\"https://colab.research.google.com/assets/colab-badge.svg\" alt=\"Open In Colab\"/></a>"
      ]
    },
    {
      "cell_type": "markdown",
      "source": [
        "# 1.Write a program to enter a string from user and perform following tasks"
      ],
      "metadata": {
        "id": "K41OHsv7D1OB"
      }
    },
    {
      "cell_type": "markdown",
      "source": [
        "- Write a python function named “Tokenize”which returns the tokenized string\n",
        "- Print tokens along with the frequency of each token using the above function\n",
        "- Print the 5 least occurring tokens"
      ],
      "metadata": {
        "id": "FCL_-a9ND97d"
      }
    },
    {
      "cell_type": "code",
      "source": [
        "!pip install nltk\n",
        "import nltk\n",
        "nltk.download('punkt')\n",
        "from nltk.tokenize import word_tokenize\n",
        "from nltk.probability import FreqDist\n",
        "def tokenize(text):\n",
        "    tokens = word_tokenize(text)\n",
        "    return tokens"
      ],
      "metadata": {
        "colab": {
          "base_uri": "https://localhost:8080/"
        },
        "id": "xyNv6WNuHu8o",
        "outputId": "51d68e8c-a8da-49c0-fb14-390592e034d6"
      },
      "execution_count": 1,
      "outputs": [
        {
          "output_type": "stream",
          "name": "stdout",
          "text": [
            "Requirement already satisfied: nltk in /usr/local/lib/python3.10/dist-packages (3.8.1)\n",
            "Requirement already satisfied: click in /usr/local/lib/python3.10/dist-packages (from nltk) (8.1.7)\n",
            "Requirement already satisfied: joblib in /usr/local/lib/python3.10/dist-packages (from nltk) (1.4.2)\n",
            "Requirement already satisfied: regex>=2021.8.3 in /usr/local/lib/python3.10/dist-packages (from nltk) (2024.5.15)\n",
            "Requirement already satisfied: tqdm in /usr/local/lib/python3.10/dist-packages (from nltk) (4.66.4)\n"
          ]
        },
        {
          "output_type": "stream",
          "name": "stderr",
          "text": [
            "[nltk_data] Downloading package punkt to /root/nltk_data...\n",
            "[nltk_data]   Unzipping tokenizers/punkt.zip.\n"
          ]
        }
      ]
    },
    {
      "cell_type": "code",
      "source": [
        "# Sample text\n",
        "sample_text = input(\"Enter a string: \")\n",
        "#sample_text =  'Sun Pharmaceutical Industries Ltd on Tuesday said it will acquire a 16.33 per cent stake in Surgimatix, Inc, a US-based firm for $3.05 million (over Rs 25 crore). Sun Pharmaceutical has signed a definitive merger agreement for the acquisition of all outstanding ordinary shares of Taro Pharmaceutical not currently owned by the company or its affiliates for $347.73m (Rs28. 92bn) in cash.'\n",
        "\n",
        "# Tokenize the text\n",
        "tokens = tokenize(sample_text)\n",
        "print(f\"tokenized string : {tokens}\")\n",
        "\n",
        "# Calculate the frequency of each token\n",
        "fdist = FreqDist()\n",
        "for token in tokens:\n",
        "    fdist[token.lower()] += 1\n",
        "\n",
        "# Print the tokens and their frequencies\n",
        "# for token,frequency in fdist.items():\n",
        "#   print(f\"{token}:{frequency}\")\n",
        "print(f\"tokens and their frequencies : {fdist.items()}\")\n",
        "\n",
        "# Print the 5 least occurring tokens\n",
        "#print(fdist.most_common())\n",
        "print(\"5 least occurring tokens:\")\n",
        "for token, frequency in fdist.most_common()[:-6:-1]:\n",
        "    print(f\"{token}: {frequency}\")\n",
        "#print(fdist.most_common(5))\n"
      ],
      "metadata": {
        "colab": {
          "base_uri": "https://localhost:8080/"
        },
        "id": "_7i9hotJI5p9",
        "outputId": "deb893fb-d78f-4a49-f716-f463f01bc8fa"
      },
      "execution_count": 2,
      "outputs": [
        {
          "output_type": "stream",
          "name": "stdout",
          "text": [
            "Enter a string: 2.Write a program to enter a string from user and perform following tasks.\n",
            "tokenized string : ['2.Write', 'a', 'program', 'to', 'enter', 'a', 'string', 'from', 'user', 'and', 'perform', 'following', 'tasks', '.']\n",
            "tokens and their frequencies : dict_items([('2.write', 1), ('a', 2), ('program', 1), ('to', 1), ('enter', 1), ('string', 1), ('from', 1), ('user', 1), ('and', 1), ('perform', 1), ('following', 1), ('tasks', 1), ('.', 1)])\n",
            "5 least occurring tokens:\n",
            ".: 1\n",
            "tasks: 1\n",
            "following: 1\n",
            "perform: 1\n",
            "and: 1\n"
          ]
        }
      ]
    },
    {
      "cell_type": "markdown",
      "source": [
        "# 2.Write a program to enter a string from user and perform following tasks."
      ],
      "metadata": {
        "id": "pG6NvRKHEJN2"
      }
    },
    {
      "cell_type": "markdown",
      "source": [
        "- Write a python function named “RemoveStopWords”which returns the string after removing stop words\n",
        "- Count frequency of each stop word present in a string using the above function\n",
        "- Plot a bar graph depicting stop words and their frequencies"
      ],
      "metadata": {
        "id": "fMQA_QFzEQ0G"
      }
    },
    {
      "cell_type": "code",
      "source": [
        "from nltk.tokenize import word_tokenize\n",
        "nltk.download('stopwords')\n",
        "from nltk.corpus import stopwords\n",
        "def remove_stop_words(text):\n",
        "    stop_words = stopwords.words('english')\n",
        "    words = word_tokenize(text)\n",
        "    filtered_words = [word for word in words if word.lower() not in stop_words]\n",
        "    stop_words_text = [word for word in words if word.lower() in stop_words]\n",
        "    return  ' '.join(filtered_words) ,  stop_words_text"
      ],
      "metadata": {
        "colab": {
          "base_uri": "https://localhost:8080/"
        },
        "id": "iCpRQQpjT-fH",
        "outputId": "ed0b856d-bc6c-49d4-d958-954c347aabdb"
      },
      "execution_count": 3,
      "outputs": [
        {
          "output_type": "stream",
          "name": "stderr",
          "text": [
            "[nltk_data] Downloading package stopwords to /root/nltk_data...\n",
            "[nltk_data]   Unzipping corpora/stopwords.zip.\n"
          ]
        }
      ]
    },
    {
      "cell_type": "code",
      "source": [
        "# Sample text\n",
        "sample_text = input(\"Enter a string: \")\n",
        "#sample_text =  'Sun Pharmaceutical Industries Ltd on Tuesday said it will acquire a 16.33 per cent stake in Surgimatix, Inc, a US-based firm for $3.05 million (over Rs 25 crore). Sun Pharmaceutical has signed a definitive merger agreement for the acquisition of all outstanding ordinary shares of Taro Pharmaceutical not currently owned by the company or its affiliates for $347.73m (Rs28. 92bn) in cash.'\n",
        "sample_text_new, stop_words_text= remove_stop_words(sample_text)\n",
        "print(f\"string after removing stop words : {sample_text_new}\")\n",
        "\n",
        "# Count frequency of each stop word present in a string using the above function\n",
        "stop_words_count = {}\n",
        "for word in stop_words_text:\n",
        "    if word in stop_words_count:\n",
        "        stop_words_count[word] += 1\n",
        "    else:\n",
        "        stop_words_count[word] = 1\n",
        "print(f\"stop words text count : {stop_words_count}\")\n",
        "\n",
        "# Plot a bar graph depicting stop words and their frequencies\n",
        "import matplotlib.pyplot as plt\n",
        "plt.bar(stop_words_count.keys(), stop_words_count.values())\n",
        "plt.xlabel('Stop Words')\n",
        "plt.ylabel('Frequency')\n",
        "plt.title('Stop Words Frequency')\n",
        "plt.show()\n"
      ],
      "metadata": {
        "colab": {
          "base_uri": "https://localhost:8080/",
          "height": 524
        },
        "id": "jgHAK_iUUp7J",
        "outputId": "d68b8a68-3ab2-4919-abb7-d5cd0b1545bd"
      },
      "execution_count": 4,
      "outputs": [
        {
          "output_type": "stream",
          "name": "stdout",
          "text": [
            "Enter a string: 2.Write a program to enter a string from user and perform following tasks.\n",
            "string after removing stop words : 2.Write program enter string user perform following tasks .\n",
            "stop words text count : {'a': 2, 'to': 1, 'from': 1, 'and': 1}\n"
          ]
        },
        {
          "output_type": "display_data",
          "data": {
            "text/plain": [
              "<Figure size 640x480 with 1 Axes>"
            ],
            "image/png": "[encoded data removed]"
          },
          "metadata": {}
        }
      ]
    },
    {
      "cell_type": "markdown",
      "source": [
        "# 3.Write a program to enter a string from user and perform following tasks"
      ],
      "metadata": {
        "id": "yEcbXENYEcZ9"
      }
    },
    {
      "cell_type": "markdown",
      "source": [
        "- Write a python functionnamed “Lemmatize”which returns a string after lemmatizing the string.\n",
        "- Write a python functionnamed “Stemmed” which returns a string after stemming the string. (Use any stemmer of your preference)\n",
        "- Print all the words along with their lemmatized and stemmed form using theabove functions\n",
        "- Save these results in a csv file having 3 columns:Original Word Lemmatized Form Stemmed Form"
      ],
      "metadata": {
        "id": "xSsTsFLZEisj"
      }
    },
    {
      "cell_type": "code",
      "source": [
        "nltk.download('wordnet')\n",
        "from nltk.stem import wordnet\n",
        "from nltk.stem import PorterStemmer, WordNetLemmatizer\n",
        "\n",
        "# Lemmatization\n",
        "def lemmatize(text):\n",
        "    lemmatizer = WordNetLemmatizer()\n",
        "    words = word_tokenize(text)\n",
        "    lemmatized_words = [lemmatizer.lemmatize(word) for word in words]\n",
        "    return ' '.join(lemmatized_words)\n",
        "\n",
        "#stemming\n",
        "def stem(text):\n",
        "    stemmer = PorterStemmer()\n",
        "    words = word_tokenize(text)\n",
        "    stemmed_words = [stemmer.stem(word) for word in words]\n",
        "    return ' '.join(stemmed_words)"
      ],
      "metadata": {
        "colab": {
          "base_uri": "https://localhost:8080/"
        },
        "id": "1OBM96oZbNed",
        "outputId": "e7e1e1a6-2389-40de-cc88-d51fb6df9a03"
      },
      "execution_count": 5,
      "outputs": [
        {
          "output_type": "stream",
          "name": "stderr",
          "text": [
            "[nltk_data] Downloading package wordnet to /root/nltk_data...\n"
          ]
        }
      ]
    },
    {
      "cell_type": "code",
      "source": [
        "# Sample text\n",
        "sample_text = input(\"Enter a string: \")\n",
        "#sample_text =  'Sun Pharmaceutical Industries Ltd on Tuesday said it will acquire a 16.33 per cent stake in Surgimatix, Inc, a US-based firm for $3.05 million (over Rs 25 crore). Sun Pharmaceutical has signed a definitive merger agreement for the acquisition of all outstanding ordinary shares of Taro Pharmaceutical not currently owned by the company or its affiliates for $347.73m (Rs28. 92bn) in cash.'\n",
        "\n",
        "lemmatized_words = lemmatize(sample_text)\n",
        "stemmed_words = stem(sample_text)\n",
        "print(f\"sample_text: {sample_text}\")\n",
        "print(f\"lemmatized words : {lemmatized_words}\")\n",
        "print(f\"stemmed words : {stemmed_words}\")\n",
        "\n",
        "#enable interactive table format\n",
        "from google.colab import data_table\n",
        "data_table.enable_dataframe_formatter()\n",
        "\n",
        "#Disable interactive table format\n",
        "# from google.colab import data_table\n",
        "# data_table.disable_dataframe_formatter()\n",
        "\n",
        "import pandas as pd\n",
        "sample_df = pd.DataFrame({'Original Word': [sample_text], 'Lemmatized Form': [lemmatized_words], 'Stemmed Form': [stemmed_words]})\n",
        "sample_df.to_csv('/content/drive/MyDrive/Colab Work/Edureka AI Certification/Assigment Files/sample_data.csv', index=False)\n",
        "sample_df\n"
      ],
      "metadata": {
        "colab": {
          "base_uri": "https://localhost:8080/",
          "height": 229
        },
        "id": "cbkMbPLJcBdf",
        "outputId": "de11844a-06d5-489f-bf3d-73c9c0429dfd"
      },
      "execution_count": 6,
      "outputs": [
        {
          "output_type": "stream",
          "name": "stdout",
          "text": [
            "Enter a string: 2.Write a program to enter a string from user and perform following tasks.\n",
            "sample_text: 2.Write a program to enter a string from user and perform following tasks.\n",
            "lemmatized words : 2.Write a program to enter a string from user and perform following task .\n",
            "stemmed words : 2.write a program to enter a string from user and perform follow task .\n"
          ]
        },
        {
          "output_type": "execute_result",
          "data": {
            "text/plain": [
              "                                       Original Word  \\\n",
              "0  2.Write a program to enter a string from user ...   \n",
              "\n",
              "                                     Lemmatized Form  \\\n",
              "0  2.Write a program to enter a string from user ...   \n",
              "\n",
              "                                        Stemmed Form  \n",
              "0  2.write a program to enter a string from user ...  "
            ],
            "text/html": [
              "\n",
              "  <div id=\"df-faeb1852-b008-4e56-9c02-3ea3a690d663\" class=\"colab-df-container\">\n",
              "    <div>\n",
              "<style scoped>\n",
              "    .dataframe tbody tr th:only-of-type {\n",
              "        vertical-align: middle;\n",
              "    }\n",
              "\n",
              "    .dataframe tbody tr th {\n",
              "        vertical-align: top;\n",
              "    }\n",
              "\n",
              "    .dataframe thead th {\n",
              "        text-align: right;\n",
              "    }\n",
              "</style>\n",
              "<table border=\"1\" class=\"dataframe\">\n",
              "  <thead>\n",
              "    <tr style=\"text-align: right;\">\n",
              "      <th></th>\n",
              "      <th>Original Word</th>\n",
              "      <th>Lemmatized Form</th>\n",
              "      <th>Stemmed Form</th>\n",
              "    </tr>\n",
              "  </thead>\n",
              "  <tbody>\n",
              "    <tr>\n",
              "      <th>0</th>\n",
              "      <td>2.Write a program to enter a string from user ...</td>\n",
              "      <td>2.Write a program to enter a string from user ...</td>\n",
              "      <td>2.write a program to enter a string from user ...</td>\n",
              "    </tr>\n",
              "  </tbody>\n",
              "</table>\n",
              "</div>\n",
              "    <div class=\"colab-df-buttons\">\n",
              "\n",
              "  <div class=\"colab-df-container\">\n",
              "    <button class=\"colab-df-convert\" onclick=\"convertToInteractive('df-faeb1852-b008-4e56-9c02-3ea3a690d663')\"\n",
              "            title=\"Convert this dataframe to an interactive table.\"\n",
              "            style=\"display:none;\">\n",
              "\n",
              "  <svg xmlns=\"http://www.w3.org/2000/svg\" height=\"24px\" viewBox=\"0 -960 960 960\">\n",
              "    <path d=\"M120-120v-720h720v720H120Zm60-500h600v-160H180v160Zm220 220h160v-160H400v160Zm0 220h160v-160H400v160ZM180-400h160v-160H180v160Zm440 0h160v-160H620v160ZM180-180h160v-160H180v160Zm440 0h160v-160H620v160Z\"/>\n",
              "  </svg>\n",
              "    </button>\n",
              "\n",
              "  <style>\n",
              "    .colab-df-container {\n",
              "      display:flex;\n",
              "      gap: 12px;\n",
              "    }\n",
              "\n",
              "    .colab-df-convert {\n",
              "      background-color: #E8F0FE;\n",
              "      border: none;\n",
              "      border-radius: 50%;\n",
              "      cursor: pointer;\n",
              "      display: none;\n",
              "      fill: #1967D2;\n",
              "      height: 32px;\n",
              "      padding: 0 0 0 0;\n",
              "      width: 32px;\n",
              "    }\n",
              "\n",
              "    .colab-df-convert:hover {\n",
              "      background-color: #E2EBFA;\n",
              "      box-shadow: 0px 1px 2px rgba(60, 64, 67, 0.3), 0px 1px 3px 1px rgba(60, 64, 67, 0.15);\n",
              "      fill: #174EA6;\n",
              "    }\n",
              "\n",
              "    .colab-df-buttons div {\n",
              "      margin-bottom: 4px;\n",
              "    }\n",
              "\n",
              "    [theme=dark] .colab-df-convert {\n",
              "      background-color: #3B4455;\n",
              "      fill: #D2E3FC;\n",
              "    }\n",
              "\n",
              "    [theme=dark] .colab-df-convert:hover {\n",
              "      background-color: #434B5C;\n",
              "      box-shadow: 0px 1px 3px 1px rgba(0, 0, 0, 0.15);\n",
              "      filter: drop-shadow(0px 1px 2px rgba(0, 0, 0, 0.3));\n",
              "      fill: #FFFFFF;\n",
              "    }\n",
              "  </style>\n",
              "\n",
              "    <script>\n",
              "      const buttonEl =\n",
              "        document.querySelector('#df-faeb1852-b008-4e56-9c02-3ea3a690d663 button.colab-df-convert');\n",
              "      buttonEl.style.display =\n",
              "        google.colab.kernel.accessAllowed ? 'block' : 'none';\n",
              "\n",
              "      async function convertToInteractive(key) {\n",
              "        const element = document.querySelector('#df-faeb1852-b008-4e56-9c02-3ea3a690d663');\n",
              "        const dataTable =\n",
              "          await google.colab.kernel.invokeFunction('convertToInteractive',\n",
              "                                                    [key], {});\n",
              "        if (!dataTable) return;\n",
              "\n",
              "        const docLinkHtml = 'Like what you see? Visit the ' +\n",
              "          '<a target=\"_blank\" href=https://colab.research.google.com/notebooks/data_table.ipynb>data table notebook</a>'\n",
              "          + ' to learn more about interactive tables.';\n",
              "        element.innerHTML = '';\n",
              "        dataTable['output_type'] = 'display_data';\n",
              "        await google.colab.output.renderOutput(dataTable, element);\n",
              "        const docLink = document.createElement('div');\n",
              "        docLink.innerHTML = docLinkHtml;\n",
              "        element.appendChild(docLink);\n",
              "      }\n",
              "    </script>\n",
              "  </div>\n",
              "\n",
              "\n",
              "  <div id=\"id_08cdd6c8-a69f-4479-a861-5ca254a37fd2\">\n",
              "    <style>\n",
              "      .colab-df-generate {\n",
              "        background-color: #E8F0FE;\n",
              "        border: none;\n",
              "        border-radius: 50%;\n",
              "        cursor: pointer;\n",
              "        display: none;\n",
              "        fill: #1967D2;\n",
              "        height: 32px;\n",
              "        padding: 0 0 0 0;\n",
              "        width: 32px;\n",
              "      }\n",
              "\n",
              "      .colab-df-generate:hover {\n",
              "        background-color: #E2EBFA;\n",
              "        box-shadow: 0px 1px 2px rgba(60, 64, 67, 0.3), 0px 1px 3px 1px rgba(60, 64, 67, 0.15);\n",
              "        fill: #174EA6;\n",
              "      }\n",
              "\n",
              "      [theme=dark] .colab-df-generate {\n",
              "        background-color: #3B4455;\n",
              "        fill: #D2E3FC;\n",
              "      }\n",
              "\n",
              "      [theme=dark] .colab-df-generate:hover {\n",
              "        background-color: #434B5C;\n",
              "        box-shadow: 0px 1px 3px 1px rgba(0, 0, 0, 0.15);\n",
              "        filter: drop-shadow(0px 1px 2px rgba(0, 0, 0, 0.3));\n",
              "        fill: #FFFFFF;\n",
              "      }\n",
              "    </style>\n",
              "    <button class=\"colab-df-generate\" onclick=\"generateWithVariable('sample_df')\"\n",
              "            title=\"Generate code using this dataframe.\"\n",
              "            style=\"display:none;\">\n",
              "\n",
              "  <svg xmlns=\"http://www.w3.org/2000/svg\" height=\"24px\"viewBox=\"0 0 24 24\"\n",
              "       width=\"24px\">\n",
              "    <path d=\"M7,19H8.4L18.45,9,17,7.55,7,17.6ZM5,21V16.75L18.45,3.32a2,2,0,0,1,2.83,0l1.4,1.43a1.91,1.91,0,0,1,.58,1.4,1.91,1.91,0,0,1-.58,1.4L9.25,21ZM18.45,9,17,7.55Zm-12,3A5.31,5.31,0,0,0,4.9,8.1,5.31,5.31,0,0,0,1,6.5,5.31,5.31,0,0,0,4.9,4.9,5.31,5.31,0,0,0,6.5,1,5.31,5.31,0,0,0,8.1,4.9,5.31,5.31,0,0,0,12,6.5,5.46,5.46,0,0,0,6.5,12Z\"/>\n",
              "  </svg>\n",
              "    </button>\n",
              "    <script>\n",
              "      (() => {\n",
              "      const buttonEl =\n",
              "        document.querySelector('#id_08cdd6c8-a69f-4479-a861-5ca254a37fd2 button.colab-df-generate');\n",
              "      buttonEl.style.display =\n",
              "        google.colab.kernel.accessAllowed ? 'block' : 'none';\n",
              "\n",
              "      buttonEl.onclick = () => {\n",
              "        google.colab.notebook.generateWithVariable('sample_df');\n",
              "      }\n",
              "      })();\n",
              "    </script>\n",
              "  </div>\n",
              "\n",
              "    </div>\n",
              "  </div>\n"
            ],
            "application/vnd.google.colaboratory.intrinsic+json": {
              "type": "dataframe",
              "variable_name": "sample_df",
              "summary": "{\n  \"name\": \"sample_df\",\n  \"rows\": 1,\n  \"fields\": [\n    {\n      \"column\": \"Original Word\",\n      \"properties\": {\n        \"dtype\": \"string\",\n        \"num_unique_values\": 1,\n        \"samples\": [\n          \"2.Write a program to enter a string from user and perform following tasks.\"\n        ],\n        \"semantic_type\": \"\",\n        \"description\": \"\"\n      }\n    },\n    {\n      \"column\": \"Lemmatized Form\",\n      \"properties\": {\n        \"dtype\": \"string\",\n        \"num_unique_values\": 1,\n        \"samples\": [\n          \"2.Write a program to enter a string from user and perform following task .\"\n        ],\n        \"semantic_type\": \"\",\n        \"description\": \"\"\n      }\n    },\n    {\n      \"column\": \"Stemmed Form\",\n      \"properties\": {\n        \"dtype\": \"string\",\n        \"num_unique_values\": 1,\n        \"samples\": [\n          \"2.write a program to enter a string from user and perform follow task .\"\n        ],\n        \"semantic_type\": \"\",\n        \"description\": \"\"\n      }\n    }\n  ]\n}"
            },
            "application/vnd.google.colaboratory.module+javascript": "\n      import \"https://ssl.gstatic.com/colaboratory/data_table/f565ec32c7e6656f/data_table.js\";\n\n      const table = window.createDataTable({\n        data: [[{\n            'v': 0,\n            'f': \"0\",\n        },\n\"2.Write a program to enter a string from user and perform following tasks.\",\n\"2.Write a program to enter a string from user and perform following task .\",\n\"2.write a program to enter a string from user and perform follow task .\"]],\n        columns: [[\"number\", \"index\"], [\"string\", \"Original Word\"], [\"string\", \"Lemmatized Form\"], [\"string\", \"Stemmed Form\"]],\n        columnOptions: [{\"width\": \"1px\", \"className\": \"index_column\"}],\n        rowsPerPage: 25,\n        helpUrl: \"https://colab.research.google.com/notebooks/data_table.ipynb\",\n        suppressOutputScrolling: true,\n        minimumWidth: undefined,\n      });\n\n      function appendQuickchartButton(parentElement) {\n        let quickchartButtonContainerElement = document.createElement('div');\n        quickchartButtonContainerElement.innerHTML = `\n<div id=\"df-17f17b8e-fbad-4131-a904-cae058444293\">\n  <button class=\"colab-df-quickchart\" onclick=\"quickchart('df-17f17b8e-fbad-4131-a904-cae058444293')\"\n            title=\"Suggest charts\"\n            style=\"display:none;\">\n    \n<svg xmlns=\"http://www.w3.org/2000/svg\" height=\"24px\"viewBox=\"0 0 24 24\"\n     width=\"24px\">\n    <g>\n        <path d=\"M19 3H5c-1.1 0-2 .9-2 2v14c0 1.1.9 2 2 2h14c1.1 0 2-.9 2-2V5c0-1.1-.9-2-2-2zM9 17H7v-7h2v7zm4 0h-2V7h2v10zm4 0h-2v-4h2v4z\"/>\n    </g>\n</svg>\n  </button>\n  \n<style>\n  .colab-df-quickchart {\n      --bg-color: #E8F0FE;\n      --fill-color: #1967D2;\n      --hover-bg-color: #E2EBFA;\n      --hover-fill-color: #174EA6;\n      --disabled-fill-color: #AAA;\n      --disabled-bg-color: #DDD;\n  }\n\n  [theme=dark] .colab-df-quickchart {\n      --bg-color: #3B4455;\n      --fill-color: #D2E3FC;\n      --hover-bg-color: #434B5C;\n      --hover-fill-color: #FFFFFF;\n      --disabled-bg-color: #3B4455;\n      --disabled-fill-color: #666;\n  }\n\n  .colab-df-quickchart {\n    background-color: var(--bg-color);\n    border: none;\n    border-radius: 50%;\n    cursor: pointer;\n    display: none;\n    fill: var(--fill-color);\n    height: 32px;\n    padding: 0;\n    width: 32px;\n  }\n\n  .colab-df-quickchart:hover {\n    background-color: var(--hover-bg-color);\n    box-shadow: 0 1px 2px rgba(60, 64, 67, 0.3), 0 1px 3px 1px rgba(60, 64, 67, 0.15);\n    fill: var(--button-hover-fill-color);\n  }\n\n  .colab-df-quickchart-complete:disabled,\n  .colab-df-quickchart-complete:disabled:hover {\n    background-color: var(--disabled-bg-color);\n    fill: var(--disabled-fill-color);\n    box-shadow: none;\n  }\n\n  .colab-df-spinner {\n    border: 2px solid var(--fill-color);\n    border-color: transparent;\n    border-bottom-color: var(--fill-color);\n    animation:\n      spin 1s steps(1) infinite;\n  }\n\n  @keyframes spin {\n    0% {\n      border-color: transparent;\n      border-bottom-color: var(--fill-color);\n      border-left-color: var(--fill-color);\n    }\n    20% {\n      border-color: transparent;\n      border-left-color: var(--fill-color);\n      border-top-color: var(--fill-color);\n    }\n    30% {\n      border-color: transparent;\n      border-left-color: var(--fill-color);\n      border-top-color: var(--fill-color);\n      border-right-color: var(--fill-color);\n    }\n    40% {\n      border-color: transparent;\n      border-right-color: var(--fill-color);\n      border-top-color: var(--fill-color);\n    }\n    60% {\n      border-color: transparent;\n      border-right-color: var(--fill-color);\n    }\n    80% {\n      border-color: transparent;\n      border-right-color: var(--fill-color);\n      border-bottom-color: var(--fill-color);\n    }\n    90% {\n      border-color: transparent;\n      border-bottom-color: var(--fill-color);\n    }\n  }\n</style>\n\n  <script>\n    async function quickchart(key) {\n      const quickchartButtonEl =\n        document.querySelector('#' + key + ' button');\n      quickchartButtonEl.disabled = true;  // To prevent multiple clicks.\n      quickchartButtonEl.classList.add('colab-df-spinner');\n      try {\n        const charts = await google.colab.kernel.invokeFunction(\n            'suggestCharts', [key], {});\n      } catch (error) {\n        console.error('Error during call to suggestCharts:', error);\n      }\n      quickchartButtonEl.classList.remove('colab-df-spinner');\n      quickchartButtonEl.classList.add('colab-df-quickchart-complete');\n    }\n    (() => {\n      let quickchartButtonEl =\n        document.querySelector('#df-17f17b8e-fbad-4131-a904-cae058444293 button');\n      quickchartButtonEl.style.display =\n        google.colab.kernel.accessAllowed ? 'block' : 'none';\n    })();\n  </script>\n</div>`;\n        parentElement.appendChild(quickchartButtonContainerElement);\n      }\n\n      appendQuickchartButton(table);\n    "
          },
          "metadata": {},
          "execution_count": 6
        }
      ]
    },
    {
      "cell_type": "markdown",
      "source": [
        "# 4.Create a python file named “PreProcess” and perform the following tasks."
      ],
      "metadata": {
        "id": "cn5QT5obFEld"
      }
    },
    {
      "cell_type": "markdown",
      "source": [
        "- Copy the function “Tokenize” in this file from question 1\n",
        "- Copy thefunction “RemoveStopWords” in this file from question 2\n",
        "- Copy the function “Lemmatize” in this file from question 3\n",
        "\n",
        "Create a function named “Refine” which accepts a string and call the above 3 functions in the same order i.e. first Tokenize then RemoveStopWords then Lemmatize.\n",
        "\n",
        "Remember:\n",
        "\n",
        "            >Inputted string will be input to Tokenize Function\n",
        "\n",
        "            > Tokenized String will be input to RemoveStopWords function\n",
        "\n",
        "            > StopWordsRemoved string will be input to Lemmatize function\n",
        "\n",
        "  Save this python file as PreProcess and you can use this for upcoming assignments."
      ],
      "metadata": {
        "id": "ON8xqP_QFMXT"
      }
    },
    {
      "cell_type": "code",
      "source": [
        "def refine(text):\n",
        "    tokens = tokenize(text)\n",
        "    filtered_words, stop_words_text = remove_stop_words(text)\n",
        "    lemmatized_words = lemmatize(filtered_words)\n",
        "    return lemmatized_words"
      ],
      "metadata": {
        "id": "1E6TF8AshdNZ"
      },
      "execution_count": 7,
      "outputs": []
    },
    {
      "cell_type": "code",
      "source": [
        "# Sample text\n",
        "sample_text = input(\"Enter a string: \")\n",
        "#sample_text =  'Sun Pharmaceutical Industries Ltd on Tuesday said it will acquire a 16.33 per cent stake in Surgimatix, Inc, a US-based firm for $3.05 million (over Rs 25 crore). Sun Pharmaceutical has signed a definitive merger agreement for the acquisition of all outstanding ordinary shares of Taro Pharmaceutical not currently owned by the company or its affiliates for $347.73m (Rs28. 92bn) in cash.'\n",
        "lemmatized_words = refine(sample_text)\n",
        "print(f\"lemmatized words : {lemmatized_words}\")"
      ],
      "metadata": {
        "colab": {
          "base_uri": "https://localhost:8080/"
        },
        "id": "NN9hYuSChrQo",
        "outputId": "df665145-c28b-413a-90d2-debbfd5cd18f"
      },
      "execution_count": 8,
      "outputs": [
        {
          "output_type": "stream",
          "name": "stdout",
          "text": [
            "Enter a string: 2.Write a program to enter a string from user and perform following tasks.\n",
            "lemmatized words : 2.Write program enter string user perform following task .\n"
          ]
        }
      ]
    },
    {
      "cell_type": "code",
      "source": [
        "# Create a new Python file named \"PreProcess.py\"\n",
        "with open(\"/content/drive/MyDrive/Colab Work/Edureka AI Certification/Re-Usable Code/PreProcess.py\", \"w\") as f:\n",
        "    # Copy the function \"Tokenize\" from question 1\n",
        "    f.write(\"\"\"\n",
        "def tokenize(text):\n",
        "    tokens = word_tokenize(text)\n",
        "    return tokens\n",
        "\"\"\")\n",
        "\n",
        "    # Copy the function \"RemoveStopWords\" from question 2\n",
        "    f.write(\"\"\"\n",
        "def remove_stop_words(text):\n",
        "    stop_words = stopwords.words('english')\n",
        "    words = word_tokenize(text)\n",
        "    filtered_words = [word for word in words if word.lower() not in stop_words]\n",
        "    stop_words_text = [word for word in words if word.lower() in stop_words]\n",
        "    return  ' '.join(filtered_words) ,  stop_words_text\n",
        "\"\"\")\n",
        "\n",
        "    # Copy the function \"Lemmatize\" from question 3\n",
        "    f.write(\"\"\"\n",
        "def lemmatize(text):\n",
        "    lemmatizer = WordNetLemmatizer()\n",
        "    words = word_tokenize(text)\n",
        "    lemmatized_words = [lemmatizer.lemmatize(word) for word in words]\n",
        "    return ' '.join(lemmatized_words)\n",
        "\"\"\")\n",
        "\n",
        "    # Add the function \"Refine\" from question 4\n",
        "    f.write(\"\"\"\n",
        "def refine(text):\n",
        "    !pip install nltk\n",
        "    import nltk\n",
        "    nltk.download('punkt')\n",
        "    from nltk.tokenize import word_tokenize\n",
        "    nltk.download('stopwords')\n",
        "    from nltk.corpus import stopwords\n",
        "    nltk.download('wordnet')\n",
        "    from nltk.stem import wordnet\n",
        "    from nltk.stem import WordNetLemmatizer\n",
        "    tokens = tokenize(text)\n",
        "    filtered_words, stop_words_text = remove_stop_words(text)\n",
        "    lemmatized_words = lemmatize(filtered_words)\n",
        "    return lemmatized_words\n",
        "\"\"\")\n",
        "\n",
        "# Save the file\n",
        "print(\"PreProcess.py file created successfully!\")\n"
      ],
      "metadata": {
        "colab": {
          "base_uri": "https://localhost:8080/"
        },
        "id": "iKnmfLLRh22H",
        "outputId": "d86cd246-e31d-4cbf-8d76-a154789723bd"
      },
      "execution_count": 9,
      "outputs": [
        {
          "output_type": "stream",
          "name": "stdout",
          "text": [
            "PreProcess.py file created successfully!\n"
          ]
        }
      ]
    }
  ]
}