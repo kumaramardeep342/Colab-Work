{
  "nbformat": 4,
  "nbformat_minor": 0,
  "metadata": {
    "colab": {
      "provenance": [],
      "toc_visible": true,
      "gpuType": "T4",
      "mount_file_id": "11DaYrdZ73Z9DRpnnFyebEccRdBjMkoK7",
      "authorship_tag": "ABX9TyPqY291EnuTn7tMM9YCdT2Y",
      "include_colab_link": true
    },
    "kernelspec": {
      "name": "python3",
      "display_name": "Python 3"
    },
    "language_info": {
      "name": "python"
    },
    "accelerator": "GPU"
  },
  "cells": [
    {
      "cell_type": "markdown",
      "metadata": {
        "id": "view-in-github",
        "colab_type": "text"
      },
      "source": [
        "<a href=\"https://colab.research.google.com/github/kumaramardeep342/Colab-Work/blob/main/Ed_AI__DL_M6_inclass_Classifying_handwritten_digits_using_TensorFlow_2_0.ipynb\" target=\"_parent\"><img src=\"https://colab.research.google.com/assets/colab-badge.svg\" alt=\"Open In Colab\"/></a>"
      ]
    },
    {
      "cell_type": "code",
      "source": [
        "#Mount the Google Drive\n",
        "# from google.colab import drive\n",
        "# drive.mount('/content/drive')"
      ],
      "metadata": {
        "id": "uKzeTcoFfRNt"
      },
      "execution_count": 1,
      "outputs": []
    },
    {
      "cell_type": "markdown",
      "source": [
        "# Classifying Handwritten digits using Tensorflow"
      ],
      "metadata": {
        "id": "Zfjs-YqQG94U"
      }
    },
    {
      "cell_type": "markdown",
      "source": [
        "##Problem Statement"
      ],
      "metadata": {
        "id": "OoTjC__6KIG0"
      }
    },
    {
      "cell_type": "markdown",
      "source": [
        "MNIST (\"Modified National Institute of Standards and Technology\") Handwritten Digit Classification Dataset .\n",
        "In this notebook , goal is to correctly identify digits from a dataset of thousands of handwritten images.\n",
        "\n",
        "![alt text](https://i.imgur.com/Su00XUA.png)"
      ],
      "metadata": {
        "id": "6ajXelmMKP3i"
      }
    },
    {
      "cell_type": "markdown",
      "source": [
        "####**Dataset Description**"
      ],
      "metadata": {
        "id": "baAnfAwpLVLR"
      }
    },
    {
      "cell_type": "markdown",
      "source": [
        "- **[MNIST Handwritten Digit Classification Dataset](http://yann.lecun.com/exdb/mnist/)**\n",
        "- Black and White Images of handwritten digits - MNIST Data\n",
        "- 28 pixels height and 28 pixels width, total of 784 pixels\n",
        "- 60,000 training images and 10,000 testing images in dataset.\n",
        "- Pixel-value 0 to 255\n",
        "- 10 classes [0,1,2,3,4,5,6,7,8 and 9] - 6000 images per class in training"
      ],
      "metadata": {
        "id": "l4b0x7wfLgxT"
      }
    },
    {
      "cell_type": "markdown",
      "source": [
        "####**Summary of  the Notebook**"
      ],
      "metadata": {
        "id": "k245dnaEPDMv"
      }
    },
    {
      "cell_type": "markdown",
      "source": [
        "- Install Tensorflow 2.x\n",
        "- Import the required libraries - tensorflow\n",
        "- Read the dataset - Understanding - Preprocessing\n",
        "- Split the dataset to training and testing[Already Done]\n",
        "- Create a Model\n",
        "- Check accuracy - validation\n",
        "-  Tune Parameters\n",
        "- Accuracy - validation"
      ],
      "metadata": {
        "id": "5DhGHd68UVUy"
      }
    },
    {
      "cell_type": "markdown",
      "source": [
        "# Model Classifying Handwritten digits using Tensorflow"
      ],
      "metadata": {
        "id": "QrKlEkbUUw4j"
      }
    },
    {
      "cell_type": "markdown",
      "source": [
        "##Installing TensorFlow"
      ],
      "metadata": {
        "id": "9NaLVsHGVDdJ"
      }
    },
    {
      "cell_type": "code",
      "execution_count": 2,
      "metadata": {
        "id": "rH9_wUc6VsoG",
        "colab": {
          "base_uri": "https://localhost:8080/"
        },
        "outputId": "f50d6dc4-a8f6-48f0-d0e1-1ce4640464de"
      },
      "outputs": [
        {
          "output_type": "stream",
          "name": "stdout",
          "text": [
            "Requirement already satisfied: tensorflow in /usr/local/lib/python3.10/dist-packages (2.15.0)\n",
            "Requirement already satisfied: absl-py>=1.0.0 in /usr/local/lib/python3.10/dist-packages (from tensorflow) (1.4.0)\n",
            "Requirement already satisfied: astunparse>=1.6.0 in /usr/local/lib/python3.10/dist-packages (from tensorflow) (1.6.3)\n",
            "Requirement already satisfied: flatbuffers>=23.5.26 in /usr/local/lib/python3.10/dist-packages (from tensorflow) (24.3.25)\n",
            "Requirement already satisfied: gast!=0.5.0,!=0.5.1,!=0.5.2,>=0.2.1 in /usr/local/lib/python3.10/dist-packages (from tensorflow) (0.6.0)\n",
            "Requirement already satisfied: google-pasta>=0.1.1 in /usr/local/lib/python3.10/dist-packages (from tensorflow) (0.2.0)\n",
            "Requirement already satisfied: h5py>=2.9.0 in /usr/local/lib/python3.10/dist-packages (from tensorflow) (3.9.0)\n",
            "Requirement already satisfied: libclang>=13.0.0 in /usr/local/lib/python3.10/dist-packages (from tensorflow) (18.1.1)\n",
            "Requirement already satisfied: ml-dtypes~=0.2.0 in /usr/local/lib/python3.10/dist-packages (from tensorflow) (0.2.0)\n",
            "Requirement already satisfied: numpy<2.0.0,>=1.23.5 in /usr/local/lib/python3.10/dist-packages (from tensorflow) (1.25.2)\n",
            "Requirement already satisfied: opt-einsum>=2.3.2 in /usr/local/lib/python3.10/dist-packages (from tensorflow) (3.3.0)\n",
            "Requirement already satisfied: packaging in /usr/local/lib/python3.10/dist-packages (from tensorflow) (24.1)\n",
            "Requirement already satisfied: protobuf!=4.21.0,!=4.21.1,!=4.21.2,!=4.21.3,!=4.21.4,!=4.21.5,<5.0.0dev,>=3.20.3 in /usr/local/lib/python3.10/dist-packages (from tensorflow) (3.20.3)\n",
            "Requirement already satisfied: setuptools in /usr/local/lib/python3.10/dist-packages (from tensorflow) (67.7.2)\n",
            "Requirement already satisfied: six>=1.12.0 in /usr/local/lib/python3.10/dist-packages (from tensorflow) (1.16.0)\n",
            "Requirement already satisfied: termcolor>=1.1.0 in /usr/local/lib/python3.10/dist-packages (from tensorflow) (2.4.0)\n",
            "Requirement already satisfied: typing-extensions>=3.6.6 in /usr/local/lib/python3.10/dist-packages (from tensorflow) (4.12.2)\n",
            "Requirement already satisfied: wrapt<1.15,>=1.11.0 in /usr/local/lib/python3.10/dist-packages (from tensorflow) (1.14.1)\n",
            "Requirement already satisfied: tensorflow-io-gcs-filesystem>=0.23.1 in /usr/local/lib/python3.10/dist-packages (from tensorflow) (0.37.0)\n",
            "Requirement already satisfied: grpcio<2.0,>=1.24.3 in /usr/local/lib/python3.10/dist-packages (from tensorflow) (1.64.1)\n",
            "Requirement already satisfied: tensorboard<2.16,>=2.15 in /usr/local/lib/python3.10/dist-packages (from tensorflow) (2.15.2)\n",
            "Requirement already satisfied: tensorflow-estimator<2.16,>=2.15.0 in /usr/local/lib/python3.10/dist-packages (from tensorflow) (2.15.0)\n",
            "Requirement already satisfied: keras<2.16,>=2.15.0 in /usr/local/lib/python3.10/dist-packages (from tensorflow) (2.15.0)\n",
            "Requirement already satisfied: wheel<1.0,>=0.23.0 in /usr/local/lib/python3.10/dist-packages (from astunparse>=1.6.0->tensorflow) (0.43.0)\n",
            "Requirement already satisfied: google-auth<3,>=1.6.3 in /usr/local/lib/python3.10/dist-packages (from tensorboard<2.16,>=2.15->tensorflow) (2.27.0)\n",
            "Requirement already satisfied: google-auth-oauthlib<2,>=0.5 in /usr/local/lib/python3.10/dist-packages (from tensorboard<2.16,>=2.15->tensorflow) (1.2.0)\n",
            "Requirement already satisfied: markdown>=2.6.8 in /usr/local/lib/python3.10/dist-packages (from tensorboard<2.16,>=2.15->tensorflow) (3.6)\n",
            "Requirement already satisfied: requests<3,>=2.21.0 in /usr/local/lib/python3.10/dist-packages (from tensorboard<2.16,>=2.15->tensorflow) (2.31.0)\n",
            "Requirement already satisfied: tensorboard-data-server<0.8.0,>=0.7.0 in /usr/local/lib/python3.10/dist-packages (from tensorboard<2.16,>=2.15->tensorflow) (0.7.2)\n",
            "Requirement already satisfied: werkzeug>=1.0.1 in /usr/local/lib/python3.10/dist-packages (from tensorboard<2.16,>=2.15->tensorflow) (3.0.3)\n",
            "Requirement already satisfied: cachetools<6.0,>=2.0.0 in /usr/local/lib/python3.10/dist-packages (from google-auth<3,>=1.6.3->tensorboard<2.16,>=2.15->tensorflow) (5.3.3)\n",
            "Requirement already satisfied: pyasn1-modules>=0.2.1 in /usr/local/lib/python3.10/dist-packages (from google-auth<3,>=1.6.3->tensorboard<2.16,>=2.15->tensorflow) (0.4.0)\n",
            "Requirement already satisfied: rsa<5,>=3.1.4 in /usr/local/lib/python3.10/dist-packages (from google-auth<3,>=1.6.3->tensorboard<2.16,>=2.15->tensorflow) (4.9)\n",
            "Requirement already satisfied: requests-oauthlib>=0.7.0 in /usr/local/lib/python3.10/dist-packages (from google-auth-oauthlib<2,>=0.5->tensorboard<2.16,>=2.15->tensorflow) (1.3.1)\n",
            "Requirement already satisfied: charset-normalizer<4,>=2 in /usr/local/lib/python3.10/dist-packages (from requests<3,>=2.21.0->tensorboard<2.16,>=2.15->tensorflow) (3.3.2)\n",
            "Requirement already satisfied: idna<4,>=2.5 in /usr/local/lib/python3.10/dist-packages (from requests<3,>=2.21.0->tensorboard<2.16,>=2.15->tensorflow) (3.7)\n",
            "Requirement already satisfied: urllib3<3,>=1.21.1 in /usr/local/lib/python3.10/dist-packages (from requests<3,>=2.21.0->tensorboard<2.16,>=2.15->tensorflow) (2.0.7)\n",
            "Requirement already satisfied: certifi>=2017.4.17 in /usr/local/lib/python3.10/dist-packages (from requests<3,>=2.21.0->tensorboard<2.16,>=2.15->tensorflow) (2024.6.2)\n",
            "Requirement already satisfied: MarkupSafe>=2.1.1 in /usr/local/lib/python3.10/dist-packages (from werkzeug>=1.0.1->tensorboard<2.16,>=2.15->tensorflow) (2.1.5)\n",
            "Requirement already satisfied: pyasn1<0.7.0,>=0.4.6 in /usr/local/lib/python3.10/dist-packages (from pyasn1-modules>=0.2.1->google-auth<3,>=1.6.3->tensorboard<2.16,>=2.15->tensorflow) (0.6.0)\n",
            "Requirement already satisfied: oauthlib>=3.0.0 in /usr/local/lib/python3.10/dist-packages (from requests-oauthlib>=0.7.0->google-auth-oauthlib<2,>=0.5->tensorboard<2.16,>=2.15->tensorflow) (3.2.2)\n"
          ]
        }
      ],
      "source": [
        "! pip install tensorflow # install tensorflow library"
      ]
    },
    {
      "cell_type": "code",
      "source": [
        "# verify installation\n",
        "import tensorflow as tf  #importing tensorflow\n",
        "from tensorflow import keras #fatser imlementation tensorflow\n",
        "\n",
        "#check tf.keras version\n",
        "print(tf.__version__)"
      ],
      "metadata": {
        "colab": {
          "base_uri": "https://localhost:8080/"
        },
        "id": "AB9loPyYVpVb",
        "outputId": "db9acc84-eeb3-470e-91bb-6e963c9338f6"
      },
      "execution_count": 3,
      "outputs": [
        {
          "output_type": "stream",
          "name": "stdout",
          "text": [
            "2.15.0\n"
          ]
        }
      ]
    },
    {
      "cell_type": "markdown",
      "source": [
        "## Import the required libraries - tensorflow"
      ],
      "metadata": {
        "id": "ELbkNBf9bj3w"
      }
    },
    {
      "cell_type": "code",
      "source": [
        "#enable table format\n",
        "from google.colab import data_table\n",
        "data_table.enable_dataframe_formatter()\n",
        "\n",
        "#disable table format\n",
        "# from google.colab import data_table\n",
        "# data_table.disable_dataframe_formatter()\n",
        "\n",
        "import pandas as pd  # for reading the dataset\n",
        "import numpy as np  # for mathematical operations"
      ],
      "metadata": {
        "id": "Er-lFW_iezeY"
      },
      "execution_count": 4,
      "outputs": []
    },
    {
      "cell_type": "markdown",
      "source": [
        "##Preparing the Data"
      ],
      "metadata": {
        "id": "Zaa6Xge_bHZC"
      }
    },
    {
      "cell_type": "markdown",
      "source": [
        "###Loading the Data"
      ],
      "metadata": {
        "id": "sW2yvxNVbKV4"
      }
    },
    {
      "cell_type": "code",
      "source": [
        "mnist = keras.datasets.mnist #loading the dataset\n",
        "(X_train,Y_train),(X_test,Y_test) = mnist.load_data() #training and testing dataset\n",
        "## X_train - x_data - images\n",
        "## Y_data -> number of classes"
      ],
      "metadata": {
        "colab": {
          "base_uri": "https://localhost:8080/"
        },
        "id": "qzTa9StDgv6k",
        "outputId": "e11a4bd5-4a2a-4355-8a49-8f6d510f6cdb"
      },
      "execution_count": 5,
      "outputs": [
        {
          "output_type": "stream",
          "name": "stdout",
          "text": [
            "Downloading data from https://storage.googleapis.com/tensorflow/tf-keras-datasets/mnist.npz\n",
            "11490434/11490434 [==============================] - 0s 0us/step\n"
          ]
        }
      ]
    },
    {
      "cell_type": "code",
      "source": [
        "X_train[0]\n",
        "#Y_train[0]"
      ],
      "metadata": {
        "colab": {
          "base_uri": "https://localhost:8080/",
          "height": 68
        },
        "id": "uMTnc76cjnQQ",
        "outputId": "691dea90-7058-436f-f367-4bf43a179f6a"
      },
      "execution_count": 6,
      "outputs": [
        {
          "output_type": "execute_result",
          "data": {
            "text/plain": [
              "array([[  0,   0,   0,   0,   0,   0,   0,   0,   0,   0,   0,   0,   0,\n",
              "          0,   0,   0,   0,   0,   0,   0,   0,   0,   0,   0,   0,   0,\n",
              "          0,   0],\n",
              "       [  0,   0,   0,   0,   0,   0,   0,   0,   0,   0,   0,   0,   0,\n",
              "          0,   0,   0,   0,   0,   0,   0,   0,   0,   0,   0,   0,   0,\n",
              "          0,   0],\n",
              "       [  0,   0,   0,   0,   0,   0,   0,   0,   0,   0,   0,   0,   0,\n",
              "          0,   0,   0,   0,   0,   0,   0,   0,   0,   0,   0,   0,   0,\n",
              "          0,   0],\n",
              "       [  0,   0,   0,   0,   0,   0,   0,   0,   0,   0,   0,   0,   0,\n",
              "          0,   0,   0,   0,   0,   0,   0,   0,   0,   0,   0,   0,   0,\n",
              "          0,   0],\n",
              "       [  0,   0,   0,   0,   0,   0,   0,   0,   0,   0,   0,   0,   0,\n",
              "          0,   0,   0,   0,   0,   0,   0,   0,   0,   0,   0,   0,   0,\n",
              "          0,   0],\n",
              "       [  0,   0,   0,   0,   0,   0,   0,   0,   0,   0,   0,   0,   3,\n",
              "         18,  18,  18, 126, 136, 175,  26, 166, 255, 247, 127,   0,   0,\n",
              "          0,   0],\n",
              "       [  0,   0,   0,   0,   0,   0,   0,   0,  30,  36,  94, 154, 170,\n",
              "        253, 253, 253, 253, 253, 225, 172, 253, 242, 195,  64,   0,   0,\n",
              "          0,   0],\n",
              "       [  0,   0,   0,   0,   0,   0,   0,  49, 238, 253, 253, 253, 253,\n",
              "        253, 253, 253, 253, 251,  93,  82,  82,  56,  39,   0,   0,   0,\n",
              "          0,   0],\n",
              "       [  0,   0,   0,   0,   0,   0,   0,  18, 219, 253, 253, 253, 253,\n",
              "        253, 198, 182, 247, 241,   0,   0,   0,   0,   0,   0,   0,   0,\n",
              "          0,   0],\n",
              "       [  0,   0,   0,   0,   0,   0,   0,   0,  80, 156, 107, 253, 253,\n",
              "        205,  11,   0,  43, 154,   0,   0,   0,   0,   0,   0,   0,   0,\n",
              "          0,   0],\n",
              "       [  0,   0,   0,   0,   0,   0,   0,   0,   0,  14,   1, 154, 253,\n",
              "         90,   0,   0,   0,   0,   0,   0,   0,   0,   0,   0,   0,   0,\n",
              "          0,   0],\n",
              "       [  0,   0,   0,   0,   0,   0,   0,   0,   0,   0,   0, 139, 253,\n",
              "        190,   2,   0,   0,   0,   0,   0,   0,   0,   0,   0,   0,   0,\n",
              "          0,   0],\n",
              "       [  0,   0,   0,   0,   0,   0,   0,   0,   0,   0,   0,  11, 190,\n",
              "        253,  70,   0,   0,   0,   0,   0,   0,   0,   0,   0,   0,   0,\n",
              "          0,   0],\n",
              "       [  0,   0,   0,   0,   0,   0,   0,   0,   0,   0,   0,   0,  35,\n",
              "        241, 225, 160, 108,   1,   0,   0,   0,   0,   0,   0,   0,   0,\n",
              "          0,   0],\n",
              "       [  0,   0,   0,   0,   0,   0,   0,   0,   0,   0,   0,   0,   0,\n",
              "         81, 240, 253, 253, 119,  25,   0,   0,   0,   0,   0,   0,   0,\n",
              "          0,   0],\n",
              "       [  0,   0,   0,   0,   0,   0,   0,   0,   0,   0,   0,   0,   0,\n",
              "          0,  45, 186, 253, 253, 150,  27,   0,   0,   0,   0,   0,   0,\n",
              "          0,   0],\n",
              "       [  0,   0,   0,   0,   0,   0,   0,   0,   0,   0,   0,   0,   0,\n",
              "          0,   0,  16,  93, 252, 253, 187,   0,   0,   0,   0,   0,   0,\n",
              "          0,   0],\n",
              "       [  0,   0,   0,   0,   0,   0,   0,   0,   0,   0,   0,   0,   0,\n",
              "          0,   0,   0,   0, 249, 253, 249,  64,   0,   0,   0,   0,   0,\n",
              "          0,   0],\n",
              "       [  0,   0,   0,   0,   0,   0,   0,   0,   0,   0,   0,   0,   0,\n",
              "          0,  46, 130, 183, 253, 253, 207,   2,   0,   0,   0,   0,   0,\n",
              "          0,   0],\n",
              "       [  0,   0,   0,   0,   0,   0,   0,   0,   0,   0,   0,   0,  39,\n",
              "        148, 229, 253, 253, 253, 250, 182,   0,   0,   0,   0,   0,   0,\n",
              "          0,   0],\n",
              "       [  0,   0,   0,   0,   0,   0,   0,   0,   0,   0,  24, 114, 221,\n",
              "        253, 253, 253, 253, 201,  78,   0,   0,   0,   0,   0,   0,   0,\n",
              "          0,   0],\n",
              "       [  0,   0,   0,   0,   0,   0,   0,   0,  23,  66, 213, 253, 253,\n",
              "        253, 253, 198,  81,   2,   0,   0,   0,   0,   0,   0,   0,   0,\n",
              "          0,   0],\n",
              "       [  0,   0,   0,   0,   0,   0,  18, 171, 219, 253, 253, 253, 253,\n",
              "        195,  80,   9,   0,   0,   0,   0,   0,   0,   0,   0,   0,   0,\n",
              "          0,   0],\n",
              "       [  0,   0,   0,   0,  55, 172, 226, 253, 253, 253, 253, 244, 133,\n",
              "         11,   0,   0,   0,   0,   0,   0,   0,   0,   0,   0,   0,   0,\n",
              "          0,   0],\n",
              "       [  0,   0,   0,   0, 136, 253, 253, 253, 212, 135, 132,  16,   0,\n",
              "          0,   0,   0,   0,   0,   0,   0,   0,   0,   0,   0,   0,   0,\n",
              "          0,   0],\n",
              "       [  0,   0,   0,   0,   0,   0,   0,   0,   0,   0,   0,   0,   0,\n",
              "          0,   0,   0,   0,   0,   0,   0,   0,   0,   0,   0,   0,   0,\n",
              "          0,   0],\n",
              "       [  0,   0,   0,   0,   0,   0,   0,   0,   0,   0,   0,   0,   0,\n",
              "          0,   0,   0,   0,   0,   0,   0,   0,   0,   0,   0,   0,   0,\n",
              "          0,   0],\n",
              "       [  0,   0,   0,   0,   0,   0,   0,   0,   0,   0,   0,   0,   0,\n",
              "          0,   0,   0,   0,   0,   0,   0,   0,   0,   0,   0,   0,   0,\n",
              "          0,   0]], dtype=uint8)"
            ],
            "text/html": [
              "<style>\n",
              "      .ndarray_repr .ndarray_raw_data {\n",
              "        display: none;\n",
              "      }\n",
              "      .ndarray_repr.show_array .ndarray_raw_data {\n",
              "        display: block;\n",
              "      }\n",
              "      .ndarray_repr.show_array .ndarray_image_preview {\n",
              "        display: none;\n",
              "      }\n",
              "      </style>\n",
              "      <div id=\"id-a6b54070-12b5-40e7-881c-7dda4c529613\" class=\"ndarray_repr\"><pre>ndarray (28, 28) <button style=\"padding: 0 2px;\">show data</button></pre><img src=\"data:image/png;base64,iVBORw0KGgoAAAANSUhEUgAAABwAAAAcCAAAAABXZoBIAAABAElEQVR4nGNgGMyAWUhIqK5jvdSy/9/rGRgYGFhgEnJsVjYCwQwMDAxPJgV+vniQgYGBgREqZ7iXH8r6l/SV4dn7m8gmCt3++/fv37/Htn3/iMW+gDnZf/+e5WbQnoXNNXyMs/5GoQoxwVmf/n9kSGFiwAW49/11wynJoPzx4YIcRlyygR/+/i2XxCWru+vv32nSuGQFYv/83Y3b4p9/fzpAmSyoMnohpiwM1w5h06Q+5enfv39/bcMiJVF09+/fv39P+mFKiTtd/fv3799jgZiBJLT69t+/f/8eDuDEkDJf8+jv379/v7Ryo4qzMDAwMAQGMjBc3/y35wM2V1IfAABFF16Aa0wAOwAAAABJRU5ErkJggg==\" class=\"ndarray_image_preview\" /><pre class=\"ndarray_raw_data\">array([[  0,   0,   0,   0,   0,   0,   0,   0,   0,   0,   0,   0,   0,\n",
              "          0,   0,   0,   0,   0,   0,   0,   0,   0,   0,   0,   0,   0,\n",
              "          0,   0],\n",
              "       [  0,   0,   0,   0,   0,   0,   0,   0,   0,   0,   0,   0,   0,\n",
              "          0,   0,   0,   0,   0,   0,   0,   0,   0,   0,   0,   0,   0,\n",
              "          0,   0],\n",
              "       [  0,   0,   0,   0,   0,   0,   0,   0,   0,   0,   0,   0,   0,\n",
              "          0,   0,   0,   0,   0,   0,   0,   0,   0,   0,   0,   0,   0,\n",
              "          0,   0],\n",
              "       [  0,   0,   0,   0,   0,   0,   0,   0,   0,   0,   0,   0,   0,\n",
              "          0,   0,   0,   0,   0,   0,   0,   0,   0,   0,   0,   0,   0,\n",
              "          0,   0],\n",
              "       [  0,   0,   0,   0,   0,   0,   0,   0,   0,   0,   0,   0,   0,\n",
              "          0,   0,   0,   0,   0,   0,   0,   0,   0,   0,   0,   0,   0,\n",
              "          0,   0],\n",
              "       [  0,   0,   0,   0,   0,   0,   0,   0,   0,   0,   0,   0,   3,\n",
              "         18,  18,  18, 126, 136, 175,  26, 166, 255, 247, 127,   0,   0,\n",
              "          0,   0],\n",
              "       [  0,   0,   0,   0,   0,   0,   0,   0,  30,  36,  94, 154, 170,\n",
              "        253, 253, 253, 253, 253, 225, 172, 253, 242, 195,  64,   0,   0,\n",
              "          0,   0],\n",
              "       [  0,   0,   0,   0,   0,   0,   0,  49, 238, 253, 253, 253, 253,\n",
              "        253, 253, 253, 253, 251,  93,  82,  82,  56,  39,   0,   0,   0,\n",
              "          0,   0],\n",
              "       [  0,   0,   0,   0,   0,   0,   0,  18, 219, 253, 253, 253, 253,\n",
              "        253, 198, 182, 247, 241,   0,   0,   0,   0,   0,   0,   0,   0,\n",
              "          0,   0],\n",
              "       [  0,   0,   0,   0,   0,   0,   0,   0,  80, 156, 107, 253, 253,\n",
              "        205,  11,   0,  43, 154,   0,   0,   0,   0,   0,   0,   0,   0,\n",
              "          0,   0],\n",
              "       [  0,   0,   0,   0,   0,   0,   0,   0,   0,  14,   1, 154, 253,\n",
              "         90,   0,   0,   0,   0,   0,   0,   0,   0,   0,   0,   0,   0,\n",
              "          0,   0],\n",
              "       [  0,   0,   0,   0,   0,   0,   0,   0,   0,   0,   0, 139, 253,\n",
              "        190,   2,   0,   0,   0,   0,   0,   0,   0,   0,   0,   0,   0,\n",
              "          0,   0],\n",
              "       [  0,   0,   0,   0,   0,   0,   0,   0,   0,   0,   0,  11, 190,\n",
              "        253,  70,   0,   0,   0,   0,   0,   0,   0,   0,   0,   0,   0,\n",
              "          0,   0],\n",
              "       [  0,   0,   0,   0,   0,   0,   0,   0,   0,   0,   0,   0,  35,\n",
              "        241, 225, 160, 108,   1,   0,   0,   0,   0,   0,   0,   0,   0,\n",
              "          0,   0],\n",
              "       [  0,   0,   0,   0,   0,   0,   0,   0,   0,   0,   0,   0,   0,\n",
              "         81, 240, 253, 253, 119,  25,   0,   0,   0,   0,   0,   0,   0,\n",
              "          0,   0],\n",
              "       [  0,   0,   0,   0,   0,   0,   0,   0,   0,   0,   0,   0,   0,\n",
              "          0,  45, 186, 253, 253, 150,  27,   0,   0,   0,   0,   0,   0,\n",
              "          0,   0],\n",
              "       [  0,   0,   0,   0,   0,   0,   0,   0,   0,   0,   0,   0,   0,\n",
              "          0,   0,  16,  93, 252, 253, 187,   0,   0,   0,   0,   0,   0,\n",
              "          0,   0],\n",
              "       [  0,   0,   0,   0,   0,   0,   0,   0,   0,   0,   0,   0,   0,\n",
              "          0,   0,   0,   0, 249, 253, 249,  64,   0,   0,   0,   0,   0,\n",
              "          0,   0],\n",
              "       [  0,   0,   0,   0,   0,   0,   0,   0,   0,   0,   0,   0,   0,\n",
              "          0,  46, 130, 183, 253, 253, 207,   2,   0,   0,   0,   0,   0,\n",
              "          0,   0],\n",
              "       [  0,   0,   0,   0,   0,   0,   0,   0,   0,   0,   0,   0,  39,\n",
              "        148, 229, 253, 253, 253, 250, 182,   0,   0,   0,   0,   0,   0,\n",
              "          0,   0],\n",
              "       [  0,   0,   0,   0,   0,   0,   0,   0,   0,   0,  24, 114, 221,\n",
              "        253, 253, 253, 253, 201,  78,   0,   0,   0,   0,   0,   0,   0,\n",
              "          0,   0],\n",
              "       [  0,   0,   0,   0,   0,   0,   0,   0,  23,  66, 213, 253, 253,\n",
              "        253, 253, 198,  81,   2,   0,   0,   0,   0,   0,   0,   0,   0,\n",
              "          0,   0],\n",
              "       [  0,   0,   0,   0,   0,   0,  18, 171, 219, 253, 253, 253, 253,\n",
              "        195,  80,   9,   0,   0,   0,   0,   0,   0,   0,   0,   0,   0,\n",
              "          0,   0],\n",
              "       [  0,   0,   0,   0,  55, 172, 226, 253, 253, 253, 253, 244, 133,\n",
              "         11,   0,   0,   0,   0,   0,   0,   0,   0,   0,   0,   0,   0,\n",
              "          0,   0],\n",
              "       [  0,   0,   0,   0, 136, 253, 253, 253, 212, 135, 132,  16,   0,\n",
              "          0,   0,   0,   0,   0,   0,   0,   0,   0,   0,   0,   0,   0,\n",
              "          0,   0],\n",
              "       [  0,   0,   0,   0,   0,   0,   0,   0,   0,   0,   0,   0,   0,\n",
              "          0,   0,   0,   0,   0,   0,   0,   0,   0,   0,   0,   0,   0,\n",
              "          0,   0],\n",
              "       [  0,   0,   0,   0,   0,   0,   0,   0,   0,   0,   0,   0,   0,\n",
              "          0,   0,   0,   0,   0,   0,   0,   0,   0,   0,   0,   0,   0,\n",
              "          0,   0],\n",
              "       [  0,   0,   0,   0,   0,   0,   0,   0,   0,   0,   0,   0,   0,\n",
              "          0,   0,   0,   0,   0,   0,   0,   0,   0,   0,   0,   0,   0,\n",
              "          0,   0]], dtype=uint8)</pre></div><script>\n",
              "      (() => {\n",
              "      const titles = ['show data', 'hide data'];\n",
              "      let index = 0\n",
              "      document.querySelector('#id-a6b54070-12b5-40e7-881c-7dda4c529613 button').onclick = (e) => {\n",
              "        document.querySelector('#id-a6b54070-12b5-40e7-881c-7dda4c529613').classList.toggle('show_array');\n",
              "        index = (++index) % 2;\n",
              "        document.querySelector('#id-a6b54070-12b5-40e7-881c-7dda4c529613 button').textContent = titles[index];\n",
              "        e.preventDefault();\n",
              "        e.stopPropagation();\n",
              "      }\n",
              "      })();\n",
              "    </script>"
            ]
          },
          "metadata": {},
          "execution_count": 6
        }
      ]
    },
    {
      "cell_type": "markdown",
      "source": [
        "- It will  require to flatten the array means 28x28 dimensional array to one single list of 784 index  (28x28).  Reason behind this Single layer perceptron and Multi Layer Perceptron can handle only 2 dimension data."
      ],
      "metadata": {
        "id": "4Jz4zB_dldaE"
      }
    },
    {
      "cell_type": "code",
      "source": [
        "#X_train[0].shape\n",
        "print(X_train.shape)\n",
        "print(X_test.shape)"
      ],
      "metadata": {
        "colab": {
          "base_uri": "https://localhost:8080/"
        },
        "id": "Z6SvyR_Xh2Pk",
        "outputId": "695ec45e-ac8a-42e8-9977-5c2b07deaba9"
      },
      "execution_count": 7,
      "outputs": [
        {
          "output_type": "stream",
          "name": "stdout",
          "text": [
            "(60000, 28, 28)\n",
            "(10000, 28, 28)\n"
          ]
        }
      ]
    },
    {
      "cell_type": "markdown",
      "source": [
        "###Data Preprocessing"
      ],
      "metadata": {
        "id": "DclzxNd0bRlJ"
      }
    },
    {
      "cell_type": "code",
      "source": [
        "#floating into decimals.Weight  can be decimal .\n",
        "X_train = X_train.astype('float32')\n",
        "X_test=X_test.astype('float32')"
      ],
      "metadata": {
        "id": "wPu9h4RLkzcY"
      },
      "execution_count": 8,
      "outputs": []
    },
    {
      "cell_type": "code",
      "source": [
        "# reshaping in 2- D array\n",
        "reshaped =784\n",
        "X_train = X_train.reshape(60000,reshaped)\n",
        "X_test = X_test.reshape(10000,reshaped)\n",
        "\n",
        "# converting in float32 to use 32- bit precision\n",
        "X_train = X_train.astype('float32')\n",
        "X_test = X_test.astype('float32')\n",
        "print(X_train.shape)\n",
        "\n",
        "#normalizing the input values\n",
        "X_train /= 255\n",
        "X_test /= 255\n",
        "\n",
        "print(X_train.shape[0],'train samples')\n",
        "print(X_test.shape[0],'test samples')\n"
      ],
      "metadata": {
        "colab": {
          "base_uri": "https://localhost:8080/"
        },
        "id": "Xn3jtqe6mFAI",
        "outputId": "2bcee422-4ade-46c3-bf12-b81ab01d8e93"
      },
      "execution_count": 9,
      "outputs": [
        {
          "output_type": "stream",
          "name": "stdout",
          "text": [
            "(60000, 784)\n",
            "60000 train samples\n",
            "10000 test samples\n"
          ]
        }
      ]
    },
    {
      "cell_type": "markdown",
      "source": [
        "### One-Hot Encoding\n",
        "- Best for multi-class classification"
      ],
      "metadata": {
        "id": "Y7u08JPNoVX6"
      }
    },
    {
      "cell_type": "code",
      "source": [
        "# One-hot representation of the labels\n",
        "Y_train=keras.utils.to_categorical(Y_train,10) # 10 represent number of unique class\n",
        "Y_test=keras.utils.to_categorical(Y_test,10)\n",
        "print(Y_train.shape)\n",
        "Y_train[0]"
      ],
      "metadata": {
        "colab": {
          "base_uri": "https://localhost:8080/"
        },
        "id": "1jUfu4gboa2K",
        "outputId": "faf195a9-0b17-46e3-c67b-ec91164d1875"
      },
      "execution_count": 10,
      "outputs": [
        {
          "output_type": "stream",
          "name": "stdout",
          "text": [
            "(60000, 10)\n"
          ]
        },
        {
          "output_type": "execute_result",
          "data": {
            "text/plain": [
              "array([0., 0., 0., 0., 0., 1., 0., 0., 0., 0.], dtype=float32)"
            ]
          },
          "metadata": {},
          "execution_count": 10
        }
      ]
    },
    {
      "cell_type": "markdown",
      "source": [
        "## Designing the Model"
      ],
      "metadata": {
        "id": "ixsCjm3Nsav3"
      }
    },
    {
      "cell_type": "markdown",
      "source": [
        "### Preparing the Model 0 : Single Layer Perceptron"
      ],
      "metadata": {
        "id": "FI4xcr61sm8G"
      }
    },
    {
      "cell_type": "markdown",
      "source": [
        "Build the `Sequential` model with 0 hidden layers. Choose an optimizer and loss function for training:"
      ],
      "metadata": {
        "id": "0tqRMEyns20m"
      }
    },
    {
      "cell_type": "code",
      "source": [
        "import tensorflow as tf\n",
        "from tensorflow.keras.layers import Dense # fully connected\n",
        "from tensorflow.keras import Sequential #sequential model - sequence of layers one after another\n",
        "\n",
        "#A(X.W+b) = yp\n",
        "# A - Activation function\n",
        "# W - weight\n",
        "# b - bias\n",
        "#yactual [none,10]\n",
        "#(None,784)*() = (None,10)  [y]\n",
        "# none stands for batch size -- no of training example\n",
        "# X -- (60000,784)\n",
        "# y -- (60000,10)\n",
        "# X.W = y\n",
        "# (60000,784)*()=(60000,10)\n",
        "# to get this it will require (784,10) this is input_shape passed (784,)\n",
        "\n",
        "model_0 = Sequential() #creating a model\n",
        "model_0.add(Dense(10,input_shape=(784,),name ='dense_layer',activation='softmax')) #adding a dense\n",
        "# 10  -- no of output classes\n",
        "# 784 -- no of nodes inputs\n",
        "# softmax -- output type is multi class classification"
      ],
      "metadata": {
        "id": "7Zj_RAcltM1F"
      },
      "execution_count": 11,
      "outputs": []
    },
    {
      "cell_type": "code",
      "source": [
        "# compling  the model\n",
        "# loss to find the error difference between actual and predicted\n",
        "# sgd -- Stochastic Gradient Descent\n",
        "model_0.compile(optimizer='SGD',loss='categorical_crossentropy',metrics=['accuracy'])"
      ],
      "metadata": {
        "id": "H4091nEi549B"
      },
      "execution_count": 12,
      "outputs": []
    },
    {
      "cell_type": "code",
      "source": [
        "training = model_0.fit(X_train,Y_train,\n",
        "                       batch_size=100, #480 images at a time = 48000\n",
        "                       epochs = 5,\n",
        "                       validation_split=0.2) #20% data for validation"
      ],
      "metadata": {
        "colab": {
          "base_uri": "https://localhost:8080/"
        },
        "id": "aIHDr5On63UU",
        "outputId": "186eb039-cf19-4da6-9382-d4c068c16518"
      },
      "execution_count": 13,
      "outputs": [
        {
          "output_type": "stream",
          "name": "stdout",
          "text": [
            "Epoch 1/5\n",
            "480/480 [==============================] - 7s 10ms/step - loss: 1.2705 - accuracy: 0.6992 - val_loss: 0.7980 - val_accuracy: 0.8438\n",
            "Epoch 2/5\n",
            "480/480 [==============================] - 4s 9ms/step - loss: 0.7160 - accuracy: 0.8418 - val_loss: 0.5945 - val_accuracy: 0.8683\n",
            "Epoch 3/5\n",
            "480/480 [==============================] - 5s 11ms/step - loss: 0.5877 - accuracy: 0.8596 - val_loss: 0.5143 - val_accuracy: 0.8762\n",
            "Epoch 4/5\n",
            "480/480 [==============================] - 3s 7ms/step - loss: 0.5261 - accuracy: 0.8693 - val_loss: 0.4700 - val_accuracy: 0.8843\n",
            "Epoch 5/5\n",
            "480/480 [==============================] - 2s 4ms/step - loss: 0.4886 - accuracy: 0.8748 - val_loss: 0.4417 - val_accuracy: 0.8881\n"
          ]
        }
      ]
    },
    {
      "cell_type": "code",
      "source": [
        "def plot_graph(training):\n",
        "  import matplotlib.pyplot as plt\n",
        "  # list all data in training\n",
        "  print(training.history.keys())\n",
        "  # summarize training for accuracy\n",
        "  plt.plot(training.history['accuracy'])\n",
        "  plt.plot(training.history['val_accuracy'])\n",
        "  plt.title('model accuracy')\n",
        "  plt.ylabel('accuracy')\n",
        "  plt.xlabel('epoch')\n",
        "  plt.legend(['train', 'test'], loc='upper left')\n",
        "  plt.show()\n",
        "  # summarize traning for loss\n",
        "  plt.plot(training.history['loss'])\n",
        "  plt.plot(training.history['val_loss'])\n",
        "  plt.title('model loss')\n",
        "  plt.ylabel('loss')\n",
        "  plt.xlabel('epoch')\n",
        "  plt.legend(['train', 'test'], loc='upper left')\n",
        "  plt.show()"
      ],
      "metadata": {
        "id": "dAG_qjOTNkhW"
      },
      "execution_count": 14,
      "outputs": []
    },
    {
      "cell_type": "code",
      "source": [
        " plot_graph(training)"
      ],
      "metadata": {
        "colab": {
          "base_uri": "https://localhost:8080/",
          "height": 944
        },
        "id": "1T4ToOGZPDTW",
        "outputId": "0907e854-bf6c-4980-f2b5-daefc181a415"
      },
      "execution_count": 15,
      "outputs": [
        {
          "output_type": "stream",
          "name": "stdout",
          "text": [
            "dict_keys(['loss', 'accuracy', 'val_loss', 'val_accuracy'])\n"
          ]
        },
        {
          "output_type": "display_data",
          "data": {
            "text/plain": [
              "<Figure size 640x480 with 1 Axes>"
            ],
            "image/png": "[encoded data removed]"
          },
          "metadata": {}
        },
        {
          "output_type": "display_data",
          "data": {
            "text/plain": [
              "<Figure size 640x480 with 1 Axes>"
            ],
            "image/png": "[encoded data removed]"
          },
          "metadata": {}
        }
      ]
    },
    {
      "cell_type": "code",
      "source": [
        "#evaluate the model\n",
        "test_loss, test_acc = model_0.evaluate(X_test, Y_test)\n",
        "print('Test accuracy:', test_acc)"
      ],
      "metadata": {
        "colab": {
          "base_uri": "https://localhost:8080/"
        },
        "id": "mD-URzVFPS4K",
        "outputId": "bf4038ef-a5f0-4b9a-8afc-82771f504b37"
      },
      "execution_count": 16,
      "outputs": [
        {
          "output_type": "stream",
          "name": "stdout",
          "text": [
            "313/313 [==============================] - 1s 2ms/step - loss: 0.4457 - accuracy: 0.8890\n",
            "Test accuracy: 0.8889999985694885\n"
          ]
        }
      ]
    },
    {
      "cell_type": "code",
      "source": [
        "model_0.get_config()"
      ],
      "metadata": {
        "colab": {
          "base_uri": "https://localhost:8080/"
        },
        "id": "AYYqGxZWQMlK",
        "outputId": "583489a1-3ead-4a9a-de07-e21d0ef88983"
      },
      "execution_count": 17,
      "outputs": [
        {
          "output_type": "execute_result",
          "data": {
            "text/plain": [
              "{'name': 'sequential',\n",
              " 'layers': [{'module': 'keras.layers',\n",
              "   'class_name': 'InputLayer',\n",
              "   'config': {'batch_input_shape': (None, 784),\n",
              "    'dtype': 'float32',\n",
              "    'sparse': False,\n",
              "    'ragged': False,\n",
              "    'name': 'dense_layer_input'},\n",
              "   'registered_name': None},\n",
              "  {'module': 'keras.layers',\n",
              "   'class_name': 'Dense',\n",
              "   'config': {'name': 'dense_layer',\n",
              "    'trainable': True,\n",
              "    'dtype': 'float32',\n",
              "    'batch_input_shape': (None, 784),\n",
              "    'units': 10,\n",
              "    'activation': 'softmax',\n",
              "    'use_bias': True,\n",
              "    'kernel_initializer': {'module': 'keras.initializers',\n",
              "     'class_name': 'GlorotUniform',\n",
              "     'config': {'seed': None},\n",
              "     'registered_name': None},\n",
              "    'bias_initializer': {'module': 'keras.initializers',\n",
              "     'class_name': 'Zeros',\n",
              "     'config': {},\n",
              "     'registered_name': None},\n",
              "    'kernel_regularizer': None,\n",
              "    'bias_regularizer': None,\n",
              "    'activity_regularizer': None,\n",
              "    'kernel_constraint': None,\n",
              "    'bias_constraint': None},\n",
              "   'registered_name': None,\n",
              "   'build_config': {'input_shape': (None, 784)}}]}"
            ]
          },
          "metadata": {},
          "execution_count": 17
        }
      ]
    },
    {
      "cell_type": "markdown",
      "source": [
        "###Improved Model : Adding Hidden Layer - Multi Layer Perceptron"
      ],
      "metadata": {
        "id": "2Rr_l4dsjd2l"
      }
    },
    {
      "cell_type": "code",
      "source": [
        "model_1 = Sequential() #intialize the class\n",
        "\n",
        "N_hidden = 32 # number of nodes in hidden layer , it can any number depends on how much accuracy are we getting\n",
        "\n",
        "#adding a hidden dense layer\n",
        "# activation = 'sigmoid' -- best for multi-layer NN\n",
        "model_1.add(Dense(N_hidden,name='dense_layer',input_shape=(784,),activation ='sigmoid')) #[None,784]*[784,32] = [None,32] -- output\n",
        "\n",
        "#adding another a hidden dense layer\n",
        "# activation = 'sigmoid' -- best for multi-layer NN\n",
        "#[None,784] -- input layer\n",
        "#[None,784]*[784,32] = [None,32] -- first hidden layer\n",
        " #[None,32]*[32,16] = [None,16] -- second  hiidden layer\n",
        "model_1.add(Dense(16,name='dense_layer_2',activation='sigmoid'))\n",
        "\n",
        "#final output layer\n",
        "# activation = 'softmax' -- output layer is multi-class\n",
        "#[None,784] -- input layer\n",
        "#[None,784]*[784,32] = [None,32] -- first hidden layer\n",
        " #[None,32]*[32,16] = [None,16] -- second  hiidden layer\n",
        " #[None,16]*[16,10] = [None,10] -- output layer\n",
        "model_1.add(Dense(10,name='dense_layer_3',activation='softmax'))"
      ],
      "metadata": {
        "id": "1zD4436BjjK9"
      },
      "execution_count": 18,
      "outputs": []
    },
    {
      "cell_type": "code",
      "source": [
        "# compling the model\n",
        "model_1.compile(optimizer='SGD',loss='categorical_crossentropy',metrics=['accuracy'])"
      ],
      "metadata": {
        "id": "_TD9wmc_A9ks"
      },
      "execution_count": 19,
      "outputs": []
    },
    {
      "cell_type": "code",
      "source": [
        "#training the model.\n",
        "model_1.fit(X_train,Y_train,\n",
        "            batch_size=50, #960 images at a time = 48000\n",
        "            epochs=15,\n",
        "            validation_split=0.2) #20% data for validation"
      ],
      "metadata": {
        "colab": {
          "base_uri": "https://localhost:8080/"
        },
        "id": "PcPSj1DWBRnt",
        "outputId": "49abb827-a638-492f-faba-67ed8edf6278"
      },
      "execution_count": 20,
      "outputs": [
        {
          "output_type": "stream",
          "name": "stdout",
          "text": [
            "Epoch 1/15\n",
            "960/960 [==============================] - 4s 3ms/step - loss: 2.2918 - accuracy: 0.1364 - val_loss: 2.2483 - val_accuracy: 0.1923\n",
            "Epoch 2/15\n",
            "960/960 [==============================] - 3s 3ms/step - loss: 2.2098 - accuracy: 0.3390 - val_loss: 2.1610 - val_accuracy: 0.4626\n",
            "Epoch 3/15\n",
            "960/960 [==============================] - 4s 4ms/step - loss: 2.0937 - accuracy: 0.5149 - val_loss: 2.0043 - val_accuracy: 0.5466\n",
            "Epoch 4/15\n",
            "960/960 [==============================] - 3s 3ms/step - loss: 1.8970 - accuracy: 0.5727 - val_loss: 1.7658 - val_accuracy: 0.5978\n",
            "Epoch 5/15\n",
            "960/960 [==============================] - 3s 3ms/step - loss: 1.6480 - accuracy: 0.6125 - val_loss: 1.5127 - val_accuracy: 0.6563\n",
            "Epoch 6/15\n",
            "960/960 [==============================] - 3s 3ms/step - loss: 1.4160 - accuracy: 0.6601 - val_loss: 1.2975 - val_accuracy: 0.6952\n",
            "Epoch 7/15\n",
            "960/960 [==============================] - 4s 4ms/step - loss: 1.2286 - accuracy: 0.6942 - val_loss: 1.1296 - val_accuracy: 0.7240\n",
            "Epoch 8/15\n",
            "960/960 [==============================] - 4s 4ms/step - loss: 1.0848 - accuracy: 0.7266 - val_loss: 1.0019 - val_accuracy: 0.7501\n",
            "Epoch 9/15\n",
            "960/960 [==============================] - 3s 3ms/step - loss: 0.9759 - accuracy: 0.7490 - val_loss: 0.9052 - val_accuracy: 0.7788\n",
            "Epoch 10/15\n",
            "960/960 [==============================] - 3s 3ms/step - loss: 0.8917 - accuracy: 0.7713 - val_loss: 0.8294 - val_accuracy: 0.8008\n",
            "Epoch 11/15\n",
            "960/960 [==============================] - 4s 4ms/step - loss: 0.8243 - accuracy: 0.7892 - val_loss: 0.7675 - val_accuracy: 0.8150\n",
            "Epoch 12/15\n",
            "960/960 [==============================] - 3s 3ms/step - loss: 0.7681 - accuracy: 0.8054 - val_loss: 0.7157 - val_accuracy: 0.8279\n",
            "Epoch 13/15\n",
            "960/960 [==============================] - 3s 3ms/step - loss: 0.7201 - accuracy: 0.8195 - val_loss: 0.6708 - val_accuracy: 0.8380\n",
            "Epoch 14/15\n",
            "960/960 [==============================] - 3s 3ms/step - loss: 0.6782 - accuracy: 0.8305 - val_loss: 0.6315 - val_accuracy: 0.8465\n",
            "Epoch 15/15\n",
            "960/960 [==============================] - 4s 5ms/step - loss: 0.6413 - accuracy: 0.8403 - val_loss: 0.5975 - val_accuracy: 0.8545\n"
          ]
        },
        {
          "output_type": "execute_result",
          "data": {
            "text/plain": [
              "<keras.src.callbacks.History at 0x7a44f06bdf60>"
            ]
          },
          "metadata": {},
          "execution_count": 20
        }
      ]
    },
    {
      "cell_type": "code",
      "source": [
        " plot_graph(training)"
      ],
      "metadata": {
        "colab": {
          "base_uri": "https://localhost:8080/",
          "height": 944
        },
        "id": "SHLUjDsSCh0S",
        "outputId": "b8ea0822-7741-4c8d-e78c-60a1f5253433"
      },
      "execution_count": 21,
      "outputs": [
        {
          "output_type": "stream",
          "name": "stdout",
          "text": [
            "dict_keys(['loss', 'accuracy', 'val_loss', 'val_accuracy'])\n"
          ]
        },
        {
          "output_type": "display_data",
          "data": {
            "text/plain": [
              "<Figure size 640x480 with 1 Axes>"
            ],
            "image/png": "[encoded data removed]"
          },
          "metadata": {}
        },
        {
          "output_type": "display_data",
          "data": {
            "text/plain": [
              "<Figure size 640x480 with 1 Axes>"
            ],
            "image/png": "[encoded data removed]"
          },
          "metadata": {}
        }
      ]
    },
    {
      "cell_type": "code",
      "source": [
        "#evaluate the model\n",
        "test_loss, test_acc = model_1.evaluate(X_test, Y_test)\n",
        "print('Test accuracy:', test_acc)"
      ],
      "metadata": {
        "colab": {
          "base_uri": "https://localhost:8080/"
        },
        "id": "wgC2lspS95bG",
        "outputId": "b1e79bbf-8e73-45ee-81be-81855b5d6aeb"
      },
      "execution_count": 22,
      "outputs": [
        {
          "output_type": "stream",
          "name": "stdout",
          "text": [
            "313/313 [==============================] - 1s 2ms/step - loss: 0.6090 - accuracy: 0.8480\n",
            "Test accuracy: 0.8479999899864197\n"
          ]
        }
      ]
    },
    {
      "cell_type": "code",
      "source": [
        "model_1.get_config()"
      ],
      "metadata": {
        "colab": {
          "base_uri": "https://localhost:8080/"
        },
        "id": "xQyFEOxV9_5q",
        "outputId": "863fbf15-ed19-44fc-8daa-a77cbbdb8b10"
      },
      "execution_count": 23,
      "outputs": [
        {
          "output_type": "execute_result",
          "data": {
            "text/plain": [
              "{'name': 'sequential_1',\n",
              " 'layers': [{'module': 'keras.layers',\n",
              "   'class_name': 'InputLayer',\n",
              "   'config': {'batch_input_shape': (None, 784),\n",
              "    'dtype': 'float32',\n",
              "    'sparse': False,\n",
              "    'ragged': False,\n",
              "    'name': 'dense_layer_input'},\n",
              "   'registered_name': None},\n",
              "  {'module': 'keras.layers',\n",
              "   'class_name': 'Dense',\n",
              "   'config': {'name': 'dense_layer',\n",
              "    'trainable': True,\n",
              "    'dtype': 'float32',\n",
              "    'batch_input_shape': (None, 784),\n",
              "    'units': 32,\n",
              "    'activation': 'sigmoid',\n",
              "    'use_bias': True,\n",
              "    'kernel_initializer': {'module': 'keras.initializers',\n",
              "     'class_name': 'GlorotUniform',\n",
              "     'config': {'seed': None},\n",
              "     'registered_name': None},\n",
              "    'bias_initializer': {'module': 'keras.initializers',\n",
              "     'class_name': 'Zeros',\n",
              "     'config': {},\n",
              "     'registered_name': None},\n",
              "    'kernel_regularizer': None,\n",
              "    'bias_regularizer': None,\n",
              "    'activity_regularizer': None,\n",
              "    'kernel_constraint': None,\n",
              "    'bias_constraint': None},\n",
              "   'registered_name': None,\n",
              "   'build_config': {'input_shape': (None, 784)}},\n",
              "  {'module': 'keras.layers',\n",
              "   'class_name': 'Dense',\n",
              "   'config': {'name': 'dense_layer_2',\n",
              "    'trainable': True,\n",
              "    'dtype': 'float32',\n",
              "    'units': 16,\n",
              "    'activation': 'sigmoid',\n",
              "    'use_bias': True,\n",
              "    'kernel_initializer': {'module': 'keras.initializers',\n",
              "     'class_name': 'GlorotUniform',\n",
              "     'config': {'seed': None},\n",
              "     'registered_name': None},\n",
              "    'bias_initializer': {'module': 'keras.initializers',\n",
              "     'class_name': 'Zeros',\n",
              "     'config': {},\n",
              "     'registered_name': None},\n",
              "    'kernel_regularizer': None,\n",
              "    'bias_regularizer': None,\n",
              "    'activity_regularizer': None,\n",
              "    'kernel_constraint': None,\n",
              "    'bias_constraint': None},\n",
              "   'registered_name': None,\n",
              "   'build_config': {'input_shape': (None, 32)}},\n",
              "  {'module': 'keras.layers',\n",
              "   'class_name': 'Dense',\n",
              "   'config': {'name': 'dense_layer_3',\n",
              "    'trainable': True,\n",
              "    'dtype': 'float32',\n",
              "    'units': 10,\n",
              "    'activation': 'softmax',\n",
              "    'use_bias': True,\n",
              "    'kernel_initializer': {'module': 'keras.initializers',\n",
              "     'class_name': 'GlorotUniform',\n",
              "     'config': {'seed': None},\n",
              "     'registered_name': None},\n",
              "    'bias_initializer': {'module': 'keras.initializers',\n",
              "     'class_name': 'Zeros',\n",
              "     'config': {},\n",
              "     'registered_name': None},\n",
              "    'kernel_regularizer': None,\n",
              "    'bias_regularizer': None,\n",
              "    'activity_regularizer': None,\n",
              "    'kernel_constraint': None,\n",
              "    'bias_constraint': None},\n",
              "   'registered_name': None,\n",
              "   'build_config': {'input_shape': (None, 16)}}]}"
            ]
          },
          "metadata": {},
          "execution_count": 23
        }
      ]
    }
  ]
}