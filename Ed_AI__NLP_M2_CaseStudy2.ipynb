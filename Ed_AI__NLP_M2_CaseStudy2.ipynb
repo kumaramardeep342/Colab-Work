{
  "nbformat": 4,
  "nbformat_minor": 0,
  "metadata": {
    "colab": {
      "provenance": [],
      "mount_file_id": "15gbCFkoI0EpYh5xze5ueUKhn-ZnuliUp",
      "authorship_tag": "ABX9TyMuosJoHrIhFHIqSSomKvOB",
      "include_colab_link": true
    },
    "kernelspec": {
      "name": "python3",
      "display_name": "Python 3"
    },
    "language_info": {
      "name": "python"
    }
  },
  "cells": [
    {
      "cell_type": "markdown",
      "metadata": {
        "id": "view-in-github",
        "colab_type": "text"
      },
      "source": [
        "<a href=\"https://colab.research.google.com/github/kumaramardeep342/Colab-Work/blob/main/Ed_AI__NLP_M2_CaseStudy2.ipynb\" target=\"_parent\"><img src=\"https://colab.research.google.com/assets/colab-badge.svg\" alt=\"Open In Colab\"/></a>"
      ]
    },
    {
      "cell_type": "markdown",
      "source": [
        "# Objective"
      ],
      "metadata": {
        "id": "nVxguSJUF86j"
      }
    },
    {
      "cell_type": "markdown",
      "source": [
        "You are provided with a file named “Brexit.docx”. This file contains the introductory paragraph from Wikipedia on Brexit. (https://en.wikipedia.org/wiki/Brexit) You have to perform some analysis on this paragraph by performing the following tasks:"
      ],
      "metadata": {
        "id": "YYMRU4vMGDU7"
      }
    },
    {
      "cell_type": "markdown",
      "source": [
        "# 1.Read the file “Brexit.docx” and write a function in Python named “GetNGrams” which takes a string and a number ‘n’ as input and returns n-grams from the string."
      ],
      "metadata": {
        "id": "rY4xUxioGIci"
      }
    },
    {
      "cell_type": "markdown",
      "source": [
        "- Example:\n",
        "\n",
        "-  String: “John met with an accident”\n",
        "\n",
        "- Output:\n",
        "\n",
        "- When n=2 => [(John, met), (met, with), (with, an), (an, accident)]\n",
        "\n",
        "- When n=3 => [(John, met, with), (met, with, an), (with, an, accident)]\n",
        "\n",
        "- When n=4 => [(John, met, with, an), (met, with, an, accident)]"
      ],
      "metadata": {
        "id": "veVI0gGeGfji"
      }
    },
    {
      "cell_type": "code",
      "source": [
        "!pip install python-docx\n",
        "!pip install --upgrade python-docx\n",
        "import docx\n",
        "doc = docx.Document('/content/drive/MyDrive/Colab Work/Edureka AI Certification/Assigment Files/Brexit.docx')\n",
        "print(doc.paragraphs[0].text)\n"
      ],
      "metadata": {
        "colab": {
          "base_uri": "https://localhost:8080/"
        },
        "id": "fjmDV6wSLSVj",
        "outputId": "7daf8042-4107-4cc1-fc9c-66d0c5c782cd"
      },
      "execution_count": 88,
      "outputs": [
        {
          "output_type": "stream",
          "name": "stdout",
          "text": [
            "Requirement already satisfied: python-docx in /usr/local/lib/python3.10/dist-packages (1.1.2)\n",
            "Requirement already satisfied: lxml>=3.1.0 in /usr/local/lib/python3.10/dist-packages (from python-docx) (4.9.4)\n",
            "Requirement already satisfied: typing-extensions>=4.9.0 in /usr/local/lib/python3.10/dist-packages (from python-docx) (4.12.2)\n",
            "Requirement already satisfied: python-docx in /usr/local/lib/python3.10/dist-packages (1.1.2)\n",
            "Requirement already satisfied: lxml>=3.1.0 in /usr/local/lib/python3.10/dist-packages (from python-docx) (4.9.4)\n",
            "Requirement already satisfied: typing-extensions>=4.9.0 in /usr/local/lib/python3.10/dist-packages (from python-docx) (4.12.2)\n",
            "Brexit is the impending withdrawal of the United Kingdom (UK) from the European Union (EU). In a referendum on 23 June 2016, a majority of British voters supported leaving the EU. On 29 March 2017, the UK government invoked Article 50 of the Treaty on European Union. The European Union (Withdrawal) Act 2018 declares \"exit day\" to be 29 March 2019 at 11 p.m. (Central European Time).\n"
          ]
        }
      ]
    },
    {
      "cell_type": "code",
      "source": [
        "!pip install nltk\n",
        "import nltk\n",
        "nltk.download('punkt')\n",
        "from nltk.tokenize import word_tokenize\n",
        "from nltk.util import ngrams\n",
        "def get_ngrams(text, n):\n",
        "    tokens = word_tokenize(text)\n",
        "    return list(ngrams(tokens, n))"
      ],
      "metadata": {
        "colab": {
          "base_uri": "https://localhost:8080/"
        },
        "id": "hd2lnLqnNYi8",
        "outputId": "33b8c4b6-94dd-4a59-e665-9a88d0baf9ac"
      },
      "execution_count": 89,
      "outputs": [
        {
          "output_type": "stream",
          "name": "stdout",
          "text": [
            "Requirement already satisfied: nltk in /usr/local/lib/python3.10/dist-packages (3.8.1)\n",
            "Requirement already satisfied: click in /usr/local/lib/python3.10/dist-packages (from nltk) (8.1.7)\n",
            "Requirement already satisfied: joblib in /usr/local/lib/python3.10/dist-packages (from nltk) (1.4.2)\n",
            "Requirement already satisfied: regex>=2021.8.3 in /usr/local/lib/python3.10/dist-packages (from nltk) (2024.5.15)\n",
            "Requirement already satisfied: tqdm in /usr/local/lib/python3.10/dist-packages (from nltk) (4.66.4)\n"
          ]
        },
        {
          "output_type": "stream",
          "name": "stderr",
          "text": [
            "[nltk_data] Downloading package punkt to /root/nltk_data...\n",
            "[nltk_data]   Package punkt is already up-to-date!\n"
          ]
        }
      ]
    },
    {
      "cell_type": "code",
      "source": [
        "n = int(input(\"Enter the value of n: \"))\n",
        "text = input(\"Enter the text: \")\n",
        "#text = doc.paragraphs[0].text\n",
        "ngrams = get_ngrams(text, n)\n",
        "print(ngrams)"
      ],
      "metadata": {
        "colab": {
          "base_uri": "https://localhost:8080/"
        },
        "id": "n9qKjBctNiEi",
        "outputId": "d73dbd47-c103-497a-fbb3-e93cbde84ab3"
      },
      "execution_count": 90,
      "outputs": [
        {
          "output_type": "stream",
          "name": "stdout",
          "text": [
            "Enter the value of n: 2\n",
            "Enter the text: Read the file “Brexit.docx” andwrite python functions which take a string as an input and returns:\n",
            "[('Read', 'the'), ('the', 'file'), ('file', '“'), ('“', 'Brexit.docx'), ('Brexit.docx', '”'), ('”', 'andwrite'), ('andwrite', 'python'), ('python', 'functions'), ('functions', 'which'), ('which', 'take'), ('take', 'a'), ('a', 'string'), ('string', 'as'), ('as', 'an'), ('an', 'input'), ('input', 'and'), ('and', 'returns'), ('returns', ':')]\n"
          ]
        }
      ]
    },
    {
      "cell_type": "markdown",
      "source": [
        "# 2.Read the file “Brexit.docx” andwrite python functions which take a string as an input and returns:"
      ],
      "metadata": {
        "id": "1wulOyyTJvH4"
      }
    },
    {
      "cell_type": "markdown",
      "source": [
        "- Number of Nouns (all forms of noun). Take function name as “NounsCount”\n",
        "- Number of Pronouns (all forms). Take function name as “PronounsCount”\n",
        "- Number of Adjectives (all forms).Take function name as “AdjectivesCount”\n",
        "- Number of Verbs (all forms).Take function name as “VerbsCount”\n",
        "- Number of Adverbs (all forms).Take function name as “AdverbsCount”\n",
        "\n",
        "Plot a pie chart showing the distribution of nouns, pronouns, verbs, adverbs and adjectives."
      ],
      "metadata": {
        "id": "FhNOKLP4J1mx"
      }
    },
    {
      "cell_type": "code",
      "source": [
        "import nltk\n",
        "nltk.download('punkt')\n",
        "nltk.download('averaged_perceptron_tagger')\n",
        "from nltk.tokenize import word_tokenize\n",
        "from nltk.tag import pos_tag\n",
        "#doc is read and used from question 1.\n",
        "# Number of Nouns (all forms of noun). Take function name as “NounsCount”\n",
        "def  NounsCount(doc):\n",
        "  Nouns_Count = 0\n",
        "  for i in range(len(doc.paragraphs)):\n",
        "    text = doc.paragraphs[i].text\n",
        "    tokens = word_tokenize(text)\n",
        "    tagged_tokens = pos_tag(tokens)\n",
        "    #print(tagged_tokens)\n",
        "    nouns = [token for token, pos in tagged_tokens if pos.startswith('NN')]\n",
        "    Nouns_Count += len(nouns)\n",
        "    #print(f\"Number of Nouns in paragraph {i+1}: {len(nouns)}\")\n",
        "  print(f\"Total number of Nouns: {Nouns_Count}\")\n",
        "  return Nouns_Count\n",
        "\n",
        "#Number of Pronouns (all forms). Take function name as “PronounsCount”\n",
        "def PronounsCount(doc):\n",
        "  Pronouns_Count = 0\n",
        "  for i in range(len(doc.paragraphs)):\n",
        "    text = doc.paragraphs[i].text\n",
        "    tokens = word_tokenize(text)\n",
        "    tagged_tokens = pos_tag(tokens)\n",
        "    #print(tagged_tokens)\n",
        "    pronouns = [token for token, pos in tagged_tokens if pos.startswith('PRP')]\n",
        "    Pronouns_Count += len(pronouns)\n",
        "        #print(f\"Number of Pronouns in paragraph {i+1}: {len(pronouns)}\")\n",
        "  print(f\"Total number of Pronouns: {Pronouns_Count}\")\n",
        "  return Pronouns_Count\n",
        "\n",
        "  #Number of Adjectives (all forms).Take function name as “AdjectivesCount”\n",
        "def AdjectivesCount(doc):\n",
        "    Adjectives_Count = 0\n",
        "    for i in range(len(doc.paragraphs)):\n",
        "      text = doc.paragraphs[i].text\n",
        "      tokens = word_tokenize(text)\n",
        "      tagged_tokens = pos_tag(tokens)\n",
        "      #print(tagged_tokens)\n",
        "      adjectives = [token for token, pos in tagged_tokens if pos.startswith('JJ')]\n",
        "      Adjectives_Count += len(adjectives)\n",
        "          #print(f\"Number of Adjectives in paragraph {i+1}: {len(adjectives)}\")\n",
        "    print(f\"Total number of Adjectives: {Adjectives_Count}\")\n",
        "    return Adjectives_Count\n",
        "\n",
        "  #Number of Verbs (all forms).Take function name as “VerbsCount”\n",
        "def VerbsCount(doc):\n",
        "      Verbs_Count = 0\n",
        "      for i in range(len(doc.paragraphs)):\n",
        "        text = doc.paragraphs[i].text\n",
        "        tokens = word_tokenize(text)\n",
        "        tagged_tokens = pos_tag(tokens)\n",
        "        #print(tagged_tokens)\n",
        "        verbs = [token for token, pos in tagged_tokens if pos.startswith('VB')]\n",
        "        Verbs_Count += len(verbs)\n",
        "            #print(f\"Number of Verbs in paragraph {i+1}: {len(verbs)}\")\n",
        "        print(f\"Total number of Verbs: {Verbs_Count}\")\n",
        "        return  Verbs_Count\n",
        "\n",
        "# Number of Adverbs (all forms).Take function name as “AdverbsCount”\n",
        "def AdverbsCount(doc):\n",
        "  Adverbs_Count = 0\n",
        "  for i in range (len(doc.paragraphs)):\n",
        "    text = doc.paragraphs[i].text\n",
        "    tokens = word_tokenize(text)\n",
        "    tagged_tokens = pos_tag(tokens)\n",
        "    #print(tagged_tokens)\n",
        "    adverbs = [token for token, pos in tagged_tokens if pos.startswith('RB')]\n",
        "    Adverbs_Count += len(adverbs)\n",
        "        #print(f\"Number of Adverbs in paragraph {i+1}: {len(adverbs)}\")\n",
        "  print(f\"Total number of Adverbs: {Adverbs_Count}\\n\")\n",
        "  return Adverbs_Count"
      ],
      "metadata": {
        "colab": {
          "base_uri": "https://localhost:8080/"
        },
        "id": "H7htvroZ6y2y",
        "outputId": "297ac665-eb24-48f7-94be-c9a6155bc6c6"
      },
      "execution_count": 91,
      "outputs": [
        {
          "output_type": "stream",
          "name": "stderr",
          "text": [
            "[nltk_data] Downloading package punkt to /root/nltk_data...\n",
            "[nltk_data]   Package punkt is already up-to-date!\n",
            "[nltk_data] Downloading package averaged_perceptron_tagger to\n",
            "[nltk_data]     /root/nltk_data...\n",
            "[nltk_data]   Package averaged_perceptron_tagger is already up-to-\n",
            "[nltk_data]       date!\n"
          ]
        }
      ]
    },
    {
      "cell_type": "code",
      "source": [
        "import pandas as pd\n",
        "import matplotlib.pyplot as plt\n",
        "Nouns_Count=NounsCount(doc)\n",
        "Pronouns_Count=PronounsCount(doc)\n",
        "Adjectives_Count=AdjectivesCount(doc)\n",
        "Verbs_Count=VerbsCount(doc)\n",
        "Adverbs_Count=AdverbsCount(doc)\n",
        "\n",
        "#Plot a pie chart showing the distribution of nouns, pronouns, verbs, adverbs and adjectives.\n",
        "Count_label= ['Nouns_Count','Pronouns_Count','Adjective_Counts','Verbs_Count','Adverbs_Count']\n",
        "Count_value = [Nouns_Count,Pronouns_Count,Adjectives_Count,Verbs_Count,Adverbs_Count]\n",
        "plt.pie(Count_value,labels=Count_label, autopct='%0.2f')\n",
        "plt.title('Distribution of Nouns, Pronouns, Verbs, Adjectives, and Adverbs')\n",
        "plt.show()\n",
        "#help( plt.pie)"
      ],
      "metadata": {
        "colab": {
          "base_uri": "https://localhost:8080/",
          "height": 532
        },
        "id": "I430om6fvMPb",
        "outputId": "8a006403-b75a-46aa-fa2d-ac2171535838"
      },
      "execution_count": 92,
      "outputs": [
        {
          "output_type": "stream",
          "name": "stdout",
          "text": [
            "Total number of Nouns: 195\n",
            "Total number of Pronouns: 4\n",
            "Total number of Adjectives: 41\n",
            "Total number of Verbs: 7\n",
            "Total number of Adverbs: 7\n",
            "\n"
          ]
        },
        {
          "output_type": "display_data",
          "data": {
            "text/plain": [
              "<Figure size 640x480 with 1 Axes>"
            ],
            "image/png": "[encoded data removed]"
          },
          "metadata": {}
        }
      ]
    },
    {
      "cell_type": "markdown",
      "source": [
        "# 3.Read the file “Brexit.docx” andwrite python functions which take a string as an input and returns:"
      ],
      "metadata": {
        "id": "QrwDIOPtKGWH"
      }
    },
    {
      "cell_type": "markdown",
      "source": [
        "- Number of geo-Political entities present in the file.Take function name as“GeoPoliticalCount”\n",
        "- Number of Personspresent in the file. Take function name as “PersonsCount”\n",
        "- Numbers of Organizations mentioned in the file.Take function name as “OrganizationsCount”\n"
      ],
      "metadata": {
        "id": "hN2OAbrBKN2h"
      }
    },
    {
      "cell_type": "code",
      "source": [
        "import nltk\n",
        "from nltk import ne_chunk\n",
        "nltk.download('words')\n",
        "\n",
        "#doc is read and used from question 1.\n",
        "#Number of geo-Political entities present in the file.Take function name as“GeoPoliticalCount”\n",
        "def  GeoPoliticalCount(doc):\n",
        "  GeoPolitical_Count = 0\n",
        "  for i in range(len(doc.paragraphs)):\n",
        "    text = doc.paragraphs[i].text\n",
        "    tokens = word_tokenize(text)\n",
        "    tagged_tokens = pos_tag(tokens)\n",
        "    tagged_tokens_ne = ne_chunk(tagged_tokens)\n",
        "    #print(tagged_tokens_ne)\n",
        "    for subtree in tagged_tokens_ne:\n",
        "      if hasattr(subtree, 'label') and subtree.label() == 'GPE':\n",
        "        GeoPolitical_Count += 1\n",
        "    #print(f\"Number of Geo-Political entities in paragraph {i+1}: {GeoPolitical_Count}\")\n",
        "  print(f\"Total number of Geo-Political entities: {GeoPolitical_Count}\")\n",
        "  return GeoPolitical_Count\n",
        "\n",
        "# Number of Personspresent in the file. Take function name as “PersonsCount”\n",
        "def PersonsCount(doc):\n",
        "  Persons_Count = 0\n",
        "  for i in range(len(doc.paragraphs)):\n",
        "    text = doc.paragraphs[i].text\n",
        "    tokens = word_tokenize(text)\n",
        "    tagged_tokens = pos_tag(tokens)\n",
        "    tagged_tokens_ne = ne_chunk(tagged_tokens)\n",
        "    #print(tagged_tokens_ne)\n",
        "    for subtree in tagged_tokens_ne:\n",
        "      if hasattr(subtree, 'label') and subtree.label() == 'PERSON':\n",
        "        Persons_Count += 1\n",
        "        #print(f\"Number of Persons in paragraph {i+1}: {Persons_Count}\")\n",
        "  print(f\"Total number of Persons: {Persons_Count}\")\n",
        "  return Persons_Count\n",
        "\n",
        "# Numbers of Organizations mentioned in the file.Take function name as “OrganizationsCount”\n",
        "def OrganizationsCount(doc):\n",
        "  Organizations_Count = 0\n",
        "  for i in range(len(doc.paragraphs)):\n",
        "    text=doc.paragraphs[i].text\n",
        "    tokens=word_tokenize(text)\n",
        "    tagged_token=pos_tag(tokens)\n",
        "    tagged_tokens_ne=ne_chunk(tagged_token)\n",
        "    #print(tagged_tokens_ne)\n",
        "    for subtree in tagged_tokens_ne:\n",
        "      if hasattr(subtree, 'label') and subtree.label() == 'ORGANIZATION':\n",
        "        Organizations_Count += 1\n",
        "        #print(f\"Number of Organizations in paragraph {i+1}: {Organizations_Count}\")\n",
        "    print(f\"Total number of Organizations: {Organizations_Count}\")\n",
        "    return Organizations_Count\n"
      ],
      "metadata": {
        "colab": {
          "base_uri": "https://localhost:8080/"
        },
        "id": "XQJ_dXlGFW6Y",
        "outputId": "a8c0388c-4fff-461e-9f99-21ea447e328a"
      },
      "execution_count": 93,
      "outputs": [
        {
          "output_type": "stream",
          "name": "stderr",
          "text": [
            "[nltk_data] Downloading package words to /root/nltk_data...\n",
            "[nltk_data]   Package words is already up-to-date!\n"
          ]
        }
      ]
    },
    {
      "cell_type": "code",
      "source": [
        "GeoPolitical_Count = GeoPoliticalCount(doc)\n",
        "Persons_Count= PersonsCount(doc)\n",
        "Organizations_Count=OrganizationsCount(doc)"
      ],
      "metadata": {
        "colab": {
          "base_uri": "https://localhost:8080/"
        },
        "id": "sKIQcmn2F9zO",
        "outputId": "3fceba4f-c377-4803-8e33-2e9617d518bd"
      },
      "execution_count": 94,
      "outputs": [
        {
          "output_type": "stream",
          "name": "stdout",
          "text": [
            "Total number of Geo-Political entities: 19\n",
            "Total number of Persons: 6\n",
            "Total number of Organizations: 6\n"
          ]
        }
      ]
    }
  ]
}