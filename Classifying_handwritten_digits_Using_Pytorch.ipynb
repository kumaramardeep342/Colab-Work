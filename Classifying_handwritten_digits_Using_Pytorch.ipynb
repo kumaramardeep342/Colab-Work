{
  "nbformat": 4,
  "nbformat_minor": 0,
  "metadata": {
    "colab": {
      "provenance": [],
      "toc_visible": true,
      "authorship_tag": "ABX9TyMzf/bHr8mSoqoJpGmNd8O3",
      "include_colab_link": true
    },
    "kernelspec": {
      "name": "python3",
      "display_name": "Python 3"
    },
    "language_info": {
      "name": "python"
    }
  },
  "cells": [
    {
      "cell_type": "markdown",
      "metadata": {
        "id": "view-in-github",
        "colab_type": "text"
      },
      "source": [
        "<a href=\"https://colab.research.google.com/github/kumaramardeep342/Colab-Work/blob/main/Classifying_handwritten_digits_Using_Pytorch.ipynb\" target=\"_parent\"><img src=\"https://colab.research.google.com/assets/colab-badge.svg\" alt=\"Open In Colab\"/></a>"
      ]
    },
    {
      "cell_type": "code",
      "execution_count": 42,
      "metadata": {
        "id": "1xmoJI_TGrCr"
      },
      "outputs": [],
      "source": [
        "#Mount the Google Drive\n",
        "# from google.colab import drive\n",
        "# drive.mount('/content/drive')"
      ]
    },
    {
      "cell_type": "markdown",
      "source": [
        "# Classifying Handwritten digits using Pytorch"
      ],
      "metadata": {
        "id": "IobVAEGxOBFI"
      }
    },
    {
      "cell_type": "markdown",
      "source": [
        "## Problem Statement"
      ],
      "metadata": {
        "id": "NP3ZCCbNONQt"
      }
    },
    {
      "cell_type": "markdown",
      "source": [
        "MNIST (\"Modified National Institute of Standards and Technology\") Handwritten Digit Classification Dataset .\n",
        "In this notebook , goal is to correctly identify digits from a dataset of thousands of handwritten images.\n",
        "\n",
        "![alt text](https://i.imgur.com/Su00XUA.png)"
      ],
      "metadata": {
        "id": "KR-t26NAOSGV"
      }
    },
    {
      "cell_type": "markdown",
      "source": [
        "### **Dataset Description**"
      ],
      "metadata": {
        "id": "SqN1ICnhO4BI"
      }
    },
    {
      "cell_type": "markdown",
      "source": [
        "- **[MNIST Handwritten Digit Classification Dataset](http://yann.lecun.com/exdb/mnist/)**\n",
        "- Black and White Images of handwritten digits - MNIST Data\n",
        "- 28 pixels height and 28 pixels width, total of 784 pixels\n",
        "- 60,000 training images and 10,000 testing images in dataset.\n",
        "- Pixel-value 0 to 255\n",
        "- 10 classes [0,1,2,3,4,5,6,7,8 and 9] - 6000 images per class in training"
      ],
      "metadata": {
        "id": "x5a57UaFPCRI"
      }
    },
    {
      "cell_type": "markdown",
      "source": [
        "### **Summary of  the Notebook**"
      ],
      "metadata": {
        "id": "5tdBqw7LPH2X"
      }
    },
    {
      "cell_type": "markdown",
      "source": [
        "- Install pytorch\n",
        "- Import the required libraries - pytorch\n",
        "- Read the dataset - Understanding - Preprocessing\n",
        "- Split the dataset to training and testing[Already Done]\n",
        "- Create a Model\n",
        "- Check accuracy - validation\n",
        "-  Tune Parameters\n",
        "- Accuracy - validation"
      ],
      "metadata": {
        "id": "MopxC5tXPN0J"
      }
    },
    {
      "cell_type": "markdown",
      "source": [
        "# Model Classifying Handwritten digits using Pytorch"
      ],
      "metadata": {
        "id": "ejKYJG6RPhsI"
      }
    },
    {
      "cell_type": "markdown",
      "source": [
        "## Installing Pytorch"
      ],
      "metadata": {
        "id": "J62uctbyP4Gx"
      }
    },
    {
      "cell_type": "code",
      "source": [
        "# !pip install torch torchvision torchaudio # install pytorch library\n",
        "# torchvision (for computer vision), and torchaudio (for audio processing)"
      ],
      "metadata": {
        "id": "UsPEKepaQCa4"
      },
      "execution_count": 43,
      "outputs": []
    },
    {
      "cell_type": "code",
      "source": [
        "# verify installation\n",
        "import torch\n",
        "#check pytorch version\n",
        "print(torch.__version__)"
      ],
      "metadata": {
        "colab": {
          "base_uri": "https://localhost:8080/"
        },
        "id": "YhmVfu0LPmyi",
        "outputId": "32fdbd12-ee47-4e26-c3e6-a16d198a5c51"
      },
      "execution_count": 44,
      "outputs": [
        {
          "output_type": "stream",
          "name": "stdout",
          "text": [
            "2.4.0+cu121\n"
          ]
        }
      ]
    },
    {
      "cell_type": "markdown",
      "source": [
        "## Import the required libraries - pytorch"
      ],
      "metadata": {
        "id": "YawRYTeARB9V"
      }
    },
    {
      "cell_type": "code",
      "source": [
        "#enable table format\n",
        "from google.colab import data_table\n",
        "data_table.enable_dataframe_formatter()\n",
        "\n",
        "#disable table format\n",
        "# from google.colab import data_table\n",
        "# data_table.disable_dataframe_formatter()\n",
        "\n",
        "import pandas as pd  # for reading the dataset\n",
        "import numpy as np  # for mathematical operations\n",
        "\n",
        "import matplotlib.pyplot as plt  # for plotting\n",
        "import seaborn as sns  #for enchaned visulaization\n",
        "%matplotlib inline\n",
        "\n",
        "from  sklearn.metrics import confusion_matrix  # for confusion matrix\n",
        "\n",
        "from torch import  nn,optim\n",
        "from torchvision import datasets, transforms\n",
        "from torch.utils.data import DataLoader\n"
      ],
      "metadata": {
        "id": "v6nA6EmBRFzz"
      },
      "execution_count": 45,
      "outputs": []
    },
    {
      "cell_type": "markdown",
      "source": [
        "## Preparing the Data"
      ],
      "metadata": {
        "id": "pcNtk5EC1rc-"
      }
    },
    {
      "cell_type": "markdown",
      "source": [
        "### Loading the Data"
      ],
      "metadata": {
        "id": "YnBwcT9k10LE"
      }
    },
    {
      "cell_type": "code",
      "source": [
        "# Hyperparameters\n",
        "input_size = 784 # 28x28 images flattened\n",
        "# It will require to flatten the array means 28x28 dimensional array to one single list of 784 index (28x28). Reason behind this Single layer perceptron and Multi Layer Perceptron can handle only 2 dimension data.\n",
        "hidden_size = 128\n",
        "num_classes = 10\n",
        "num_epochs = 5\n",
        "batch_size = 100\n",
        "learning_rate = 0.001"
      ],
      "metadata": {
        "id": "tt4p0tlx63PF"
      },
      "execution_count": 46,
      "outputs": []
    },
    {
      "cell_type": "code",
      "source": [
        "# MNIST Dataset\n",
        "# Define a transform to normalize the data\n",
        "transform = transforms.Compose(\n",
        "    [transforms.ToTensor(),\n",
        "     transforms.Normalize((0.5,),(0.5,))] # Normalizing the dataset\n",
        ")\n",
        "\n",
        "#The values (0.5,) and (0.5,) are the mean and standard deviation of the MNIST dataset, respectively.\n",
        "#So, transforms.Normalize((0.5,), (0.5,)) is saying:\n",
        "#Subtract 0.5 from every pixel value in the image,then divide every pixel value by 0.5\n",
        "# transforms.Normalize((0.1307,), (0.3081,)) means Subtract 0.1307 from every pixel value in the image then  divide every pixel value by 0.3081\n",
        "\n",
        "# Download and load the training data\n",
        "train_dataset = datasets.MNIST(root = ' ./data',train = True , download  = True , transform = transform)\n",
        "train_loader = DataLoader(train_dataset,batch_size = batch_size , shuffle = True)\n",
        "\n",
        "# Download and load the testing data\n",
        "test_dataset = datasets.MNIST(root = ' ./data',train = False , download  = True , transform = transform)\n",
        "test_loader = DataLoader(test_dataset,batch_size = batch_size , shuffle = True)"
      ],
      "metadata": {
        "id": "diahrodS2QKL"
      },
      "execution_count": 47,
      "outputs": []
    },
    {
      "cell_type": "markdown",
      "source": [
        "## Designing the Model"
      ],
      "metadata": {
        "id": "0MnxyCZl9xK8"
      }
    },
    {
      "cell_type": "markdown",
      "source": [
        "### Multi Layer Perceptron"
      ],
      "metadata": {
        "id": "-5QLB3NiCPgz"
      }
    },
    {
      "cell_type": "code",
      "source": [
        "class MLP(nn.Module):\n",
        "  def  __init__(self,input_size,hidden_size,num_classes):\n",
        "    super(MLP,self).__init__()\n",
        "    self.fc1 = nn.Linear(input_size,hidden_size)\n",
        "    self.relu = nn.ReLU()\n",
        "    self.fc2 = nn.Linear(hidden_size,num_classes)\n",
        "\n",
        "#This method defines how data flows through the network. It's called automatically by PyTorch when you pass data through the model.\n",
        "  def forward(self,x):\n",
        "    x = x.view(-1, input_size) # Flatten the image to a 1D vector\n",
        "    out = self.fc1(x)\n",
        "    out = self.relu(out)\n",
        "    out = self.fc2(out)\n",
        "    return out\n",
        "\n",
        "\n",
        "model = MLP(input_size, hidden_size, num_classes)\n",
        "print(model)\n",
        "\n",
        "\n",
        "# complete above line of code can be replace by\n",
        "# Sequential approach\n",
        "# sequential_model = nn.Sequential(\n",
        "#     nn.Flatten(),  # Add this to replicate the flattening in the class-based model\n",
        "#     nn.Linear(784, 128),\n",
        "#     nn.ReLU(),\n",
        "#     nn.Linear(128, 10)\n",
        "# )\n",
        "# print('\\n',sequential_model)"
      ],
      "metadata": {
        "colab": {
          "base_uri": "https://localhost:8080/"
        },
        "id": "OZhj3TktL_Yj",
        "outputId": "b63393ed-8a9c-4ea7-fe74-2d2478447633"
      },
      "execution_count": 48,
      "outputs": [
        {
          "output_type": "stream",
          "name": "stdout",
          "text": [
            "MLP(\n",
            "  (fc1): Linear(in_features=784, out_features=128, bias=True)\n",
            "  (relu): ReLU()\n",
            "  (fc2): Linear(in_features=128, out_features=10, bias=True)\n",
            ")\n"
          ]
        }
      ]
    },
    {
      "cell_type": "markdown",
      "source": [
        "### Model Training"
      ],
      "metadata": {
        "id": "wS6p1JRsNedt"
      }
    },
    {
      "cell_type": "code",
      "source": [
        "# Loss and optimizer\n",
        "criterian = nn.CrossEntropyLoss()\n",
        "optimizer = optim.Adam(model.parameters(),lr = learning_rate)\n",
        "\n",
        "# Training the model\n",
        "model.train() #set the model in taining mode. # dropout randomly zeroes out some of the activations, which helps prevent overfitting.\n",
        "for epoch in range(num_epochs):\n",
        "  for i,(images,labels) in enumerate(train_loader):\n",
        "    # forward pass\n",
        "    outputs = model(images) # Forward pass\n",
        "    loss = criterian(outputs,labels) # Compute loss\n",
        "\n",
        "    # backward pass and optimization\n",
        "    optimizer.zero_grad()  # Zero the gradients\n",
        "    loss.backward() # Backpropagate the gradients\n",
        "    optimizer.step() # Update the weights\n",
        "    if (i+1) % 100 == 0:\n",
        "      print(f'Epoch [{epoch+1}/{num_epochs}], Step [{i+1}/{len(train_loader)}], Loss: {loss.item():.4f}')\n",
        ""
      ],
      "metadata": {
        "colab": {
          "base_uri": "https://localhost:8080/"
        },
        "id": "P3gRJ4BpPLL8",
        "outputId": "d6dbfd59-9e0e-4d57-b1cd-6f0656cb535a"
      },
      "execution_count": 49,
      "outputs": [
        {
          "output_type": "stream",
          "name": "stdout",
          "text": [
            "Epoch [1/5], Step [100/600], Loss: 0.2923\n",
            "Epoch [1/5], Step [200/600], Loss: 0.3202\n",
            "Epoch [1/5], Step [300/600], Loss: 0.3782\n",
            "Epoch [1/5], Step [400/600], Loss: 0.1416\n",
            "Epoch [1/5], Step [500/600], Loss: 0.3006\n",
            "Epoch [1/5], Step [600/600], Loss: 0.2536\n",
            "Epoch [2/5], Step [100/600], Loss: 0.2345\n",
            "Epoch [2/5], Step [200/600], Loss: 0.1458\n",
            "Epoch [2/5], Step [300/600], Loss: 0.2111\n",
            "Epoch [2/5], Step [400/600], Loss: 0.2220\n",
            "Epoch [2/5], Step [500/600], Loss: 0.1125\n",
            "Epoch [2/5], Step [600/600], Loss: 0.1477\n",
            "Epoch [3/5], Step [100/600], Loss: 0.2704\n",
            "Epoch [3/5], Step [200/600], Loss: 0.2141\n",
            "Epoch [3/5], Step [300/600], Loss: 0.1557\n",
            "Epoch [3/5], Step [400/600], Loss: 0.1490\n",
            "Epoch [3/5], Step [500/600], Loss: 0.1893\n",
            "Epoch [3/5], Step [600/600], Loss: 0.0891\n",
            "Epoch [4/5], Step [100/600], Loss: 0.1390\n",
            "Epoch [4/5], Step [200/600], Loss: 0.1637\n",
            "Epoch [4/5], Step [300/600], Loss: 0.0363\n",
            "Epoch [4/5], Step [400/600], Loss: 0.2013\n",
            "Epoch [4/5], Step [500/600], Loss: 0.1720\n",
            "Epoch [4/5], Step [600/600], Loss: 0.0813\n",
            "Epoch [5/5], Step [100/600], Loss: 0.0937\n",
            "Epoch [5/5], Step [200/600], Loss: 0.0957\n",
            "Epoch [5/5], Step [300/600], Loss: 0.1087\n",
            "Epoch [5/5], Step [400/600], Loss: 0.1029\n",
            "Epoch [5/5], Step [500/600], Loss: 0.1054\n",
            "Epoch [5/5], Step [600/600], Loss: 0.1247\n"
          ]
        }
      ]
    },
    {
      "cell_type": "markdown",
      "source": [
        "### Model Evaluation"
      ],
      "metadata": {
        "id": "e3vxkekTNDQG"
      }
    },
    {
      "cell_type": "code",
      "source": [
        "# Testing the model\n",
        "model.eval() # Set model to evaluation mode\n",
        "with torch.no_grad():\n",
        "  correct = 0\n",
        "  total = 0\n",
        "  for images,labels in test_loader:\n",
        "    outputs = model(images)\n",
        "    _, predicted = torch.max(outputs.data, 1)\n",
        "    total += labels.size(0)\n",
        "    correct += (predicted == labels).sum().item()\n",
        "\n",
        "  print(f'Accuracy of the model on the 10000 test images: {100 * correct / total}%')\n",
        "\n",
        "  # Saving the model\n",
        "torch.save(model.state_dict(), 'mlp_mnist.pth')\n",
        "\n"
      ],
      "metadata": {
        "colab": {
          "base_uri": "https://localhost:8080/"
        },
        "id": "QtN0XSorH1yo",
        "outputId": "8f3c04fe-8eed-4a69-a8e3-c2993654ff9a"
      },
      "execution_count": 50,
      "outputs": [
        {
          "output_type": "stream",
          "name": "stdout",
          "text": [
            "Accuracy of the model on the 10000 test images: 96.74%\n"
          ]
        }
      ]
    },
    {
      "cell_type": "markdown",
      "source": [
        "### Visualization Predicted Images"
      ],
      "metadata": {
        "id": "20rhVZMqNzgi"
      }
    },
    {
      "cell_type": "code",
      "source": [
        "# Function to display a row of images with their predicted and true labels\n",
        "def show_images(images, labels, preds, title):\n",
        "  fig, axes = plt.subplots(1, 10, figsize=(20, 2)) # Create a row of 10 subplots\n",
        "  for i in range(10):\n",
        "    axes[i].imshow(images[i].squeeze(), cmap='gray') # Display the image\n",
        "    axes[i].set_title(f'True: {labels[i]}\\nPred: {preds[i]}')\n",
        "    axes[i].axis('off') # Hide axis\n",
        "  fig.suptitle(title, fontsize=16)\n",
        "  plt.show()\n",
        "\n",
        "# Set the model to evaluation mode\n",
        "model.eval()\n",
        "# Collecting correctly and incorrectly classified images\n",
        "correct_examples = []\n",
        "incorrect_examples = []\n",
        "\n",
        "with torch.no_grad():\n",
        "  for images, labels in test_loader:\n",
        "    outputs = model(images)\n",
        "    _, predicted = torch.max(outputs.data, 1)\n",
        "    for img, label, pred in zip(images, labels, predicted):\n",
        "      # Check if the prediction is correct or incorrect\n",
        "      if label == pred and len(correct_examples) < 10:\n",
        "        correct_examples.append((img, label.item(), pred.item()))\n",
        "      elif label != pred and len(incorrect_examples) < 10:\n",
        "        incorrect_examples.append((img, label.item(), pred.item()))\n",
        "\n",
        "      # Break if we have collected enough examples\n",
        "      if len(correct_examples) >= 10 and len(incorrect_examples) >= 10:\n",
        "        break\n",
        "    if len(correct_examples) >= 10 and len(incorrect_examples) >= 10:\n",
        "      break\n",
        "\n",
        "# Prepare data for visualization\n",
        "correct_images = [img for img, _, _ in correct_examples]\n",
        "correct_labels = [label for _, label, _ in correct_examples]\n",
        "correct_preds = [pred for _, _, pred in correct_examples]\n",
        "incorrect_images = [img for img, _, _ in incorrect_examples]\n",
        "incorrect_labels = [label for _, label, _ in incorrect_examples]\n",
        "incorrect_preds = [pred for _, _, pred in incorrect_examples]\n",
        "# Visualizing Correctly Classified Images\n",
        "print(\"Correctly Classified Examples:\")\n",
        "show_images(correct_images, correct_labels, correct_preds, title='')\n",
        "# Visualizing Incorrectly Classified Images\n",
        "print(\"Incorrectly Classified Examples:\")\n",
        "show_images(incorrect_images, incorrect_labels, incorrect_preds, title='')\n"
      ],
      "metadata": {
        "colab": {
          "base_uri": "https://localhost:8080/",
          "height": 237
        },
        "id": "SSivaqRyOLI8",
        "outputId": "8756ae66-5888-40d2-cda7-461488530fd5"
      },
      "execution_count": 51,
      "outputs": [
        {
          "output_type": "stream",
          "name": "stdout",
          "text": [
            "Correctly Classified Examples:\n"
          ]
        },
        {
          "output_type": "display_data",
          "data": {
            "text/plain": [
              "<Figure size 2000x200 with 10 Axes>"
            ],
            "image/png": "[encoded data removed]"
          },
          "metadata": {}
        },
        {
          "output_type": "stream",
          "name": "stdout",
          "text": [
            "Incorrectly Classified Examples:\n"
          ]
        },
        {
          "output_type": "display_data",
          "data": {
            "text/plain": [
              "<Figure size 2000x200 with 10 Axes>"
            ],
            "image/png": "[encoded data removed]"
          },
          "metadata": {}
        }
      ]
    },
    {
      "cell_type": "markdown",
      "source": [
        "### Confusion Matrix"
      ],
      "metadata": {
        "id": "2XE1IKH0V8nD"
      }
    },
    {
      "cell_type": "code",
      "source": [
        "# Initialize the confusion matrix\n",
        "confusion_mat = np.zeros((num_classes, num_classes))\n",
        "\n",
        "# Set the model to evaluation mode\n",
        "model.eval()\n",
        "\n",
        "# Collect true labels and predictions\n",
        "all_labels = []\n",
        "\n",
        "all_preds = []\n",
        "\n",
        "with torch.no_grad():\n",
        "  for images, labels in test_loader:\n",
        "    outputs = model(images)\n",
        "    _, predicted = torch.max(outputs.data, 1)\n",
        "    all_labels.extend(labels.cpu().numpy())\n",
        "    all_preds.extend(predicted.cpu().numpy())\n",
        "\n",
        "# Calculate the confusion matrix\n",
        "confusion_mat = confusion_matrix(all_labels, all_preds)\n",
        "\n",
        "# Plotting the confusion matrix\n",
        "plt.figure(figsize=(10, 8))\n",
        "sns.heatmap(confusion_mat, annot=True, fmt='d', cmap='Blues',xticklabels=range(10), yticklabels=range(10))\n",
        "plt.xlabel('Predicted Labels')\n",
        "plt.ylabel('True Labels')\n",
        "plt.title('Confusion Matrix for MNIST Classification')\n",
        "plt.show()"
      ],
      "metadata": {
        "colab": {
          "base_uri": "https://localhost:8080/",
          "height": 678
        },
        "id": "TjehEJYKWA-s",
        "outputId": "5925becc-9b2a-4d29-eb3e-cb1bc5d1bb4c"
      },
      "execution_count": 52,
      "outputs": [
        {
          "output_type": "display_data",
          "data": {
            "text/plain": [
              "<Figure size 1000x800 with 2 Axes>"
            ],
            "image/png": "[encoded data removed]"
          },
          "metadata": {}
        }
      ]
    }
  ]
}