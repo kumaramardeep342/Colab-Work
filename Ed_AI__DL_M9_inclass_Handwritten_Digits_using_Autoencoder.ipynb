{
  "nbformat": 4,
  "nbformat_minor": 0,
  "metadata": {
    "colab": {
      "provenance": [],
      "gpuType": "T4",
      "mount_file_id": "1G6MSUKBd2QJmiCVtsbhD26Hg_TFONOuK",
      "authorship_tag": "ABX9TyOn1W5n2HuAL6S+P5NItDz1",
      "include_colab_link": true
    },
    "kernelspec": {
      "name": "python3",
      "display_name": "Python 3"
    },
    "language_info": {
      "name": "python"
    },
    "accelerator": "GPU"
  },
  "cells": [
    {
      "cell_type": "markdown",
      "metadata": {
        "id": "view-in-github",
        "colab_type": "text"
      },
      "source": [
        "<a href=\"https://colab.research.google.com/github/kumaramardeep342/Colab-Work/blob/main/Ed_AI__DL_M9_inclass_Handwritten_Digits_using_Autoencoder.ipynb\" target=\"_parent\"><img src=\"https://colab.research.google.com/assets/colab-badge.svg\" alt=\"Open In Colab\"/></a>"
      ]
    },
    {
      "cell_type": "code",
      "execution_count": 1,
      "metadata": {
        "id": "cX-0zlkMlNTR"
      },
      "outputs": [],
      "source": [
        "#Mount the Google Drive\n",
        "# from google.colab import drive\n",
        "# drive.mount('/content/drive')"
      ]
    },
    {
      "cell_type": "markdown",
      "source": [
        "# Handwritten Digits using Autoencoder TensorFlow"
      ],
      "metadata": {
        "id": "1-t69blS3tXg"
      }
    },
    {
      "cell_type": "markdown",
      "source": [
        "## Problem Statement\n",
        "- MNIST data - (None,784)\n",
        "- Autoencoders\n",
        "- Reconstruct the input\n",
        "- Encoder layer : (None,784),(784,32) = (None,32) #compressed representation\n",
        "- Decoder layer : (None,32),(32,784) = (None,784) #reconstructed layer\n",
        "\n",
        "![alt text](https://i.imgur.com/Su00XUA.png)"
      ],
      "metadata": {
        "id": "Ki6kiL6Q30xU"
      }
    },
    {
      "cell_type": "markdown",
      "source": [
        "## Import the required libraries - tensorflow"
      ],
      "metadata": {
        "id": "f7I--IpT7qWy"
      }
    },
    {
      "cell_type": "code",
      "source": [
        "# for data analysis\n",
        "import pandas as pd\n",
        "import numpy as np\n",
        "# for data visualization\n",
        "import matplotlib.pyplot as plt\n",
        "import seaborn as sns\n",
        "# for model training\n",
        "import tensorflow as tf # Importing Tensorflow Library\n",
        "from tensorflow.keras.datasets import mnist # importing mnist data set\n",
        "from tensorflow.keras.layers import Input,Dense,Activation # fully connected\n",
        "from tensorflow.keras.models import Model #functional compilation\n",
        "from tensorflow.keras.optimizers import Adam"
      ],
      "metadata": {
        "id": "du_G27hGm8eO"
      },
      "execution_count": 15,
      "outputs": []
    },
    {
      "cell_type": "markdown",
      "source": [
        "- 2 ways to compose a deep learning code\n",
        "- Sequential Process - No need to intermediate outputs\n",
        "- Require intermediate outputs - Functional Compostion\n",
        "- Functional Composition - Callable instance - call uopn last layer - will be using this concept as after encoder we need to output to execute the Decoder to re-construct the input."
      ],
      "metadata": {
        "id": "2Tim3JxT8wBy"
      }
    },
    {
      "cell_type": "markdown",
      "source": [
        "## Pre-process the dataset"
      ],
      "metadata": {
        "id": "4Dd_Mke5CTLE"
      }
    },
    {
      "cell_type": "code",
      "source": [
        "(X_train,_),(X_test,_) = mnist.load_data()\n",
        "# y_train and y_ test was kept balnk as it is not required at all. Which help to reduce the memory"
      ],
      "metadata": {
        "colab": {
          "base_uri": "https://localhost:8080/"
        },
        "id": "xzUuoZJ8C5FK",
        "outputId": "5559ba69-254a-4826-f71a-edc4b56d86b6"
      },
      "execution_count": 3,
      "outputs": [
        {
          "output_type": "stream",
          "name": "stdout",
          "text": [
            "Downloading data from https://storage.googleapis.com/tensorflow/tf-keras-datasets/mnist.npz\n",
            "\u001b[1m11490434/11490434\u001b[0m \u001b[32m━━━━━━━━━━━━━━━━━━━━\u001b[0m\u001b[37m\u001b[0m \u001b[1m1s\u001b[0m 0us/step\n"
          ]
        }
      ]
    },
    {
      "cell_type": "code",
      "source": [
        "# normalize the input value in range 0 to 1 as we will be using sigmoid function which range 0 to 1\n",
        "X_train =X_train.astype('float32')/255\n",
        "X_test =X_test.astype('float32')/255\n",
        "\n",
        "#current train dataset shape is 60000*28*28\n",
        "#current test dataset shape is 10000*28*28\n",
        "#but we need dataset in 784 pixel,hence we need to reshape\n",
        "X_train=X_train.reshape((len(X_train),784))\n",
        "X_test=X_test.reshape((len(X_test),784))"
      ],
      "metadata": {
        "id": "9Q_mEJ7kmnju"
      },
      "execution_count": 4,
      "outputs": []
    },
    {
      "cell_type": "code",
      "source": [
        "print(X_train.shape)\n",
        "print(X_test.shape)"
      ],
      "metadata": {
        "colab": {
          "base_uri": "https://localhost:8080/"
        },
        "id": "BF4Kh3mrnxag",
        "outputId": "f2750399-f3c7-4083-a375-fb26096b0bf6"
      },
      "execution_count": 5,
      "outputs": [
        {
          "output_type": "stream",
          "name": "stdout",
          "text": [
            "(60000, 784)\n",
            "(10000, 784)\n"
          ]
        }
      ]
    },
    {
      "cell_type": "markdown",
      "source": [
        "# Autoencoder Structure"
      ],
      "metadata": {
        "id": "MWjsRTFX4bNn"
      }
    },
    {
      "cell_type": "markdown",
      "source": [
        "## Encoder"
      ],
      "metadata": {
        "id": "QEBzNmdp4BrJ"
      }
    },
    {
      "cell_type": "code",
      "source": [
        "encoding_dim = 32 # encoder representation - 784 pixel to only 32 pixel as output (None,32).\n",
        "\n",
        "#Input Layer.define placeholder for our input.\n",
        "input_image = Input(shape = (784,)) # input layer - after 784 it is just comma becuase it's dentoes not of channel.\n",
        "# for black and white image there is only one channel but it were colour image it would  have (784,3) as colour is having 3 channel - RGB- Red , Green and Blue.\n",
        "\n",
        "#encoded layer\n",
        "#Dense - fully connected Layer , Sigmoid Activation Function\n",
        "encoded = Dense(encoding_dim,activation = 'sigmoid')(input_image) # None,32\n",
        "# we require Dense - Fully Connected Layer with 32 nodes with Sigmoid Activation\n",
        "# (None,784).() = (None,32)"
      ],
      "metadata": {
        "id": "l3B7RcdjIVCT"
      },
      "execution_count": 6,
      "outputs": []
    },
    {
      "cell_type": "markdown",
      "source": [
        "## Decoder"
      ],
      "metadata": {
        "id": "Ewtwda104FAm"
      }
    },
    {
      "cell_type": "code",
      "source": [
        "# (None,32),(32,784) = (None,784) #reconstructed layer\n",
        "decoded = Dense(784,activation = 'sigmoid')(encoded) # 784 represents the no of neurons , value will be always how  many neurons we want in next layer\n"
      ],
      "metadata": {
        "id": "M-ABp2GGPXwI"
      },
      "execution_count": 7,
      "outputs": []
    },
    {
      "cell_type": "markdown",
      "source": [
        "## Full Autoencoder"
      ],
      "metadata": {
        "id": "L4MTUrXe4Mjz"
      }
    },
    {
      "cell_type": "code",
      "source": [
        "autoencoder = Model(input_image,decoded)\n",
        "# input_image -- input image\n",
        "# decoded -- reconstructed image"
      ],
      "metadata": {
        "id": "KXEHFq0s0enY"
      },
      "execution_count": 8,
      "outputs": []
    },
    {
      "cell_type": "markdown",
      "source": [
        "# Autoencoder Model"
      ],
      "metadata": {
        "id": "tnn5lc490Y7H"
      }
    },
    {
      "cell_type": "markdown",
      "source": [
        "## Build the Encoder Model"
      ],
      "metadata": {
        "id": "dfjRQ8ZoINgs"
      }
    },
    {
      "cell_type": "code",
      "source": [
        "encoder = Model(input_image,encoded)"
      ],
      "metadata": {
        "id": "BobuUf04416x"
      },
      "execution_count": 9,
      "outputs": []
    },
    {
      "cell_type": "markdown",
      "source": [
        "## Build the Decoder Model"
      ],
      "metadata": {
        "id": "VxZw4ih2PUWT"
      }
    },
    {
      "cell_type": "code",
      "source": [
        "#(None,32),(32,784) = (None,784)\n",
        "encoder_input = Input(shape = (encoding_dim,))\n",
        "# retrieve the last layer of the autoencoder layer\n",
        "decoded_layer = autoencoder.layers[-1] # last layer\n",
        "decoder = Model(encoder_input,decoded_layer(encoder_input)) # 32 pixel image will get convert into 784 pixel as orginial image\n"
      ],
      "metadata": {
        "id": "UXvjdWV_5Fvp"
      },
      "execution_count": 10,
      "outputs": []
    },
    {
      "cell_type": "markdown",
      "source": [
        "## Complete Model - Encoder + Decoder"
      ],
      "metadata": {
        "id": "WhNivpHe4qK4"
      }
    },
    {
      "cell_type": "code",
      "source": [
        "#model compilation\n",
        "autoencoder.compile(loss = 'binary_crossentropy',optimizer = Adam(learning_rate  = 0.001))\n",
        "autoencoder.summary()"
      ],
      "metadata": {
        "colab": {
          "base_uri": "https://localhost:8080/",
          "height": 267
        },
        "id": "MyW5hiOy8la7",
        "outputId": "368e823f-01a4-42ed-88ba-6fdc85e4e37b"
      },
      "execution_count": 11,
      "outputs": [
        {
          "output_type": "display_data",
          "data": {
            "text/plain": [
              "\u001b[1mModel: \"functional\"\u001b[0m\n"
            ],
            "text/html": [
              "<pre style=\"white-space:pre;overflow-x:auto;line-height:normal;font-family:Menlo,'DejaVu Sans Mono',consolas,'Courier New',monospace\"><span style=\"font-weight: bold\">Model: \"functional\"</span>\n",
              "</pre>\n"
            ]
          },
          "metadata": {}
        },
        {
          "output_type": "display_data",
          "data": {
            "text/plain": [
              "┏━━━━━━━━━━━━━━━━━━━━━━━━━━━━━━━━━━━━━━┳━━━━━━━━━━━━━━━━━━━━━━━━━━━━━┳━━━━━━━━━━━━━━━━━┓\n",
              "┃\u001b[1m \u001b[0m\u001b[1mLayer (type)                        \u001b[0m\u001b[1m \u001b[0m┃\u001b[1m \u001b[0m\u001b[1mOutput Shape               \u001b[0m\u001b[1m \u001b[0m┃\u001b[1m \u001b[0m\u001b[1m        Param #\u001b[0m\u001b[1m \u001b[0m┃\n",
              "┡━━━━━━━━━━━━━━━━━━━━━━━━━━━━━━━━━━━━━━╇━━━━━━━━━━━━━━━━━━━━━━━━━━━━━╇━━━━━━━━━━━━━━━━━┩\n",
              "│ input_layer (\u001b[38;5;33mInputLayer\u001b[0m)             │ (\u001b[38;5;45mNone\u001b[0m, \u001b[38;5;34m784\u001b[0m)                 │               \u001b[38;5;34m0\u001b[0m │\n",
              "├──────────────────────────────────────┼─────────────────────────────┼─────────────────┤\n",
              "│ dense (\u001b[38;5;33mDense\u001b[0m)                        │ (\u001b[38;5;45mNone\u001b[0m, \u001b[38;5;34m32\u001b[0m)                  │          \u001b[38;5;34m25,120\u001b[0m │\n",
              "├──────────────────────────────────────┼─────────────────────────────┼─────────────────┤\n",
              "│ dense_1 (\u001b[38;5;33mDense\u001b[0m)                      │ (\u001b[38;5;45mNone\u001b[0m, \u001b[38;5;34m784\u001b[0m)                 │          \u001b[38;5;34m25,872\u001b[0m │\n",
              "└──────────────────────────────────────┴─────────────────────────────┴─────────────────┘\n"
            ],
            "text/html": [
              "<pre style=\"white-space:pre;overflow-x:auto;line-height:normal;font-family:Menlo,'DejaVu Sans Mono',consolas,'Courier New',monospace\">┏━━━━━━━━━━━━━━━━━━━━━━━━━━━━━━━━━━━━━━┳━━━━━━━━━━━━━━━━━━━━━━━━━━━━━┳━━━━━━━━━━━━━━━━━┓\n",
              "┃<span style=\"font-weight: bold\"> Layer (type)                         </span>┃<span style=\"font-weight: bold\"> Output Shape                </span>┃<span style=\"font-weight: bold\">         Param # </span>┃\n",
              "┡━━━━━━━━━━━━━━━━━━━━━━━━━━━━━━━━━━━━━━╇━━━━━━━━━━━━━━━━━━━━━━━━━━━━━╇━━━━━━━━━━━━━━━━━┩\n",
              "│ input_layer (<span style=\"color: #0087ff; text-decoration-color: #0087ff\">InputLayer</span>)             │ (<span style=\"color: #00d7ff; text-decoration-color: #00d7ff\">None</span>, <span style=\"color: #00af00; text-decoration-color: #00af00\">784</span>)                 │               <span style=\"color: #00af00; text-decoration-color: #00af00\">0</span> │\n",
              "├──────────────────────────────────────┼─────────────────────────────┼─────────────────┤\n",
              "│ dense (<span style=\"color: #0087ff; text-decoration-color: #0087ff\">Dense</span>)                        │ (<span style=\"color: #00d7ff; text-decoration-color: #00d7ff\">None</span>, <span style=\"color: #00af00; text-decoration-color: #00af00\">32</span>)                  │          <span style=\"color: #00af00; text-decoration-color: #00af00\">25,120</span> │\n",
              "├──────────────────────────────────────┼─────────────────────────────┼─────────────────┤\n",
              "│ dense_1 (<span style=\"color: #0087ff; text-decoration-color: #0087ff\">Dense</span>)                      │ (<span style=\"color: #00d7ff; text-decoration-color: #00d7ff\">None</span>, <span style=\"color: #00af00; text-decoration-color: #00af00\">784</span>)                 │          <span style=\"color: #00af00; text-decoration-color: #00af00\">25,872</span> │\n",
              "└──────────────────────────────────────┴─────────────────────────────┴─────────────────┘\n",
              "</pre>\n"
            ]
          },
          "metadata": {}
        },
        {
          "output_type": "display_data",
          "data": {
            "text/plain": [
              "\u001b[1m Total params: \u001b[0m\u001b[38;5;34m50,992\u001b[0m (199.19 KB)\n"
            ],
            "text/html": [
              "<pre style=\"white-space:pre;overflow-x:auto;line-height:normal;font-family:Menlo,'DejaVu Sans Mono',consolas,'Courier New',monospace\"><span style=\"font-weight: bold\"> Total params: </span><span style=\"color: #00af00; text-decoration-color: #00af00\">50,992</span> (199.19 KB)\n",
              "</pre>\n"
            ]
          },
          "metadata": {}
        },
        {
          "output_type": "display_data",
          "data": {
            "text/plain": [
              "\u001b[1m Trainable params: \u001b[0m\u001b[38;5;34m50,992\u001b[0m (199.19 KB)\n"
            ],
            "text/html": [
              "<pre style=\"white-space:pre;overflow-x:auto;line-height:normal;font-family:Menlo,'DejaVu Sans Mono',consolas,'Courier New',monospace\"><span style=\"font-weight: bold\"> Trainable params: </span><span style=\"color: #00af00; text-decoration-color: #00af00\">50,992</span> (199.19 KB)\n",
              "</pre>\n"
            ]
          },
          "metadata": {}
        },
        {
          "output_type": "display_data",
          "data": {
            "text/plain": [
              "\u001b[1m Non-trainable params: \u001b[0m\u001b[38;5;34m0\u001b[0m (0.00 B)\n"
            ],
            "text/html": [
              "<pre style=\"white-space:pre;overflow-x:auto;line-height:normal;font-family:Menlo,'DejaVu Sans Mono',consolas,'Courier New',monospace\"><span style=\"font-weight: bold\"> Non-trainable params: </span><span style=\"color: #00af00; text-decoration-color: #00af00\">0</span> (0.00 B)\n",
              "</pre>\n"
            ]
          },
          "metadata": {}
        }
      ]
    },
    {
      "cell_type": "code",
      "source": [
        "#model fitting\n",
        "autoencoder.fit(X_train,X_train,\n",
        "                epochs=15,\n",
        "                batch_size =16,\n",
        "                shuffle = True,\n",
        "                validation_data = (X_test,X_test))"
      ],
      "metadata": {
        "colab": {
          "base_uri": "https://localhost:8080/"
        },
        "id": "oqYs3yVh-1Dx",
        "outputId": "6709d647-5e90-4dc4-d830-844b674fa0cc"
      },
      "execution_count": 12,
      "outputs": [
        {
          "output_type": "stream",
          "name": "stdout",
          "text": [
            "Epoch 1/15\n",
            "\u001b[1m3750/3750\u001b[0m \u001b[32m━━━━━━━━━━━━━━━━━━━━\u001b[0m\u001b[37m\u001b[0m \u001b[1m9s\u001b[0m 2ms/step - loss: 0.2873 - val_loss: 0.2304\n",
            "Epoch 2/15\n",
            "\u001b[1m3750/3750\u001b[0m \u001b[32m━━━━━━━━━━━━━━━━━━━━\u001b[0m\u001b[37m\u001b[0m \u001b[1m6s\u001b[0m 2ms/step - loss: 0.2173 - val_loss: 0.1912\n",
            "Epoch 3/15\n",
            "\u001b[1m3750/3750\u001b[0m \u001b[32m━━━━━━━━━━━━━━━━━━━━\u001b[0m\u001b[37m\u001b[0m \u001b[1m10s\u001b[0m 2ms/step - loss: 0.1878 - val_loss: 0.1785\n",
            "Epoch 4/15\n",
            "\u001b[1m3750/3750\u001b[0m \u001b[32m━━━━━━━━━━━━━━━━━━━━\u001b[0m\u001b[37m\u001b[0m \u001b[1m10s\u001b[0m 2ms/step - loss: 0.1776 - val_loss: 0.1732\n",
            "Epoch 5/15\n",
            "\u001b[1m3750/3750\u001b[0m \u001b[32m━━━━━━━━━━━━━━━━━━━━\u001b[0m\u001b[37m\u001b[0m \u001b[1m7s\u001b[0m 2ms/step - loss: 0.1726 - val_loss: 0.1676\n",
            "Epoch 6/15\n",
            "\u001b[1m3750/3750\u001b[0m \u001b[32m━━━━━━━━━━━━━━━━━━━━\u001b[0m\u001b[37m\u001b[0m \u001b[1m9s\u001b[0m 2ms/step - loss: 0.1681 - val_loss: 0.1646\n",
            "Epoch 7/15\n",
            "\u001b[1m3750/3750\u001b[0m \u001b[32m━━━━━━━━━━━━━━━━━━━━\u001b[0m\u001b[37m\u001b[0m \u001b[1m8s\u001b[0m 2ms/step - loss: 0.1654 - val_loss: 0.1630\n",
            "Epoch 8/15\n",
            "\u001b[1m3750/3750\u001b[0m \u001b[32m━━━━━━━━━━━━━━━━━━━━\u001b[0m\u001b[37m\u001b[0m \u001b[1m6s\u001b[0m 2ms/step - loss: 0.1642 - val_loss: 0.1618\n",
            "Epoch 9/15\n",
            "\u001b[1m3750/3750\u001b[0m \u001b[32m━━━━━━━━━━━━━━━━━━━━\u001b[0m\u001b[37m\u001b[0m \u001b[1m8s\u001b[0m 2ms/step - loss: 0.1631 - val_loss: 0.1600\n",
            "Epoch 10/15\n",
            "\u001b[1m3750/3750\u001b[0m \u001b[32m━━━━━━━━━━━━━━━━━━━━\u001b[0m\u001b[37m\u001b[0m \u001b[1m6s\u001b[0m 2ms/step - loss: 0.1597 - val_loss: 0.1519\n",
            "Epoch 11/15\n",
            "\u001b[1m3750/3750\u001b[0m \u001b[32m━━━━━━━━━━━━━━━━━━━━\u001b[0m\u001b[37m\u001b[0m \u001b[1m8s\u001b[0m 2ms/step - loss: 0.1521 - val_loss: 0.1487\n",
            "Epoch 12/15\n",
            "\u001b[1m3750/3750\u001b[0m \u001b[32m━━━━━━━━━━━━━━━━━━━━\u001b[0m\u001b[37m\u001b[0m \u001b[1m6s\u001b[0m 2ms/step - loss: 0.1497 - val_loss: 0.1476\n",
            "Epoch 13/15\n",
            "\u001b[1m3750/3750\u001b[0m \u001b[32m━━━━━━━━━━━━━━━━━━━━\u001b[0m\u001b[37m\u001b[0m \u001b[1m7s\u001b[0m 2ms/step - loss: 0.1477 - val_loss: 0.1439\n",
            "Epoch 14/15\n",
            "\u001b[1m3750/3750\u001b[0m \u001b[32m━━━━━━━━━━━━━━━━━━━━\u001b[0m\u001b[37m\u001b[0m \u001b[1m10s\u001b[0m 2ms/step - loss: 0.1447 - val_loss: 0.1425\n",
            "Epoch 15/15\n",
            "\u001b[1m3750/3750\u001b[0m \u001b[32m━━━━━━━━━━━━━━━━━━━━\u001b[0m\u001b[37m\u001b[0m \u001b[1m10s\u001b[0m 2ms/step - loss: 0.1434 - val_loss: 0.1400\n"
          ]
        },
        {
          "output_type": "execute_result",
          "data": {
            "text/plain": [
              "<keras.src.callbacks.history.History at 0x7bc625917a90>"
            ]
          },
          "metadata": {},
          "execution_count": 12
        }
      ]
    },
    {
      "cell_type": "code",
      "source": [
        "# prediction\n",
        "encoded_imgs = encoder.predict(X_test[0:10]) #  10 test images  first 784 - 32\n",
        "decoded_imgs = decoder.predict(encoded_imgs) #32 -784"
      ],
      "metadata": {
        "colab": {
          "base_uri": "https://localhost:8080/"
        },
        "id": "_c5T0mvKskSC",
        "outputId": "5f6b8d49-b5f9-44b6-b0e5-f17533881a64"
      },
      "execution_count": 13,
      "outputs": [
        {
          "output_type": "stream",
          "name": "stdout",
          "text": [
            "\u001b[1m1/1\u001b[0m \u001b[32m━━━━━━━━━━━━━━━━━━━━\u001b[0m\u001b[37m\u001b[0m \u001b[1m0s\u001b[0m 150ms/step\n",
            "\u001b[1m1/1\u001b[0m \u001b[32m━━━━━━━━━━━━━━━━━━━━\u001b[0m\u001b[37m\u001b[0m \u001b[1m0s\u001b[0m 146ms/step\n"
          ]
        }
      ]
    },
    {
      "cell_type": "code",
      "source": [
        "#visualize the predicted images\n",
        "n = 10\n",
        "plt.figure(figsize=(20,4))\n",
        "# original images - 10 - first row\n",
        "# reconstructured images - 10- second row\n",
        "for i in range(n):\n",
        "  #original images\n",
        "  plt.subplot(2,n,i+1)\n",
        "  plt.imshow(X_test[i].reshape(28,28))\n",
        "  plt.gray()\n",
        "  plt.axis('off')\n",
        "  #reconstructured images\n",
        "  plt.subplot(2,n,i+1+n)\n",
        "  plt.imshow(decoded_imgs[i].reshape(28,28))\n",
        "  plt.gray()\n",
        "  plt.axis('off')"
      ],
      "metadata": {
        "colab": {
          "base_uri": "https://localhost:8080/",
          "height": 250
        },
        "id": "PK-C5lL-tNBu",
        "outputId": "813f1004-9f44-46b4-ceb3-5a0d4f88f099"
      },
      "execution_count": 18,
      "outputs": [
        {
          "output_type": "display_data",
          "data": {
            "text/plain": [
              "<Figure size 2000x400 with 20 Axes>"
            ],
            "image/png": "[encoded data removed]"
          },
          "metadata": {}
        }
      ]
    }
  ]
}