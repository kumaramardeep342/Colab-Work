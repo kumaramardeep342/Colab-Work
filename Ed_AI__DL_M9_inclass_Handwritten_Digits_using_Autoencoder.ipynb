{
  "nbformat": 4,
  "nbformat_minor": 0,
  "metadata": {
    "colab": {
      "provenance": [],
      "toc_visible": true,
      "gpuType": "T4",
      "mount_file_id": "1G6MSUKBd2QJmiCVtsbhD26Hg_TFONOuK",
      "authorship_tag": "ABX9TyMIMC5wbLwF3wRaQHjfJUpr",
      "include_colab_link": true
    },
    "kernelspec": {
      "name": "python3",
      "display_name": "Python 3"
    },
    "language_info": {
      "name": "python"
    },
    "accelerator": "GPU"
  },
  "cells": [
    {
      "cell_type": "markdown",
      "metadata": {
        "id": "view-in-github",
        "colab_type": "text"
      },
      "source": [
        "<a href=\"https://colab.research.google.com/github/kumaramardeep342/Colab-Work/blob/main/Ed_AI__DL_M9_inclass_Handwritten_Digits_using_Autoencoder.ipynb\" target=\"_parent\"><img src=\"https://colab.research.google.com/assets/colab-badge.svg\" alt=\"Open In Colab\"/></a>"
      ]
    },
    {
      "cell_type": "code",
      "execution_count": 2,
      "metadata": {
        "id": "cX-0zlkMlNTR"
      },
      "outputs": [],
      "source": [
        "#Mount the Google Drive\n",
        "# from google.colab import drive\n",
        "# drive.mount('/content/drive')"
      ]
    },
    {
      "cell_type": "markdown",
      "source": [
        "# Handwritten Digits using Autoencoder TensorFlow"
      ],
      "metadata": {
        "id": "1-t69blS3tXg"
      }
    },
    {
      "cell_type": "markdown",
      "source": [
        "## Problem Statement\n",
        "- MNIST data - (None,784)\n",
        "- Autoencoders\n",
        "- Reconstruct the input\n",
        "- Encoder layer : (None,784),(784,32) = (None,32) #compressed representation\n",
        "- Decoder layer : (None,32),(32,784) = (None,784) #reconstructed layer\n",
        "\n",
        "![alt text](https://i.imgur.com/Su00XUA.png)"
      ],
      "metadata": {
        "id": "Ki6kiL6Q30xU"
      }
    },
    {
      "cell_type": "markdown",
      "source": [
        "## Import the required libraries - tensorflow"
      ],
      "metadata": {
        "id": "f7I--IpT7qWy"
      }
    },
    {
      "cell_type": "code",
      "source": [
        "# for data analysis\n",
        "import pandas as pd\n",
        "import numpy as np\n",
        "# for data visualization\n",
        "import matplotlib.pyplot as plt\n",
        "import seaborn as sns\n",
        "# for model training\n",
        "import tensorflow as tf # Importing Tensorflow Library\n",
        "from tensorflow.keras.datasets import mnist # importing mnist data set\n",
        "from tensorflow.keras.layers import Input,Dense,Activation # fully connected\n",
        "from tensorflow.keras.models import Model #functional compilation\n",
        "from tensorflow.keras.optimizers import Adam"
      ],
      "metadata": {
        "id": "du_G27hGm8eO"
      },
      "execution_count": 3,
      "outputs": []
    },
    {
      "cell_type": "markdown",
      "source": [
        "- 2 ways to compose a deep learning code\n",
        "- Sequential Process - No need to intermediate outputs\n",
        "- Require intermediate outputs - Functional Compostion\n",
        "- Functional Composition - Callable instance - call uopn last layer - will be using this concept as after encoder we need to output to execute the Decoder to re-construct the input."
      ],
      "metadata": {
        "id": "2Tim3JxT8wBy"
      }
    },
    {
      "cell_type": "markdown",
      "source": [
        "## Pre-process the dataset"
      ],
      "metadata": {
        "id": "4Dd_Mke5CTLE"
      }
    },
    {
      "cell_type": "code",
      "source": [
        "(X_train,_),(X_test,_) = mnist.load_data()\n",
        "# y_train and y_ test was kept balnk as it is not required at all. Which help to reduce the memory"
      ],
      "metadata": {
        "colab": {
          "base_uri": "https://localhost:8080/"
        },
        "id": "xzUuoZJ8C5FK",
        "outputId": "c27fc7c6-b70f-49ea-d683-988e68fce9ab"
      },
      "execution_count": 4,
      "outputs": [
        {
          "output_type": "stream",
          "name": "stdout",
          "text": [
            "Downloading data from https://storage.googleapis.com/tensorflow/tf-keras-datasets/mnist.npz\n",
            "\u001b[1m11490434/11490434\u001b[0m \u001b[32m━━━━━━━━━━━━━━━━━━━━\u001b[0m\u001b[37m\u001b[0m \u001b[1m2s\u001b[0m 0us/step\n"
          ]
        }
      ]
    },
    {
      "cell_type": "code",
      "source": [
        "# normalize the input value in range 0 to 1 as we will be using sigmoid function which range 0 to 1\n",
        "X_train =X_train.astype('float32')/255\n",
        "X_test =X_test.astype('float32')/255\n",
        "\n",
        "#current train dataset shape is 60000*28*28\n",
        "#current test dataset shape is 10000*28*28\n",
        "#but we need dataset in 784 pixel,hence we need to reshape\n",
        "X_train=X_train.reshape((len(X_train),784))\n",
        "X_test=X_test.reshape((len(X_test),784))"
      ],
      "metadata": {
        "id": "9Q_mEJ7kmnju"
      },
      "execution_count": 5,
      "outputs": []
    },
    {
      "cell_type": "code",
      "source": [
        "print(X_train.shape)\n",
        "print(X_test.shape)"
      ],
      "metadata": {
        "colab": {
          "base_uri": "https://localhost:8080/"
        },
        "id": "BF4Kh3mrnxag",
        "outputId": "e2e98a6a-bec9-4bec-9fea-ae9543baebaa"
      },
      "execution_count": 6,
      "outputs": [
        {
          "output_type": "stream",
          "name": "stdout",
          "text": [
            "(60000, 784)\n",
            "(10000, 784)\n"
          ]
        }
      ]
    },
    {
      "cell_type": "markdown",
      "source": [
        "# Autoencoder Structure - Functional Composition\n",
        "- Through Sequential it is also feasible using both libraries. See Pytorch of the Autoencoder."
      ],
      "metadata": {
        "id": "MWjsRTFX4bNn"
      }
    },
    {
      "cell_type": "markdown",
      "source": [
        "## Encoder"
      ],
      "metadata": {
        "id": "QEBzNmdp4BrJ"
      }
    },
    {
      "cell_type": "code",
      "source": [
        "encoding_dim = 32 # encoder representation - 784 pixel to only 32 pixel as output (None,32).\n",
        "\n",
        "#Input Layer.define placeholder for our input.\n",
        "input_image = Input(shape = (784,)) # input layer - after 784 it is just comma becuase it's dentoes not of channel.\n",
        "# for black and white image there is only one channel but it were colour image it would  have (784,3) as colour is having 3 channel - RGB- Red , Green and Blue.\n",
        "\n",
        "#encoded layer\n",
        "#Dense - fully connected Layer , Sigmoid Activation Function\n",
        "encoded = Dense(encoding_dim,activation = 'sigmoid')(input_image) # None,32\n",
        "# we require Dense - Fully Connected Layer with 32 nodes with Sigmoid Activation\n",
        "# (None,784).() = (None,32)"
      ],
      "metadata": {
        "id": "l3B7RcdjIVCT"
      },
      "execution_count": 7,
      "outputs": []
    },
    {
      "cell_type": "markdown",
      "source": [
        "## Decoder"
      ],
      "metadata": {
        "id": "Ewtwda104FAm"
      }
    },
    {
      "cell_type": "code",
      "source": [
        "# (None,32),(32,784) = (None,784) #reconstructed layer\n",
        "decoded = Dense(784,activation = 'sigmoid')(encoded) # 784 represents the no of neurons , value will be always how  many neurons we want in next layer\n"
      ],
      "metadata": {
        "id": "M-ABp2GGPXwI"
      },
      "execution_count": 8,
      "outputs": []
    },
    {
      "cell_type": "markdown",
      "source": [
        "## Full Autoencoder"
      ],
      "metadata": {
        "id": "L4MTUrXe4Mjz"
      }
    },
    {
      "cell_type": "code",
      "source": [
        "autoencoder = Model(input_image,decoded)\n",
        "# input_image -- input image\n",
        "# decoded -- reconstructed image"
      ],
      "metadata": {
        "id": "KXEHFq0s0enY"
      },
      "execution_count": 9,
      "outputs": []
    },
    {
      "cell_type": "markdown",
      "source": [
        "# Autoencoder Model"
      ],
      "metadata": {
        "id": "tnn5lc490Y7H"
      }
    },
    {
      "cell_type": "markdown",
      "source": [
        "## Build the Encoder Model"
      ],
      "metadata": {
        "id": "dfjRQ8ZoINgs"
      }
    },
    {
      "cell_type": "code",
      "source": [
        "encoder = Model(input_image,encoded)"
      ],
      "metadata": {
        "id": "BobuUf04416x"
      },
      "execution_count": 10,
      "outputs": []
    },
    {
      "cell_type": "markdown",
      "source": [
        "## Build the Decoder Model"
      ],
      "metadata": {
        "id": "VxZw4ih2PUWT"
      }
    },
    {
      "cell_type": "code",
      "source": [
        "#(None,32),(32,784) = (None,784)\n",
        "encoder_input = Input(shape = (encoding_dim,))\n",
        "# retrieve the last layer of the autoencoder layer\n",
        "decoded_layer = autoencoder.layers[-1] # last layer\n",
        "decoder = Model(encoder_input,decoded_layer(encoder_input)) # 32 pixel image will get convert into 784 pixel as orginial image\n"
      ],
      "metadata": {
        "id": "UXvjdWV_5Fvp"
      },
      "execution_count": 11,
      "outputs": []
    },
    {
      "cell_type": "markdown",
      "source": [
        "## Complete Model - Encoder + Decoder"
      ],
      "metadata": {
        "id": "WhNivpHe4qK4"
      }
    },
    {
      "cell_type": "code",
      "source": [
        "#model compilation\n",
        "autoencoder.compile(loss = 'binary_crossentropy',optimizer = Adam(learning_rate  = 0.001))\n",
        "autoencoder.summary()"
      ],
      "metadata": {
        "colab": {
          "base_uri": "https://localhost:8080/",
          "height": 267
        },
        "id": "MyW5hiOy8la7",
        "outputId": "efcbc43d-e99d-4fcd-8129-f99b3f64f316"
      },
      "execution_count": 12,
      "outputs": [
        {
          "output_type": "display_data",
          "data": {
            "text/plain": [
              "\u001b[1mModel: \"functional\"\u001b[0m\n"
            ],
            "text/html": [
              "<pre style=\"white-space:pre;overflow-x:auto;line-height:normal;font-family:Menlo,'DejaVu Sans Mono',consolas,'Courier New',monospace\"><span style=\"font-weight: bold\">Model: \"functional\"</span>\n",
              "</pre>\n"
            ]
          },
          "metadata": {}
        },
        {
          "output_type": "display_data",
          "data": {
            "text/plain": [
              "┏━━━━━━━━━━━━━━━━━━━━━━━━━━━━━━━━━━━━━━┳━━━━━━━━━━━━━━━━━━━━━━━━━━━━━┳━━━━━━━━━━━━━━━━━┓\n",
              "┃\u001b[1m \u001b[0m\u001b[1mLayer (type)                        \u001b[0m\u001b[1m \u001b[0m┃\u001b[1m \u001b[0m\u001b[1mOutput Shape               \u001b[0m\u001b[1m \u001b[0m┃\u001b[1m \u001b[0m\u001b[1m        Param #\u001b[0m\u001b[1m \u001b[0m┃\n",
              "┡━━━━━━━━━━━━━━━━━━━━━━━━━━━━━━━━━━━━━━╇━━━━━━━━━━━━━━━━━━━━━━━━━━━━━╇━━━━━━━━━━━━━━━━━┩\n",
              "│ input_layer (\u001b[38;5;33mInputLayer\u001b[0m)             │ (\u001b[38;5;45mNone\u001b[0m, \u001b[38;5;34m784\u001b[0m)                 │               \u001b[38;5;34m0\u001b[0m │\n",
              "├──────────────────────────────────────┼─────────────────────────────┼─────────────────┤\n",
              "│ dense (\u001b[38;5;33mDense\u001b[0m)                        │ (\u001b[38;5;45mNone\u001b[0m, \u001b[38;5;34m32\u001b[0m)                  │          \u001b[38;5;34m25,120\u001b[0m │\n",
              "├──────────────────────────────────────┼─────────────────────────────┼─────────────────┤\n",
              "│ dense_1 (\u001b[38;5;33mDense\u001b[0m)                      │ (\u001b[38;5;45mNone\u001b[0m, \u001b[38;5;34m784\u001b[0m)                 │          \u001b[38;5;34m25,872\u001b[0m │\n",
              "└──────────────────────────────────────┴─────────────────────────────┴─────────────────┘\n"
            ],
            "text/html": [
              "<pre style=\"white-space:pre;overflow-x:auto;line-height:normal;font-family:Menlo,'DejaVu Sans Mono',consolas,'Courier New',monospace\">┏━━━━━━━━━━━━━━━━━━━━━━━━━━━━━━━━━━━━━━┳━━━━━━━━━━━━━━━━━━━━━━━━━━━━━┳━━━━━━━━━━━━━━━━━┓\n",
              "┃<span style=\"font-weight: bold\"> Layer (type)                         </span>┃<span style=\"font-weight: bold\"> Output Shape                </span>┃<span style=\"font-weight: bold\">         Param # </span>┃\n",
              "┡━━━━━━━━━━━━━━━━━━━━━━━━━━━━━━━━━━━━━━╇━━━━━━━━━━━━━━━━━━━━━━━━━━━━━╇━━━━━━━━━━━━━━━━━┩\n",
              "│ input_layer (<span style=\"color: #0087ff; text-decoration-color: #0087ff\">InputLayer</span>)             │ (<span style=\"color: #00d7ff; text-decoration-color: #00d7ff\">None</span>, <span style=\"color: #00af00; text-decoration-color: #00af00\">784</span>)                 │               <span style=\"color: #00af00; text-decoration-color: #00af00\">0</span> │\n",
              "├──────────────────────────────────────┼─────────────────────────────┼─────────────────┤\n",
              "│ dense (<span style=\"color: #0087ff; text-decoration-color: #0087ff\">Dense</span>)                        │ (<span style=\"color: #00d7ff; text-decoration-color: #00d7ff\">None</span>, <span style=\"color: #00af00; text-decoration-color: #00af00\">32</span>)                  │          <span style=\"color: #00af00; text-decoration-color: #00af00\">25,120</span> │\n",
              "├──────────────────────────────────────┼─────────────────────────────┼─────────────────┤\n",
              "│ dense_1 (<span style=\"color: #0087ff; text-decoration-color: #0087ff\">Dense</span>)                      │ (<span style=\"color: #00d7ff; text-decoration-color: #00d7ff\">None</span>, <span style=\"color: #00af00; text-decoration-color: #00af00\">784</span>)                 │          <span style=\"color: #00af00; text-decoration-color: #00af00\">25,872</span> │\n",
              "└──────────────────────────────────────┴─────────────────────────────┴─────────────────┘\n",
              "</pre>\n"
            ]
          },
          "metadata": {}
        },
        {
          "output_type": "display_data",
          "data": {
            "text/plain": [
              "\u001b[1m Total params: \u001b[0m\u001b[38;5;34m50,992\u001b[0m (199.19 KB)\n"
            ],
            "text/html": [
              "<pre style=\"white-space:pre;overflow-x:auto;line-height:normal;font-family:Menlo,'DejaVu Sans Mono',consolas,'Courier New',monospace\"><span style=\"font-weight: bold\"> Total params: </span><span style=\"color: #00af00; text-decoration-color: #00af00\">50,992</span> (199.19 KB)\n",
              "</pre>\n"
            ]
          },
          "metadata": {}
        },
        {
          "output_type": "display_data",
          "data": {
            "text/plain": [
              "\u001b[1m Trainable params: \u001b[0m\u001b[38;5;34m50,992\u001b[0m (199.19 KB)\n"
            ],
            "text/html": [
              "<pre style=\"white-space:pre;overflow-x:auto;line-height:normal;font-family:Menlo,'DejaVu Sans Mono',consolas,'Courier New',monospace\"><span style=\"font-weight: bold\"> Trainable params: </span><span style=\"color: #00af00; text-decoration-color: #00af00\">50,992</span> (199.19 KB)\n",
              "</pre>\n"
            ]
          },
          "metadata": {}
        },
        {
          "output_type": "display_data",
          "data": {
            "text/plain": [
              "\u001b[1m Non-trainable params: \u001b[0m\u001b[38;5;34m0\u001b[0m (0.00 B)\n"
            ],
            "text/html": [
              "<pre style=\"white-space:pre;overflow-x:auto;line-height:normal;font-family:Menlo,'DejaVu Sans Mono',consolas,'Courier New',monospace\"><span style=\"font-weight: bold\"> Non-trainable params: </span><span style=\"color: #00af00; text-decoration-color: #00af00\">0</span> (0.00 B)\n",
              "</pre>\n"
            ]
          },
          "metadata": {}
        }
      ]
    },
    {
      "cell_type": "code",
      "source": [
        "#model fitting\n",
        "history = autoencoder.fit(X_train,X_train,\n",
        "                epochs=15,\n",
        "                batch_size =16,\n",
        "                shuffle = True,\n",
        "                validation_data = (X_test,X_test))"
      ],
      "metadata": {
        "colab": {
          "base_uri": "https://localhost:8080/"
        },
        "id": "oqYs3yVh-1Dx",
        "outputId": "be594a38-bdcb-4baa-c270-64ed286ee7c9"
      },
      "execution_count": 13,
      "outputs": [
        {
          "output_type": "stream",
          "name": "stdout",
          "text": [
            "Epoch 1/15\n",
            "\u001b[1m3750/3750\u001b[0m \u001b[32m━━━━━━━━━━━━━━━━━━━━\u001b[0m\u001b[37m\u001b[0m \u001b[1m9s\u001b[0m 2ms/step - loss: 0.2878 - val_loss: 0.2324\n",
            "Epoch 2/15\n",
            "\u001b[1m3750/3750\u001b[0m \u001b[32m━━━━━━━━━━━━━━━━━━━━\u001b[0m\u001b[37m\u001b[0m \u001b[1m7s\u001b[0m 2ms/step - loss: 0.2183 - val_loss: 0.1907\n",
            "Epoch 3/15\n",
            "\u001b[1m3750/3750\u001b[0m \u001b[32m━━━━━━━━━━━━━━━━━━━━\u001b[0m\u001b[37m\u001b[0m \u001b[1m10s\u001b[0m 2ms/step - loss: 0.1874 - val_loss: 0.1754\n",
            "Epoch 4/15\n",
            "\u001b[1m3750/3750\u001b[0m \u001b[32m━━━━━━━━━━━━━━━━━━━━\u001b[0m\u001b[37m\u001b[0m \u001b[1m7s\u001b[0m 2ms/step - loss: 0.1742 - val_loss: 0.1689\n",
            "Epoch 5/15\n",
            "\u001b[1m3750/3750\u001b[0m \u001b[32m━━━━━━━━━━━━━━━━━━━━\u001b[0m\u001b[37m\u001b[0m \u001b[1m6s\u001b[0m 2ms/step - loss: 0.1688 - val_loss: 0.1655\n",
            "Epoch 6/15\n",
            "\u001b[1m3750/3750\u001b[0m \u001b[32m━━━━━━━━━━━━━━━━━━━━\u001b[0m\u001b[37m\u001b[0m \u001b[1m11s\u001b[0m 2ms/step - loss: 0.1664 - val_loss: 0.1637\n",
            "Epoch 7/15\n",
            "\u001b[1m3750/3750\u001b[0m \u001b[32m━━━━━━━━━━━━━━━━━━━━\u001b[0m\u001b[37m\u001b[0m \u001b[1m8s\u001b[0m 2ms/step - loss: 0.1646 - val_loss: 0.1624\n",
            "Epoch 8/15\n",
            "\u001b[1m3750/3750\u001b[0m \u001b[32m━━━━━━━━━━━━━━━━━━━━\u001b[0m\u001b[37m\u001b[0m \u001b[1m9s\u001b[0m 2ms/step - loss: 0.1627 - val_loss: 0.1555\n",
            "Epoch 9/15\n",
            "\u001b[1m3750/3750\u001b[0m \u001b[32m━━━━━━━━━━━━━━━━━━━━\u001b[0m\u001b[37m\u001b[0m \u001b[1m8s\u001b[0m 2ms/step - loss: 0.1542 - val_loss: 0.1495\n",
            "Epoch 10/15\n",
            "\u001b[1m3750/3750\u001b[0m \u001b[32m━━━━━━━━━━━━━━━━━━━━\u001b[0m\u001b[37m\u001b[0m \u001b[1m8s\u001b[0m 2ms/step - loss: 0.1500 - val_loss: 0.1471\n",
            "Epoch 11/15\n",
            "\u001b[1m3750/3750\u001b[0m \u001b[32m━━━━━━━━━━━━━━━━━━━━\u001b[0m\u001b[37m\u001b[0m \u001b[1m9s\u001b[0m 2ms/step - loss: 0.1472 - val_loss: 0.1439\n",
            "Epoch 12/15\n",
            "\u001b[1m3750/3750\u001b[0m \u001b[32m━━━━━━━━━━━━━━━━━━━━\u001b[0m\u001b[37m\u001b[0m \u001b[1m10s\u001b[0m 2ms/step - loss: 0.1446 - val_loss: 0.1424\n",
            "Epoch 13/15\n",
            "\u001b[1m3750/3750\u001b[0m \u001b[32m━━━━━━━━━━━━━━━━━━━━\u001b[0m\u001b[37m\u001b[0m \u001b[1m12s\u001b[0m 2ms/step - loss: 0.1437 - val_loss: 0.1399\n",
            "Epoch 14/15\n",
            "\u001b[1m3750/3750\u001b[0m \u001b[32m━━━━━━━━━━━━━━━━━━━━\u001b[0m\u001b[37m\u001b[0m \u001b[1m6s\u001b[0m 2ms/step - loss: 0.1389 - val_loss: 0.1304\n",
            "Epoch 15/15\n",
            "\u001b[1m3750/3750\u001b[0m \u001b[32m━━━━━━━━━━━━━━━━━━━━\u001b[0m\u001b[37m\u001b[0m \u001b[1m10s\u001b[0m 2ms/step - loss: 0.1300 - val_loss: 0.1227\n"
          ]
        }
      ]
    },
    {
      "cell_type": "code",
      "source": [
        "# Plot training history\n",
        "plt.figure(figsize=(14, 5))\n",
        "plt.subplot(1, 2, 1)\n",
        "plt.plot(history.history['loss'], label='Training Loss')\n",
        "plt.plot(history.history['val_loss'], label='Validation Loss')\n",
        "plt.title('Model Loss')\n",
        "plt.xlabel('Epoch')\n",
        "plt.ylabel('Loss')\n",
        "plt.legend()"
      ],
      "metadata": {
        "colab": {
          "base_uri": "https://localhost:8080/",
          "height": 504
        },
        "id": "FvFyD0YeHmMJ",
        "outputId": "b9ae3d84-6979-47d8-a322-bbf62ac8c840"
      },
      "execution_count": 14,
      "outputs": [
        {
          "output_type": "execute_result",
          "data": {
            "text/plain": [
              "<matplotlib.legend.Legend at 0x7e6b0951c460>"
            ]
          },
          "metadata": {},
          "execution_count": 14
        },
        {
          "output_type": "display_data",
          "data": {
            "text/plain": [
              "<Figure size 1400x500 with 1 Axes>"
            ],
            "image/png": "[encoded data removed]"
          },
          "metadata": {}
        }
      ]
    },
    {
      "cell_type": "code",
      "source": [
        "# prediction\n",
        "encoded_imgs = encoder.predict(X_test[0:10]) #  10 test images  first 784 - 32\n",
        "decoded_imgs = decoder.predict(encoded_imgs) #32 -784"
      ],
      "metadata": {
        "colab": {
          "base_uri": "https://localhost:8080/"
        },
        "id": "_c5T0mvKskSC",
        "outputId": "4edbf2d7-4afd-4de1-a337-b042e937dd0f"
      },
      "execution_count": 15,
      "outputs": [
        {
          "output_type": "stream",
          "name": "stdout",
          "text": [
            "\u001b[1m1/1\u001b[0m \u001b[32m━━━━━━━━━━━━━━━━━━━━\u001b[0m\u001b[37m\u001b[0m \u001b[1m0s\u001b[0m 151ms/step\n",
            "\u001b[1m1/1\u001b[0m \u001b[32m━━━━━━━━━━━━━━━━━━━━\u001b[0m\u001b[37m\u001b[0m \u001b[1m0s\u001b[0m 154ms/step\n"
          ]
        }
      ]
    },
    {
      "cell_type": "code",
      "source": [
        "#visualize the predicted images\n",
        "n = 10\n",
        "plt.figure(figsize=(20,4))\n",
        "# original images - 10 - first row\n",
        "# reconstructured images - 10- second row\n",
        "for i in range(n):\n",
        "  #original images\n",
        "  plt.subplot(2,n,i+1)\n",
        "  plt.imshow(X_test[i].reshape(28,28))\n",
        "  plt.gray()\n",
        "  plt.axis('off')\n",
        "  #reconstructured images\n",
        "  plt.subplot(2,n,i+1+n)\n",
        "  plt.imshow(decoded_imgs[i].reshape(28,28))\n",
        "  plt.gray()\n",
        "  plt.axis('off')"
      ],
      "metadata": {
        "colab": {
          "base_uri": "https://localhost:8080/",
          "height": 206
        },
        "id": "PK-C5lL-tNBu",
        "outputId": "e273c8c5-f3b4-4e21-a905-0edd2bd0d6dd"
      },
      "execution_count": 16,
      "outputs": [
        {
          "output_type": "display_data",
          "data": {
            "text/plain": [
              "<Figure size 2000x400 with 20 Axes>"
            ],
            "image/png": "[encoded data removed]"
          },
          "metadata": {}
        }
      ]
    }
  ]
}