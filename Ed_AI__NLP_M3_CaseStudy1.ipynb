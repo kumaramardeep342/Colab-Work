{
  "nbformat": 4,
  "nbformat_minor": 0,
  "metadata": {
    "colab": {
      "provenance": [],
      "mount_file_id": "1MTUHz1MvK5uDn8Vv-xFYbuwzd1JDRgqJ",
      "authorship_tag": "ABX9TyNiSTR9jLlZuRqKaL9pMtUs",
      "include_colab_link": true
    },
    "kernelspec": {
      "name": "python3",
      "display_name": "Python 3"
    },
    "language_info": {
      "name": "python"
    }
  },
  "cells": [
    {
      "cell_type": "markdown",
      "metadata": {
        "id": "view-in-github",
        "colab_type": "text"
      },
      "source": [
        "<a href=\"https://colab.research.google.com/github/kumaramardeep342/Colab-Work/blob/main/Ed_AI__NLP_M3_CaseStudy1.ipynb\" target=\"_parent\"><img src=\"https://colab.research.google.com/assets/colab-badge.svg\" alt=\"Open In Colab\"/></a>"
      ]
    },
    {
      "cell_type": "code",
      "source": [
        "# importing libraries\n",
        "\n",
        "# from google.colab import drive\n",
        "# drive.mount('/content/drive')\n",
        "\n",
        "#Enable Tabluar Format\n",
        "from google.colab import data_table\n",
        "data_table.enable_dataframe_formatter()\n",
        "\n",
        "#Disable Tabluar Format\n",
        "# from google.colab import data_table\n",
        "# data_table.disable_dataframe_formatter()\n",
        "\n",
        "import pandas as  pd\n",
        "from collections import Counter\n",
        "\n",
        "\n",
        "# https://spacy.io/usage/linguistic-features -- documentaion\n",
        "# https://spacy.io/models -- models\n",
        "# import Spacy\n",
        "!pip install spacy\n",
        "import spacy\n",
        "nlp = spacy.load(\"en_core_web_sm\")  # for high efficiency\n",
        "# en_core_web_sm -- en : means trained model on english language , core module trained on web article and data , sm : social media\n",
        "#nlp = spacy.load(\"en_core_web_trf\")  # for high accuracy\n",
        "#trf -- means transformer"
      ],
      "metadata": {
        "colab": {
          "base_uri": "https://localhost:8080/"
        },
        "id": "qNETNA8IFu_d",
        "outputId": "a30c1384-d499-4671-8a25-5983594d04b4"
      },
      "execution_count": 61,
      "outputs": [
        {
          "output_type": "stream",
          "name": "stdout",
          "text": [
            "Requirement already satisfied: spacy in /usr/local/lib/python3.10/dist-packages (3.7.5)\n",
            "Requirement already satisfied: spacy-legacy<3.1.0,>=3.0.11 in /usr/local/lib/python3.10/dist-packages (from spacy) (3.0.12)\n",
            "Requirement already satisfied: spacy-loggers<2.0.0,>=1.0.0 in /usr/local/lib/python3.10/dist-packages (from spacy) (1.0.5)\n",
            "Requirement already satisfied: murmurhash<1.1.0,>=0.28.0 in /usr/local/lib/python3.10/dist-packages (from spacy) (1.0.10)\n",
            "Requirement already satisfied: cymem<2.1.0,>=2.0.2 in /usr/local/lib/python3.10/dist-packages (from spacy) (2.0.8)\n",
            "Requirement already satisfied: preshed<3.1.0,>=3.0.2 in /usr/local/lib/python3.10/dist-packages (from spacy) (3.0.9)\n",
            "Requirement already satisfied: thinc<8.3.0,>=8.2.2 in /usr/local/lib/python3.10/dist-packages (from spacy) (8.2.5)\n",
            "Requirement already satisfied: wasabi<1.2.0,>=0.9.1 in /usr/local/lib/python3.10/dist-packages (from spacy) (1.1.3)\n",
            "Requirement already satisfied: srsly<3.0.0,>=2.4.3 in /usr/local/lib/python3.10/dist-packages (from spacy) (2.4.8)\n",
            "Requirement already satisfied: catalogue<2.1.0,>=2.0.6 in /usr/local/lib/python3.10/dist-packages (from spacy) (2.0.10)\n",
            "Requirement already satisfied: weasel<0.5.0,>=0.1.0 in /usr/local/lib/python3.10/dist-packages (from spacy) (0.4.1)\n",
            "Requirement already satisfied: typer<1.0.0,>=0.3.0 in /usr/local/lib/python3.10/dist-packages (from spacy) (0.12.3)\n",
            "Requirement already satisfied: tqdm<5.0.0,>=4.38.0 in /usr/local/lib/python3.10/dist-packages (from spacy) (4.66.4)\n",
            "Requirement already satisfied: requests<3.0.0,>=2.13.0 in /usr/local/lib/python3.10/dist-packages (from spacy) (2.31.0)\n",
            "Requirement already satisfied: pydantic!=1.8,!=1.8.1,<3.0.0,>=1.7.4 in /usr/local/lib/python3.10/dist-packages (from spacy) (2.7.4)\n",
            "Requirement already satisfied: jinja2 in /usr/local/lib/python3.10/dist-packages (from spacy) (3.1.4)\n",
            "Requirement already satisfied: setuptools in /usr/local/lib/python3.10/dist-packages (from spacy) (67.7.2)\n",
            "Requirement already satisfied: packaging>=20.0 in /usr/local/lib/python3.10/dist-packages (from spacy) (24.1)\n",
            "Requirement already satisfied: langcodes<4.0.0,>=3.2.0 in /usr/local/lib/python3.10/dist-packages (from spacy) (3.4.0)\n",
            "Requirement already satisfied: numpy>=1.19.0 in /usr/local/lib/python3.10/dist-packages (from spacy) (1.25.2)\n",
            "Requirement already satisfied: language-data>=1.2 in /usr/local/lib/python3.10/dist-packages (from langcodes<4.0.0,>=3.2.0->spacy) (1.2.0)\n",
            "Requirement already satisfied: annotated-types>=0.4.0 in /usr/local/lib/python3.10/dist-packages (from pydantic!=1.8,!=1.8.1,<3.0.0,>=1.7.4->spacy) (0.7.0)\n",
            "Requirement already satisfied: pydantic-core==2.18.4 in /usr/local/lib/python3.10/dist-packages (from pydantic!=1.8,!=1.8.1,<3.0.0,>=1.7.4->spacy) (2.18.4)\n",
            "Requirement already satisfied: typing-extensions>=4.6.1 in /usr/local/lib/python3.10/dist-packages (from pydantic!=1.8,!=1.8.1,<3.0.0,>=1.7.4->spacy) (4.12.2)\n",
            "Requirement already satisfied: charset-normalizer<4,>=2 in /usr/local/lib/python3.10/dist-packages (from requests<3.0.0,>=2.13.0->spacy) (3.3.2)\n",
            "Requirement already satisfied: idna<4,>=2.5 in /usr/local/lib/python3.10/dist-packages (from requests<3.0.0,>=2.13.0->spacy) (3.7)\n",
            "Requirement already satisfied: urllib3<3,>=1.21.1 in /usr/local/lib/python3.10/dist-packages (from requests<3.0.0,>=2.13.0->spacy) (2.0.7)\n",
            "Requirement already satisfied: certifi>=2017.4.17 in /usr/local/lib/python3.10/dist-packages (from requests<3.0.0,>=2.13.0->spacy) (2024.6.2)\n",
            "Requirement already satisfied: blis<0.8.0,>=0.7.8 in /usr/local/lib/python3.10/dist-packages (from thinc<8.3.0,>=8.2.2->spacy) (0.7.11)\n",
            "Requirement already satisfied: confection<1.0.0,>=0.0.1 in /usr/local/lib/python3.10/dist-packages (from thinc<8.3.0,>=8.2.2->spacy) (0.1.5)\n",
            "Requirement already satisfied: click>=8.0.0 in /usr/local/lib/python3.10/dist-packages (from typer<1.0.0,>=0.3.0->spacy) (8.1.7)\n",
            "Requirement already satisfied: shellingham>=1.3.0 in /usr/local/lib/python3.10/dist-packages (from typer<1.0.0,>=0.3.0->spacy) (1.5.4)\n",
            "Requirement already satisfied: rich>=10.11.0 in /usr/local/lib/python3.10/dist-packages (from typer<1.0.0,>=0.3.0->spacy) (13.7.1)\n",
            "Requirement already satisfied: cloudpathlib<1.0.0,>=0.7.0 in /usr/local/lib/python3.10/dist-packages (from weasel<0.5.0,>=0.1.0->spacy) (0.18.1)\n",
            "Requirement already satisfied: smart-open<8.0.0,>=5.2.1 in /usr/local/lib/python3.10/dist-packages (from weasel<0.5.0,>=0.1.0->spacy) (7.0.4)\n",
            "Requirement already satisfied: MarkupSafe>=2.0 in /usr/local/lib/python3.10/dist-packages (from jinja2->spacy) (2.1.5)\n",
            "Requirement already satisfied: marisa-trie>=0.7.7 in /usr/local/lib/python3.10/dist-packages (from language-data>=1.2->langcodes<4.0.0,>=3.2.0->spacy) (1.2.0)\n",
            "Requirement already satisfied: markdown-it-py>=2.2.0 in /usr/local/lib/python3.10/dist-packages (from rich>=10.11.0->typer<1.0.0,>=0.3.0->spacy) (3.0.0)\n",
            "Requirement already satisfied: pygments<3.0.0,>=2.13.0 in /usr/local/lib/python3.10/dist-packages (from rich>=10.11.0->typer<1.0.0,>=0.3.0->spacy) (2.16.1)\n",
            "Requirement already satisfied: wrapt in /usr/local/lib/python3.10/dist-packages (from smart-open<8.0.0,>=5.2.1->weasel<0.5.0,>=0.1.0->spacy) (1.14.1)\n",
            "Requirement already satisfied: mdurl~=0.1 in /usr/local/lib/python3.10/dist-packages (from markdown-it-py>=2.2.0->rich>=10.11.0->typer<1.0.0,>=0.3.0->spacy) (0.1.2)\n"
          ]
        }
      ]
    },
    {
      "cell_type": "markdown",
      "source": [
        "# 1.Write separate python functions which accepts a string and a number ‘n’ and return the following:\n",
        "  - a.N most frequent NounsTake function name as “GetNMostFrequentNouns”\n",
        "  - b.N most frequent VerbsTake function name as “GetNMostFrequentVerbs”\n",
        "  - c.N most frequent DelimitersTake function name as “GetNMostFrequentDelimiters”\n",
        "  - d.N most frequent PrepositionsTake function name as “GetNMostFrequentPrepositions”\n",
        "  \n",
        "  These functions will help you to in last question of this case study.\n",
        "  \n",
        "  Run all the function on the file “FIFAWorldCup2018.txt” and print the results."
      ],
      "metadata": {
        "id": "yGNvllZx0Q6j"
      }
    },
    {
      "cell_type": "code",
      "source": [
        "# Reading the txt file\n",
        "with open('/content/drive/MyDrive/Colab Work/Edureka AI Certification/Assigment Files/FIFAWorldCup2018.txt', 'r') as f:\n",
        "    txt = f.read()\n",
        "    print(txt)"
      ],
      "metadata": {
        "colab": {
          "base_uri": "https://localhost:8080/"
        },
        "id": "8Q8-LboGIglL",
        "outputId": "90194d90-4a68-4090-9519-64d8f1ed839f"
      },
      "execution_count": 62,
      "outputs": [
        {
          "output_type": "stream",
          "name": "stdout",
          "text": [
            "2018 FIFA World CUP is an international tournament where all teams compete religously and they showcase beautiful talent. It took place in Russia from 14 June to 15 July 2018. It was the first World Cup to be held in Eastern Europe, and the 11th time that it had been held in Europe. At an estimated cost of over 14.2 billion, it was the most expensive World Cup. It was also the first World Cup to use the video assistant referee  system. \n",
            "The finals involved 32 teams, of which 31 came through qualifying competitions, while the host nation qualified automatically. Of the 32 teams, 20 had also appeared in the previous tournament in 2014, while both Iceland and Panama made their first appearances at a FIFA World Cup. A total of 64 matches were played in 12 venues across 11 cities. \n",
            "The final took place on 15 July at the Luzhniki Stadium in Moscow, between France and Croatia. France won the match 4�2 to claim their second World Cup title, marking the fourth consecutive title won by a European team.\n",
            "The bidding procedure to host the 2018 and 2022 FIFA World Cup tournaments began in January 2009, and national associations had until 2 February 2009 to register their interest. Initially, nine countries placed bids for the 2018 FIFA World Cup, but Mexico later withdrew from proceedings,  and Indonesia's bid was rejected by FIFA in February 2010 after the Indonesian government failed to submit a letter to support the bid.  During the bidding process, the three remaining non-UEFA nations (Australia, Japan, and the United States) gradually withdrew from the 2018 bids, and the UEFA nations were thus ruled out of the 2022 bid. As such, there were eventually four bids for the 2018 FIFA World Cup, two of which were joint bids: England, Russia, Netherlands/Belgium, and Portugal/Spain.\n",
            "The 22-member FIFA Executive Committee convened in Z�rich on 2 December 2010 to vote to select the hosts of both tournaments. Russia won the right to be the 2018 host in the second round of voting. The Portugal/Spain bid came second, and that from Belgium/Netherlands third. England, which was bidding to host its second tournament, was eliminated in the first round\n",
            "The English Football Association and others raised concerns of bribery on the part of the Russian team and corruption from FIFA members. They claimed that four members of the executive committee had requested bribes to vote for England, and Sepp Blatter had said that it had already been arranged before the vote that Russia would win.  The 2014 Garcia Report, an internal investigation led by Michael J. Garcia, was withheld from public release by Hans-Joachim Eckert, FIFA's head of adjudication on ethical matters. Eckert instead released a shorter revised summary, and his (and therefore FIFA's) reluctance to publish the full report caused Garcia to resign in protest. Because of the controversy, the FA refused to accept Eckert's absolving of Russia from blame, with Greg Dyke calling for a re-examination of the affair and David Bernstein calling for a boycott of the World Cup.\n",
            "At an estimated cost of over $14.2 billion as of June 2018,  it is the most expensive World Cup in history, surpassing the cost of the 2014 FIFA World Cup in Brazil. \n",
            "The Russian government had originally earmarked a budget of around $20 billion which was later slashed to $10 billion for the preparations of the World Cup, of which half is spent on transport infrastructure. As part of the program for preparation to the 2018 FIFA World Cup, a federal sub-program \"Construction and Renovation of Transport Infrastructure\" was implemented with a total budget of 352.5 billion rubles, with 170.3 billion coming from the federal budget, 35.1 billion from regional budgets, and 147.1 billion from investors. The biggest item of federal spending was the aviation infrastructure (117.8 billion rubles).[86] Construction of new hotels was a crucial area of infrastructure development in the World Cup host cities. Costs continued to balloon as preparations were underway\n",
            "There were 169 goals scored in 64 matches, for an average of 2.64 goals per match.\n",
            "Twelve own goals were scored during the tournament, doubling the record of six set in 1998\n",
            "\n",
            "\n"
          ]
        }
      ]
    },
    {
      "cell_type": "code",
      "source": [
        "    #breaking text file into list as sperator full stop (.)\n",
        "    # sentences = txt.split('.')\n",
        "    # print(sentences)"
      ],
      "metadata": {
        "id": "MEJw4b78Im3A"
      },
      "execution_count": 63,
      "outputs": []
    },
    {
      "cell_type": "code",
      "source": [
        "# data = []\n",
        "# for sentence in sentences:\n",
        "#     doc = nlp(sentence)\n",
        "#     for token in doc:\n",
        "#         data.append([token.text, token.pos_])\n",
        "# df = pd.DataFrame(data, columns=['txt', 'pos'])\n",
        "# df.head()"
      ],
      "metadata": {
        "id": "YyEsIRw-I_CJ"
      },
      "execution_count": 64,
      "outputs": []
    },
    {
      "cell_type": "code",
      "source": [
        "def GetNMostFrequentNouns(n,doc):\n",
        "  nouns=[token.text for token in doc if token.pos_ == 'NOUN']\n",
        "  MostFrequentNouns = Counter(nouns).most_common(n)\n",
        "  return MostFrequentNouns\n",
        "\n",
        "def GetNMostFrequentVerbs(n,doc):\n",
        "  verbs=[token.text for token in doc if token.pos_ == 'VERB']\n",
        "  MostFrequentVerbs = Counter(verbs).most_common(n)\n",
        "  return MostFrequentVerbs\n",
        "\n",
        "def GetNMostFrequentDelimiters(n,doc):\n",
        "  delimiters=[token.text for token in doc if token.pos_ == 'DET']\n",
        "  MostFrequentDelimiters = Counter(delimiters).most_common(n)\n",
        "  return MostFrequentDelimiters\n",
        "\n",
        "def GetNMostFrequentPrepositions(n,doc):\n",
        "  prepositions=[token.text for token in doc if token.pos_ == 'ADP']\n",
        "  MostFrequentPrepositions = Counter(prepositions).most_common(n)\n",
        "  return MostFrequentPrepositions\n",
        "\n",
        "def GetNMostFrequent(n,doc):\n",
        "  return GetNMostFrequentNouns(n,doc), GetNMostFrequentVerbs(n,doc), GetNMostFrequentDelimiters(n,doc), GetNMostFrequentPrepositions(n,doc)\n"
      ],
      "metadata": {
        "id": "NrfpMP5W8Om-"
      },
      "execution_count": 65,
      "outputs": []
    },
    {
      "cell_type": "code",
      "source": [
        "n=int(input())\n",
        "# text = input()\n",
        "doc=nlp(txt)\n",
        "#doc\n",
        "MostFrequentNouns, MostFrequentVerbs, MostFrequentDelimiters, MostFrequentPrepositions = GetNMostFrequent(n,doc)\n",
        "print(f\"{n} MostFrequentNouns : {MostFrequentNouns}\")\n",
        "print(f\"{n} MostFrequentVerbs : {MostFrequentVerbs}\")\n",
        "print(f\"{n} MostFrequentDelimiters : {MostFrequentDelimiters}\")\n",
        "print(f\"{n} MostFrequentPrepositions : {MostFrequentPrepositions}\")\n",
        "print(f\"{n} MostFrequentDelimiters :{MostFrequentDelimiters}\")\n",
        "print(f\"{n} MostFrequentPrepositions:{MostFrequentPrepositions}\")"
      ],
      "metadata": {
        "colab": {
          "base_uri": "https://localhost:8080/"
        },
        "id": "Rc3HPy1Z8uAr",
        "outputId": "86526221-0c4e-493b-e3d8-94ef201f5fa4"
      },
      "execution_count": 66,
      "outputs": [
        {
          "output_type": "stream",
          "name": "stdout",
          "text": [
            "2\n",
            "2 MostFrequentNouns : [('tournament', 4), ('bids', 4)]\n",
            "2 MostFrequentVerbs : [('won', 3), ('took', 2)]\n",
            "2 MostFrequentDelimiters : [('the', 48), ('a', 10)]\n",
            "2 MostFrequentPrepositions : [('of', 29), ('in', 18)]\n",
            "2 MostFrequentDelimiters :[('the', 48), ('a', 10)]\n",
            "2 MostFrequentPrepositions:[('of', 29), ('in', 18)]\n"
          ]
        }
      ]
    },
    {
      "cell_type": "markdown",
      "source": [
        "#2.Write a python function which accepts a string and print the first  sentencein the stringalong with its syntax tree.\n",
        "Take function name as “PrintSyntaxTree”\n",
        "\n",
        "Run this function on the file “FIFAWorldCup2018.txt”"
      ],
      "metadata": {
        "id": "6EWLkyGx0z0o"
      }
    },
    {
      "cell_type": "markdown",
      "source": [
        "#3.Write python functionswhich accepts a string andreturnsthe followingusing regular expressions:\n",
        "-  a.Text from the stringafter removing all the punctuations Take function name as “TextAfterRemovingPunctuations”\n",
        "- b.Text from the stringafter removing all the numbers/digits Take function name as “TextAfterRemovingDigits”\n",
        "- c.All the words which begins with the capital letter Take function name as “AllCapitalizedWordsFromText”\n",
        "- d.All the emails from the stringTake function name as “AllEmailsFromText”\n",
        "\n",
        "Run all the above functions on the file “FIFAWorldCup2018.txt” and print the results.\n"
      ],
      "metadata": {
        "id": "DvE1i_Ux1M3A"
      }
    },
    {
      "cell_type": "markdown",
      "source": [
        "#4.Write python functions which accepts a string as an input and return the following chunks.\n",
        "- a.Phrases havingPropernouns followed by VerbsTake function name as “ChunkingVer1”\n",
        "- b.Verb Phrases having Verbs followed by AdjectivesTake function name as “ChunkingVer2”\n",
        "- c.Noun Phrases having Determiners followed by NounsTake function name as “ChunkingVer3”\n",
        "- d.Verb Phrases having Verbs followed by AdverbsTake function name as “ChunkingVer4”\n",
        "- e.Phrases having Delimiter, Adjectivesand Nouns in the respective order.Take function name as “ChunkingVer5”\n",
        "- f.Noun Phrases which having Nouns and Adjectives, terminated with Nouns.Take function name as “ChunkingVer5”\n",
        "\n",
        "Run all the functionsfor the first sentence in the file “FIFAWorldCup2018.txt” and print the results."
      ],
      "metadata": {
        "id": "G54SUM0H1nM3"
      }
    },
    {
      "cell_type": "markdown",
      "source": [
        "# 5.Make a content free grammar having the following rules:\n",
        "- a.Noun Phrases are followed by Verb Phrases\n",
        "- b.Verb Phrase can have\n",
        "  -  i.Verb and noun phrase\n",
        "  -  ii.Verb, noun phrase and a prepositionphrase\n",
        "- c.Noun Phrases can have\n",
        "  -  i.Delimiters followed by noun\n",
        "-  d.Preposition phrase have a preposition followed by a noun phrase\n",
        "\n",
        "The delimiters, verbs, prepositions and nouns for the grammar should be the 2 most frequent wordsof each type from “FIFAWorldCup2018.txt”.\n",
        "\n",
        "Generate the CFG for “FIFAWorldCup2018.txt” file and save them in a file named “CFG.txt”\n"
      ],
      "metadata": {
        "id": "hGGERX3a2AFz"
      }
    }
  ]
}