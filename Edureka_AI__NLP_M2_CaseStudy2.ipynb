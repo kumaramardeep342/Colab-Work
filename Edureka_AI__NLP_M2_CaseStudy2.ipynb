{
  "nbformat": 4,
  "nbformat_minor": 0,
  "metadata": {
    "colab": {
      "provenance": [],
      "mount_file_id": "15gbCFkoI0EpYh5xze5ueUKhn-ZnuliUp",
      "authorship_tag": "ABX9TyOEaPYVbqoo3Zejlhuuo03P",
      "include_colab_link": true
    },
    "kernelspec": {
      "name": "python3",
      "display_name": "Python 3"
    },
    "language_info": {
      "name": "python"
    }
  },
  "cells": [
    {
      "cell_type": "markdown",
      "metadata": {
        "id": "view-in-github",
        "colab_type": "text"
      },
      "source": [
        "<a href=\"https://colab.research.google.com/github/kumaramardeep342/Colab-Work/blob/main/Edureka_AI__NLP_M2_CaseStudy2.ipynb\" target=\"_parent\"><img src=\"https://colab.research.google.com/assets/colab-badge.svg\" alt=\"Open In Colab\"/></a>"
      ]
    },
    {
      "cell_type": "markdown",
      "source": [
        "# Objective"
      ],
      "metadata": {
        "id": "nVxguSJUF86j"
      }
    },
    {
      "cell_type": "markdown",
      "source": [
        "You are provided with a file named “Brexit.docx”. This file contains the introductory paragraph from Wikipedia on Brexit. (https://en.wikipedia.org/wiki/Brexit) You have to perform some analysis on this paragraph by performing the following tasks:"
      ],
      "metadata": {
        "id": "YYMRU4vMGDU7"
      }
    },
    {
      "cell_type": "markdown",
      "source": [
        "# 1.Read the file “Brexit.docx” and write a function in Python named “GetNGrams” which takes a string and a number ‘n’ as input and returns n-grams from the string."
      ],
      "metadata": {
        "id": "rY4xUxioGIci"
      }
    },
    {
      "cell_type": "markdown",
      "source": [
        "- Example:\n",
        "\n",
        "-  String: “John met with an accident”\n",
        "\n",
        "- Output:\n",
        "\n",
        "- When n=2 => [(John, met), (met, with), (with, an), (an, accident)]\n",
        "\n",
        "- When n=3 => [(John, met, with), (met, with, an), (with, an, accident)]\n",
        "\n",
        "- When n=4 => [(John, met, with, an), (met, with, an, accident)]"
      ],
      "metadata": {
        "id": "veVI0gGeGfji"
      }
    },
    {
      "cell_type": "code",
      "source": [
        "!pip install python-docx\n",
        "!pip install --upgrade python-docx\n",
        "import docx\n",
        "doc = docx.Document('/content/drive/MyDrive/Colab Work/Edureka AI Certification/Assigment Files/Brexit.docx')\n",
        "print(doc.paragraphs[0].text)\n"
      ],
      "metadata": {
        "colab": {
          "base_uri": "https://localhost:8080/"
        },
        "id": "fjmDV6wSLSVj",
        "outputId": "18a69297-0bdf-433f-f18f-0652e0d9b4fe"
      },
      "execution_count": 14,
      "outputs": [
        {
          "output_type": "stream",
          "name": "stdout",
          "text": [
            "Requirement already satisfied: python-docx in /usr/local/lib/python3.10/dist-packages (1.1.2)\n",
            "Requirement already satisfied: lxml>=3.1.0 in /usr/local/lib/python3.10/dist-packages (from python-docx) (4.9.4)\n",
            "Requirement already satisfied: typing-extensions>=4.9.0 in /usr/local/lib/python3.10/dist-packages (from python-docx) (4.12.1)\n",
            "Requirement already satisfied: python-docx in /usr/local/lib/python3.10/dist-packages (1.1.2)\n",
            "Requirement already satisfied: lxml>=3.1.0 in /usr/local/lib/python3.10/dist-packages (from python-docx) (4.9.4)\n",
            "Requirement already satisfied: typing-extensions>=4.9.0 in /usr/local/lib/python3.10/dist-packages (from python-docx) (4.12.1)\n",
            "Brexit is the impending withdrawal of the United Kingdom (UK) from the European Union (EU). In a referendum on 23 June 2016, a majority of British voters supported leaving the EU. On 29 March 2017, the UK government invoked Article 50 of the Treaty on European Union. The European Union (Withdrawal) Act 2018 declares \"exit day\" to be 29 March 2019 at 11 p.m. (Central European Time).\n"
          ]
        }
      ]
    },
    {
      "cell_type": "code",
      "source": [
        "!pip install nltk\n",
        "import nltk\n",
        "nltk.download('punkt')\n",
        "from nltk.tokenize import word_tokenize\n",
        "from nltk.util import ngrams\n",
        "def get_ngrams(text, n):\n",
        "    tokens = word_tokenize(text)\n",
        "    return list(ngrams(tokens, n))"
      ],
      "metadata": {
        "colab": {
          "base_uri": "https://localhost:8080/"
        },
        "id": "hd2lnLqnNYi8",
        "outputId": "cb22fff3-337f-48f3-d3db-f5bbe91a075c"
      },
      "execution_count": 15,
      "outputs": [
        {
          "output_type": "stream",
          "name": "stdout",
          "text": [
            "Requirement already satisfied: nltk in /usr/local/lib/python3.10/dist-packages (3.8.1)\n",
            "Requirement already satisfied: click in /usr/local/lib/python3.10/dist-packages (from nltk) (8.1.7)\n",
            "Requirement already satisfied: joblib in /usr/local/lib/python3.10/dist-packages (from nltk) (1.4.2)\n",
            "Requirement already satisfied: regex>=2021.8.3 in /usr/local/lib/python3.10/dist-packages (from nltk) (2024.5.15)\n",
            "Requirement already satisfied: tqdm in /usr/local/lib/python3.10/dist-packages (from nltk) (4.66.4)\n"
          ]
        },
        {
          "output_type": "stream",
          "name": "stderr",
          "text": [
            "[nltk_data] Downloading package punkt to /root/nltk_data...\n",
            "[nltk_data]   Package punkt is already up-to-date!\n"
          ]
        }
      ]
    },
    {
      "cell_type": "code",
      "source": [
        "n = int(input(\"Enter the value of n: \"))\n",
        "#text = input(\"Enter the text: \")\n",
        "text = doc.paragraphs[0].text\n",
        "ngrams = get_ngrams(text, n)\n",
        "print(ngrams)"
      ],
      "metadata": {
        "colab": {
          "base_uri": "https://localhost:8080/"
        },
        "id": "n9qKjBctNiEi",
        "outputId": "2f620f7b-331d-4dc1-a7ab-7f076476ac7f"
      },
      "execution_count": 16,
      "outputs": [
        {
          "output_type": "stream",
          "name": "stdout",
          "text": [
            "Enter the value of n: 3\n",
            "[('Brexit', 'is', 'the'), ('is', 'the', 'impending'), ('the', 'impending', 'withdrawal'), ('impending', 'withdrawal', 'of'), ('withdrawal', 'of', 'the'), ('of', 'the', 'United'), ('the', 'United', 'Kingdom'), ('United', 'Kingdom', '('), ('Kingdom', '(', 'UK'), ('(', 'UK', ')'), ('UK', ')', 'from'), (')', 'from', 'the'), ('from', 'the', 'European'), ('the', 'European', 'Union'), ('European', 'Union', '('), ('Union', '(', 'EU'), ('(', 'EU', ')'), ('EU', ')', '.'), (')', '.', 'In'), ('.', 'In', 'a'), ('In', 'a', 'referendum'), ('a', 'referendum', 'on'), ('referendum', 'on', '23'), ('on', '23', 'June'), ('23', 'June', '2016'), ('June', '2016', ','), ('2016', ',', 'a'), (',', 'a', 'majority'), ('a', 'majority', 'of'), ('majority', 'of', 'British'), ('of', 'British', 'voters'), ('British', 'voters', 'supported'), ('voters', 'supported', 'leaving'), ('supported', 'leaving', 'the'), ('leaving', 'the', 'EU'), ('the', 'EU', '.'), ('EU', '.', 'On'), ('.', 'On', '29'), ('On', '29', 'March'), ('29', 'March', '2017'), ('March', '2017', ','), ('2017', ',', 'the'), (',', 'the', 'UK'), ('the', 'UK', 'government'), ('UK', 'government', 'invoked'), ('government', 'invoked', 'Article'), ('invoked', 'Article', '50'), ('Article', '50', 'of'), ('50', 'of', 'the'), ('of', 'the', 'Treaty'), ('the', 'Treaty', 'on'), ('Treaty', 'on', 'European'), ('on', 'European', 'Union'), ('European', 'Union', '.'), ('Union', '.', 'The'), ('.', 'The', 'European'), ('The', 'European', 'Union'), ('European', 'Union', '('), ('Union', '(', 'Withdrawal'), ('(', 'Withdrawal', ')'), ('Withdrawal', ')', 'Act'), (')', 'Act', '2018'), ('Act', '2018', 'declares'), ('2018', 'declares', '``'), ('declares', '``', 'exit'), ('``', 'exit', 'day'), ('exit', 'day', \"''\"), ('day', \"''\", 'to'), (\"''\", 'to', 'be'), ('to', 'be', '29'), ('be', '29', 'March'), ('29', 'March', '2019'), ('March', '2019', 'at'), ('2019', 'at', '11'), ('at', '11', 'p.m.'), ('11', 'p.m.', '('), ('p.m.', '(', 'Central'), ('(', 'Central', 'European'), ('Central', 'European', 'Time'), ('European', 'Time', ')'), ('Time', ')', '.')]\n"
          ]
        }
      ]
    },
    {
      "cell_type": "markdown",
      "source": [
        "# 2.Read the file “Brexit.docx” andwrite python functions which take a string as an input and returns:"
      ],
      "metadata": {
        "id": "1wulOyyTJvH4"
      }
    },
    {
      "cell_type": "markdown",
      "source": [
        "- Number of Nouns (all forms of noun). Take function name as “NounsCount”\n",
        "- Number of Pronouns (all forms). Take function name as “PronounsCount”\n",
        "- Number of Adjectives (all forms).Take function name as “AdjectivesCount”\n",
        "- Number of Verbs (all forms).Take function name as “VerbsCount”\n",
        "- Number of Adverbs (all forms).Take function name as “AdverbsCount”\n",
        "\n",
        "Plot a pie chart showing the distribution of nouns, pronouns, verbs, adverbsand adjectives."
      ],
      "metadata": {
        "id": "FhNOKLP4J1mx"
      }
    },
    {
      "cell_type": "markdown",
      "source": [
        "# 3.Read the file “Brexit.docx” andwrite pythonfunctions which take a string as an input and returns:"
      ],
      "metadata": {
        "id": "QrwDIOPtKGWH"
      }
    },
    {
      "cell_type": "markdown",
      "source": [
        "- Number of geo-Political entities present in the file.Take function name as“GeoPoliticalCount”\n",
        "- Number of Personspresent in the file. Take function name as “PersonsCount”\n",
        "- Numbers of Organizations mentioned in the file.Take function name as “OrganizationsCount”\n"
      ],
      "metadata": {
        "id": "hN2OAbrBKN2h"
      }
    }
  ]
}