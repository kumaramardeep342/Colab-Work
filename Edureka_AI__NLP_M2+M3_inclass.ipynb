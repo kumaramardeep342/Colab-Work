{
  "nbformat": 4,
  "nbformat_minor": 0,
  "metadata": {
    "colab": {
      "provenance": [],
      "toc_visible": true,
      "authorship_tag": "ABX9TyPvqW+JO1M4aRxp9+j71NYE",
      "include_colab_link": true
    },
    "kernelspec": {
      "name": "python3",
      "display_name": "Python 3"
    },
    "language_info": {
      "name": "python"
    }
  },
  "cells": [
    {
      "cell_type": "markdown",
      "metadata": {
        "id": "view-in-github",
        "colab_type": "text"
      },
      "source": [
        "<a href=\"https://colab.research.google.com/github/kumaramardeep342/Colab-Work/blob/Notebook/Edureka_AI__NLP_M2%2BM3_inclass.ipynb\" target=\"_parent\"><img src=\"https://colab.research.google.com/assets/colab-badge.svg\" alt=\"Open In Colab\"/></a>"
      ]
    },
    {
      "cell_type": "markdown",
      "source": [
        "# Summary - How to train model on NLP Data"
      ],
      "metadata": {
        "id": "wXrziL_NtHcS"
      }
    },
    {
      "cell_type": "markdown",
      "source": [
        "# Loading the Dataset"
      ],
      "metadata": {
        "id": "S9Xla5XRvkn3"
      }
    },
    {
      "cell_type": "code",
      "source": [
        "! pip install -q opendatasets\n",
        "import opendatasets as od\n",
        "od.download('https://www.kaggle.com/datasets/hassanamin/atis-airlinetravelinformationsystem')"
      ],
      "metadata": {
        "colab": {
          "base_uri": "https://localhost:8080/"
        },
        "id": "Fnuu8snHtMjk",
        "outputId": "ded1a165-ff89-41a0-f2ff-df3aaf743f20"
      },
      "execution_count": null,
      "outputs": [
        {
          "output_type": "stream",
          "name": "stdout",
          "text": [
            "Please provide your Kaggle credentials to download this dataset. Learn more: http://bit.ly/kaggle-creds\n",
            "Your Kaggle username: sjagkoo7\n",
            "Your Kaggle Key: ··········\n",
            "Dataset URL: https://www.kaggle.com/datasets/hassanamin/atis-airlinetravelinformationsystem\n",
            "Downloading atis-airlinetravelinformationsystem.zip to ./atis-airlinetravelinformationsystem\n"
          ]
        },
        {
          "output_type": "stream",
          "name": "stderr",
          "text": [
            "100%|██████████| 139k/139k [00:00<00:00, 45.0MB/s]"
          ]
        },
        {
          "output_type": "stream",
          "name": "stdout",
          "text": [
            "\n"
          ]
        },
        {
          "output_type": "stream",
          "name": "stderr",
          "text": [
            "\n"
          ]
        }
      ]
    },
    {
      "cell_type": "markdown",
      "source": [
        "# About The Dataset & Model\n"
      ],
      "metadata": {
        "id": "z9WXJyehwOFx"
      }
    }
  ]
}