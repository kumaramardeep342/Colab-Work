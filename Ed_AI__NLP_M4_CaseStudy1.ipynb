{
  "nbformat": 4,
  "nbformat_minor": 0,
  "metadata": {
    "colab": {
      "provenance": [],
      "mount_file_id": "1RANKJfPW0pEzDue548rckZnNts5YdHVv",
      "authorship_tag": "ABX9TyMq/zmJ4JgxrUJ/t843LTFx",
      "include_colab_link": true
    },
    "kernelspec": {
      "name": "python3",
      "display_name": "Python 3"
    },
    "language_info": {
      "name": "python"
    }
  },
  "cells": [
    {
      "cell_type": "markdown",
      "metadata": {
        "id": "view-in-github",
        "colab_type": "text"
      },
      "source": [
        "<a href=\"https://colab.research.google.com/github/kumaramardeep342/Colab-Work/blob/main/Ed_AI__NLP_M4_CaseStudy1.ipynb\" target=\"_parent\"><img src=\"https://colab.research.google.com/assets/colab-badge.svg\" alt=\"Open In Colab\"/></a>"
      ]
    },
    {
      "cell_type": "markdown",
      "source": [
        "# 1 Write a program to input three sentences from user and creates the corpus\n",
        "- Example:\n",
        "Let’s say these 3 are your strings:\n",
        "            S1=” India won the match”\n",
        "            S2=” England won the cricket match”\n",
        "            S3=” Australia won the final match”\n",
        "            Then Corpus (list of union of all words from all strings) is: [India, England, Australia, won, the, match, cricket, final]\n",
        "\n",
        "Create a function named “MakeCorpus” which will take list of string as an input and will return a list having union of all words. Save this function in a python file named “Corpus”. This can be used for future applications"
      ],
      "metadata": {
        "id": "sG3Ddhc8ThXg"
      }
    },
    {
      "cell_type": "code",
      "source": [
        "def  MakeCorpus(S1,S2,S3):\n",
        "  S1 = set(S1.split())\n",
        "  S2 = set(S2.split())\n",
        "  S3 = set(S3.split())\n",
        "  return list(S1.union(S2).union(S3))\n",
        "\n"
      ],
      "metadata": {
        "id": "Qtgt7yara38l"
      },
      "execution_count": 15,
      "outputs": []
    },
    {
      "cell_type": "code",
      "source": [
        "    S1=\"India won the match\"\n",
        "    S2=\"England won the cricket match\"\n",
        "    S3=\"Australia won the final match\"\n",
        "    word_union = MakeCorpus(S1,S2,S3)\n",
        "    print (word_union)"
      ],
      "metadata": {
        "colab": {
          "base_uri": "https://localhost:8080/"
        },
        "id": "3Tesem4DbGaK",
        "outputId": "5c0cc950-280e-4119-9fd2-2abba6410ad5"
      },
      "execution_count": 16,
      "outputs": [
        {
          "output_type": "stream",
          "name": "stdout",
          "text": [
            "['India', 'match', 'Australia', 'England', 'cricket', 'won', 'final', 'the']\n"
          ]
        }
      ]
    },
    {
      "cell_type": "code",
      "source": [
        "# Create a new Python file named \"Corpus.py\"\n",
        "with open(\"/content/drive/MyDrive/Colab Work/Edureka AI Certification/Assigment Files/Corpus.py\", \"w\") as f:\n",
        "    # Copy the function \"Tokenize\" from question 1\n",
        "    f.write(\"\"\"\n",
        "def  MakeCorpus(S1,S2,S3):\n",
        "  S1 = set(S1.split())\n",
        "  S2 = set(S2.split())\n",
        "  S3 = set(S3.split())\n",
        "  return list(S1.union(S2).union(S3))\n",
        "\n",
        "    S1=\"India won the match\"\n",
        "    S2=\"England won the cricket match\"\n",
        "    S3=\"Australia won the final match\"\n",
        "    word_union = MakeCorpus(S1,S2,S3)\n",
        "    print (word_union)\n",
        "\"\"\")\n"
      ],
      "metadata": {
        "id": "znKDsECzc9q8"
      },
      "execution_count": 17,
      "outputs": []
    },
    {
      "cell_type": "markdown",
      "source": [
        "# 2 Write a program to input three sentences from user and convert them into vectors.    Use presence and absence of words to build the vectors.\n",
        "- Example:\n",
        "Let’s say these 3 are your strings:\n",
        "      S1=” India won the match”\n",
        "      S2=” England won the cricket match”\n",
        "      S3=” Australia won the final match”\n",
        "\n",
        "- Then Corpus (list of union of all words from all strings) is:\n",
        " [India, England, Australia, won, the, match, cricket, final]\n",
        "      So, S1 will be  [1,0,0,1,1,1,0,0]\n",
        "      S2 will be  [0,1,0,1,1,1,1,0]\n",
        "      S3 will be  [0,0,1,1,1,1,0,1]\n",
        "\n",
        " Create a functionnamed “PresenceAbsenceVectorization” which will take list of string as an input and will return a list of vectors. Save this function ina python file named “Vectorization”. This can be used for future applications\n",
        "Case Stud"
      ],
      "metadata": {
        "id": "_0ALixwMUak-"
      }
    },
    {
      "cell_type": "markdown",
      "source": [
        "# 3.Write a program to enter 3 strings from a user and vectorise them on basis of their counts.\n",
        "- Example:\n",
        " Let’s say these 3 are your strings:\n",
        "          S1=” A lives with B.A plays with C.\n",
        "            “S2=” B lives with C. B plays with D”\n",
        "            S3=” C lives with D.C plays with A”\n",
        "\n",
        "- Then Corpus (list of union of all words from all strings) is:\n",
        "   [A, B, C, D,lives,with,plays]\n",
        "          So, S1 will be  [2,1,1,0,1,2,1]\n",
        "          S2 will be  [0,2,1,1,1,2,1]\n",
        "          S3 will be  [1,0,2,1,1,2,1]\n",
        "   \n",
        "   Create a function named “CountVectorization” which will take list of string as an input and will return a list of vectors. Save this function in a python file named “Vectorization”. This can be used for future applications"
      ],
      "metadata": {
        "id": "Z13w7lByVXe4"
      }
    },
    {
      "cell_type": "markdown",
      "source": [
        "# 4.Write a program to input 3 strings but vectorise them using TF-IDF (Term Frequency and Inverse Document Frequency) and print the strings along with the vectors.\n",
        "\n",
        "  You can use already available python TF-IDF Vectorizer(Refer : http://scikit-learn.org/stable/modules/generated/sklearn.feature_extraction.text.TfidfVectorizer.html)\n",
        "\n",
        "  Create a function named “TFIDFVectorization” which will take listof string as an input and will return a list of vectors. Save this function in a python file named “Vectorization”. This can be used for future applications"
      ],
      "metadata": {
        "id": "zra8W8FEV8v2"
      }
    }
  ]
}