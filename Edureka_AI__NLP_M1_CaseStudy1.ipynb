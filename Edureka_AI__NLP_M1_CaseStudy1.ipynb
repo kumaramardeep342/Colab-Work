{
  "nbformat": 4,
  "nbformat_minor": 0,
  "metadata": {
    "colab": {
      "provenance": [],
      "authorship_tag": "ABX9TyNGnTuNppHR1IJbBTX8AoHV",
      "include_colab_link": true
    },
    "kernelspec": {
      "name": "python3",
      "display_name": "Python 3"
    },
    "language_info": {
      "name": "python"
    }
  },
  "cells": [
    {
      "cell_type": "markdown",
      "metadata": {
        "id": "view-in-github",
        "colab_type": "text"
      },
      "source": [
        "<a href=\"https://colab.research.google.com/github/kumaramardeep342/Colab-Work/blob/main/Edureka_AI__NLP_M1_CaseStudy1.ipynb\" target=\"_parent\"><img src=\"https://colab.research.google.com/assets/colab-badge.svg\" alt=\"Open In Colab\"/></a>"
      ]
    },
    {
      "cell_type": "markdown",
      "source": [
        "1.Write code snippetsin python to perform the following tasks\n",
        "- Print your current working directory\n",
        "- Create a new directory on your desktop named: “Text Mining and NLP”\n",
        "- Make “Text Mining and NLP” your current working directory"
      ],
      "metadata": {
        "id": "QfJTK1mru3DX"
      }
    },
    {
      "cell_type": "markdown",
      "source": [
        "2.Write code snippets in python to performthe following tasks:\n",
        "- Create a text file named “Greetings.txt” and write “Welcome toText Mining and Natural Language Processing”\n",
        "- Move thisfile to the folder “Text Mining and NLP” which you created in ques 1\n",
        "- Rename this file to “Welcome.txt”"
      ],
      "metadata": {
        "id": "tBERgIkKvPxr"
      }
    },
    {
      "cell_type": "markdown",
      "source": [
        "3.You are given a docx file named “NLP.docx”. Perform the following tasks:\n",
        "- Use DOCXmodule to open the file and perform the following tasks:\n",
        "- How many paragraphs are there in the file?\n",
        "- For each paragraph, print the number of words it contains\n",
        "- Read the content from “Welcome.txt” file which you created in question number\n",
        "2 and make that content the first paragraph in “NLP.docx” file"
      ],
      "metadata": {
        "id": "lngVdjsxv2AM"
      }
    },
    {
      "cell_type": "markdown",
      "source": [
        "4.You are given a csv file named “EmployeeDetails.csv”. Perform the following tasks:\n",
        "- Use pandas module to read the csv file•Split the name as first name and last name and make two separate columnsas shown\n",
        "- Delete “Name” Column •Increment the “Salary” Column by 10% of the existing valueand save changes in same column onlyas shown\n",
        "- Save changes to a new file named “Employee_Data.csv”\n"
      ],
      "metadata": {
        "id": "hDibGNuYwKs1"
      }
    }
  ]
}