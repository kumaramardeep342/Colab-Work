{
  "nbformat": 4,
  "nbformat_minor": 0,
  "metadata": {
    "colab": {
      "provenance": [],
      "toc_visible": true,
      "authorship_tag": "ABX9TyMsy/Q4qbPYk1M95mtExfrY",
      "include_colab_link": true
    },
    "kernelspec": {
      "name": "python3",
      "display_name": "Python 3"
    },
    "language_info": {
      "name": "python"
    }
  },
  "cells": [
    {
      "cell_type": "markdown",
      "metadata": {
        "id": "view-in-github",
        "colab_type": "text"
      },
      "source": [
        "<a href=\"https://colab.research.google.com/github/kumaramardeep342/Colab-Work/blob/main/Edureka_AI__NLP_M1_inclass.ipynb\" target=\"_parent\"><img src=\"https://colab.research.google.com/assets/colab-badge.svg\" alt=\"Open In Colab\"/></a>"
      ]
    },
    {
      "cell_type": "markdown",
      "source": [
        "# Probelm Statement : How to Setup Colab"
      ],
      "metadata": {
        "id": "Fiy2fa_0gR6q"
      }
    },
    {
      "cell_type": "markdown",
      "source": [
        "1. Navigate to Google Drive\n",
        "2. Right click and connect more apps\n",
        "3. Search  for colaboratory in the apps\n",
        "4. Install Colaboratory"
      ],
      "metadata": {
        "id": "P2Z2VNe7gfNj"
      }
    },
    {
      "cell_type": "markdown",
      "source": [
        "# Probelm Statement : How to access Dataset From Kaggle"
      ],
      "metadata": {
        "id": "p5OIC_4bhGQ9"
      }
    },
    {
      "cell_type": "markdown",
      "source": [
        "1. Click on your profile avatar, from top right corner\n",
        "2. Go to Settings -> Accounts -> API\n",
        "3. First click on expired token to expired token(if you use a token already)\n",
        "4. Now click on Create New Token to download a kaggle.json file.!\n",
        "5.  in your google colab, run this code .\n",
        "Note : I use twitter-dataset-for-sentiment-analysis dataset here, paste each dataset link you need to use in colab.\n",
        "6. Go to Downloads folder and open kaggle.jason file ! ( you already downloaded it in step 4)\n",
        "7. Paste Username and Key in .json file to colab and hit Enter key.\n",
        "8. Wait until progress bar finished .\n",
        "9. Go to Files from left pannel in Colab, You can see your datsets downloaded !"
      ],
      "metadata": {
        "id": "7QQKwOKghpfl"
      }
    },
    {
      "cell_type": "code",
      "source": [
        "! pip install -q opendatasets\n",
        "import opendatasets as od\n",
        "od.download('https://www.kaggle.com/datasets/dunyajasim/twitter-dataset-for-sentiment-analysis')\n"
      ],
      "metadata": {
        "colab": {
          "base_uri": "https://localhost:8080/"
        },
        "id": "l5BvlJQRZHb8",
        "outputId": "a9e8e30f-2695-410d-f068-2ef93dfb1c3c"
      },
      "execution_count": 5,
      "outputs": [
        {
          "output_type": "stream",
          "name": "stdout",
          "text": [
            "Skipping, found downloaded files in \"./twitter-dataset-for-sentiment-analysis\" (use force=True to force download)\n"
          ]
        }
      ]
    }
  ]
}