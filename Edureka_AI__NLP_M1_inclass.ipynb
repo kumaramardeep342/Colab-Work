{
  "nbformat": 4,
  "nbformat_minor": 0,
  "metadata": {
    "colab": {
      "provenance": [],
      "authorship_tag": "ABX9TyPVl2Bp5JD4kTyj1MQhHQwQ",
      "include_colab_link": true
    },
    "kernelspec": {
      "name": "python3",
      "display_name": "Python 3"
    },
    "language_info": {
      "name": "python"
    }
  },
  "cells": [
    {
      "cell_type": "markdown",
      "metadata": {
        "id": "view-in-github",
        "colab_type": "text"
      },
      "source": [
        "<a href=\"https://colab.research.google.com/github/kumaramardeep342/Colab-Work/blob/main/Edureka_AI__NLP_M1_inclass.ipynb\" target=\"_parent\"><img src=\"https://colab.research.google.com/assets/colab-badge.svg\" alt=\"Open In Colab\"/></a>"
      ]
    },
    {
      "cell_type": "code",
      "execution_count": 2,
      "metadata": {
        "id": "d7pXt8oCWAq1"
      },
      "outputs": [],
      "source": [
        "# Probelm Statement : How to Setup Colab\n",
        "## 1. Navigate to Google Drive\n",
        "## 2. Right click and connect more apps\n",
        "## 3. Search  for colaboratory in the apps\n",
        "## 4. Install Colaboratory\n"
      ]
    }
  ]
}