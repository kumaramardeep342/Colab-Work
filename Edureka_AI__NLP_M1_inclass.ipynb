{
  "nbformat": 4,
  "nbformat_minor": 0,
  "metadata": {
    "colab": {
      "provenance": [],
      "toc_visible": true,
      "mount_file_id": "1BzMwCFrQD14TwJy5AwWrctyIV8TiRoUv",
      "authorship_tag": "ABX9TyPKWAa7zr5aACeu1r3RDuMk",
      "include_colab_link": true
    },
    "kernelspec": {
      "name": "python3",
      "display_name": "Python 3"
    },
    "language_info": {
      "name": "python"
    }
  },
  "cells": [
    {
      "cell_type": "markdown",
      "metadata": {
        "id": "view-in-github",
        "colab_type": "text"
      },
      "source": [
        "<a href=\"https://colab.research.google.com/github/kumaramardeep342/Colab-Work/blob/main/Edureka_AI__NLP_M1_inclass.ipynb\" target=\"_parent\"><img src=\"https://colab.research.google.com/assets/colab-badge.svg\" alt=\"Open In Colab\"/></a>"
      ]
    },
    {
      "cell_type": "markdown",
      "source": [
        "# Probelm Statement : How to Setup Colab"
      ],
      "metadata": {
        "id": "NSRXzJo8ZU0N"
      }
    },
    {
      "cell_type": "markdown",
      "source": [
        "1. Navigate to Google Drive\n",
        "2. Right click and connect more apps\n",
        "\n",
        "3. Search  for colaboratory in the apps\n",
        "4. Install Colaboratory"
      ],
      "metadata": {
        "id": "P2Z2VNe7gfNj"
      }
    },
    {
      "cell_type": "markdown",
      "source": [
        "# Probelm Statement : How to access Dataset From Kaggle"
      ],
      "metadata": {
        "id": "p5OIC_4bhGQ9"
      }
    },
    {
      "cell_type": "markdown",
      "source": [
        "1. Click on your profile avatar, from top right corner\n",
        "2. Go to Settings -> Accounts -> API\n",
        "3. First click on expired token to expired token(if you use a token already)\n",
        "4. Now click on Create New Token to download a kaggle.json file.!\n",
        "5.  in your google colab, run this code .\n",
        "Note : I use twitter-dataset-for-sentiment-analysis dataset here, paste each dataset link you need to use in colab.\n",
        "6. Go to Downloads folder and open kaggle.jason file ! ( you already downloaded it in step 4)\n",
        "7. Paste Username and Key in .json file to colab and hit Enter key.\n",
        "8. Wait until progress bar finished .\n",
        "9. Go to Files from left pannel in Colab, You can see your datsets downloaded !\n",
        "\n",
        "References : https://www.kaggle.com/discussions/general/501727"
      ],
      "metadata": {
        "id": "7QQKwOKghpfl"
      }
    },
    {
      "cell_type": "code",
      "source": [
        "# ! pip install -q opendatasets\n",
        "# import opendatasets as od\n",
        "# od.download('https://www.kaggle.com/datasets/dunyajasim/twitter-dataset-for-sentiment-analysis')\n"
      ],
      "metadata": {
        "id": "l5BvlJQRZHb8"
      },
      "execution_count": 1,
      "outputs": []
    },
    {
      "cell_type": "markdown",
      "source": [
        "# Problem Statement : How to Access Dataset from Google Drive"
      ],
      "metadata": {
        "id": "yN0q3yCWjEqv"
      }
    },
    {
      "cell_type": "markdown",
      "source": [
        "1. Go to Files left side pane in Colab\n",
        "2. Mount the Drive\n",
        "3. Once Drive Succesfull Connect , Drive files will be visible."
      ],
      "metadata": {
        "id": "NQwoRqB7ZfOa"
      }
    },
    {
      "cell_type": "code",
      "source": [
        "#Mount desktop google drive\n",
        "# from google.colab import drive\n",
        "# drive.mount('/content/drive')"
      ],
      "metadata": {
        "id": "cQavnUHZjEfb"
      },
      "execution_count": 2,
      "outputs": []
    },
    {
      "cell_type": "code",
      "source": [
        "### dataset type ###\n",
        "## data: excel , csv,db,txt\n",
        "##          NLP           NLP\n",
        "## data -- model -- prediction"
      ],
      "metadata": {
        "id": "WzU4egx1lD89"
      },
      "execution_count": 3,
      "outputs": []
    },
    {
      "cell_type": "code",
      "source": [
        "# import library\n",
        "import pandas  as pd\n",
        "import os  # understanding the file location stroed in the system"
      ],
      "metadata": {
        "id": "G_bquoJsb6fQ"
      },
      "execution_count": 4,
      "outputs": []
    },
    {
      "cell_type": "code",
      "source": [
        "# Rading the Dataset\n",
        "data=pd.read_excel('/content/drive/MyDrive/Colab Work/Edureka AI Certification/Dataset/Kaggle - Twitter Dataset for Sentiment Analysis/LabeledText.xlsx')\n",
        "#df=pd.read_excel('/content/twitter-dataset-for-sentiment-analysis/LabeledText.xlsx')"
      ],
      "metadata": {
        "id": "hBKej8ugdiM8"
      },
      "execution_count": 5,
      "outputs": []
    },
    {
      "cell_type": "code",
      "source": [
        "data.head()"
      ],
      "metadata": {
        "colab": {
          "base_uri": "https://localhost:8080/",
          "height": 206
        },
        "id": "Ec3A5ITWd79S",
        "outputId": "fb415919-4e55-4f4f-8d46-b1b69b222997"
      },
      "execution_count": 6,
      "outputs": [
        {
          "output_type": "execute_result",
          "data": {
            "text/plain": [
              "  File Name                                            Caption     LABEL\n",
              "0     1.txt      How I feel today #legday #jelly #aching #gym   negative\n",
              "1    10.txt  @ArrivaTW absolute disgrace two carriages from...  negative\n",
              "2   100.txt  This is my Valentine's from 1 of my nephews. I...  positive\n",
              "3  1000.txt  betterfeelingfilms: RT via Instagram: First da...   neutral\n",
              "4  1001.txt         Zoe's first love #Rattled @JohnnyHarper15   positive"
            ],
            "text/html": [
              "\n",
              "  <div id=\"df-9acdd9c9-0a95-48d0-8427-409273aebe74\" class=\"colab-df-container\">\n",
              "    <div>\n",
              "<style scoped>\n",
              "    .dataframe tbody tr th:only-of-type {\n",
              "        vertical-align: middle;\n",
              "    }\n",
              "\n",
              "    .dataframe tbody tr th {\n",
              "        vertical-align: top;\n",
              "    }\n",
              "\n",
              "    .dataframe thead th {\n",
              "        text-align: right;\n",
              "    }\n",
              "</style>\n",
              "<table border=\"1\" class=\"dataframe\">\n",
              "  <thead>\n",
              "    <tr style=\"text-align: right;\">\n",
              "      <th></th>\n",
              "      <th>File Name</th>\n",
              "      <th>Caption</th>\n",
              "      <th>LABEL</th>\n",
              "    </tr>\n",
              "  </thead>\n",
              "  <tbody>\n",
              "    <tr>\n",
              "      <th>0</th>\n",
              "      <td>1.txt</td>\n",
              "      <td>How I feel today #legday #jelly #aching #gym</td>\n",
              "      <td>negative</td>\n",
              "    </tr>\n",
              "    <tr>\n",
              "      <th>1</th>\n",
              "      <td>10.txt</td>\n",
              "      <td>@ArrivaTW absolute disgrace two carriages from...</td>\n",
              "      <td>negative</td>\n",
              "    </tr>\n",
              "    <tr>\n",
              "      <th>2</th>\n",
              "      <td>100.txt</td>\n",
              "      <td>This is my Valentine's from 1 of my nephews. I...</td>\n",
              "      <td>positive</td>\n",
              "    </tr>\n",
              "    <tr>\n",
              "      <th>3</th>\n",
              "      <td>1000.txt</td>\n",
              "      <td>betterfeelingfilms: RT via Instagram: First da...</td>\n",
              "      <td>neutral</td>\n",
              "    </tr>\n",
              "    <tr>\n",
              "      <th>4</th>\n",
              "      <td>1001.txt</td>\n",
              "      <td>Zoe's first love #Rattled @JohnnyHarper15</td>\n",
              "      <td>positive</td>\n",
              "    </tr>\n",
              "  </tbody>\n",
              "</table>\n",
              "</div>\n",
              "    <div class=\"colab-df-buttons\">\n",
              "\n",
              "  <div class=\"colab-df-container\">\n",
              "    <button class=\"colab-df-convert\" onclick=\"convertToInteractive('df-9acdd9c9-0a95-48d0-8427-409273aebe74')\"\n",
              "            title=\"Convert this dataframe to an interactive table.\"\n",
              "            style=\"display:none;\">\n",
              "\n",
              "  <svg xmlns=\"http://www.w3.org/2000/svg\" height=\"24px\" viewBox=\"0 -960 960 960\">\n",
              "    <path d=\"M120-120v-720h720v720H120Zm60-500h600v-160H180v160Zm220 220h160v-160H400v160Zm0 220h160v-160H400v160ZM180-400h160v-160H180v160Zm440 0h160v-160H620v160ZM180-180h160v-160H180v160Zm440 0h160v-160H620v160Z\"/>\n",
              "  </svg>\n",
              "    </button>\n",
              "\n",
              "  <style>\n",
              "    .colab-df-container {\n",
              "      display:flex;\n",
              "      gap: 12px;\n",
              "    }\n",
              "\n",
              "    .colab-df-convert {\n",
              "      background-color: #E8F0FE;\n",
              "      border: none;\n",
              "      border-radius: 50%;\n",
              "      cursor: pointer;\n",
              "      display: none;\n",
              "      fill: #1967D2;\n",
              "      height: 32px;\n",
              "      padding: 0 0 0 0;\n",
              "      width: 32px;\n",
              "    }\n",
              "\n",
              "    .colab-df-convert:hover {\n",
              "      background-color: #E2EBFA;\n",
              "      box-shadow: 0px 1px 2px rgba(60, 64, 67, 0.3), 0px 1px 3px 1px rgba(60, 64, 67, 0.15);\n",
              "      fill: #174EA6;\n",
              "    }\n",
              "\n",
              "    .colab-df-buttons div {\n",
              "      margin-bottom: 4px;\n",
              "    }\n",
              "\n",
              "    [theme=dark] .colab-df-convert {\n",
              "      background-color: #3B4455;\n",
              "      fill: #D2E3FC;\n",
              "    }\n",
              "\n",
              "    [theme=dark] .colab-df-convert:hover {\n",
              "      background-color: #434B5C;\n",
              "      box-shadow: 0px 1px 3px 1px rgba(0, 0, 0, 0.15);\n",
              "      filter: drop-shadow(0px 1px 2px rgba(0, 0, 0, 0.3));\n",
              "      fill: #FFFFFF;\n",
              "    }\n",
              "  </style>\n",
              "\n",
              "    <script>\n",
              "      const buttonEl =\n",
              "        document.querySelector('#df-9acdd9c9-0a95-48d0-8427-409273aebe74 button.colab-df-convert');\n",
              "      buttonEl.style.display =\n",
              "        google.colab.kernel.accessAllowed ? 'block' : 'none';\n",
              "\n",
              "      async function convertToInteractive(key) {\n",
              "        const element = document.querySelector('#df-9acdd9c9-0a95-48d0-8427-409273aebe74');\n",
              "        const dataTable =\n",
              "          await google.colab.kernel.invokeFunction('convertToInteractive',\n",
              "                                                    [key], {});\n",
              "        if (!dataTable) return;\n",
              "\n",
              "        const docLinkHtml = 'Like what you see? Visit the ' +\n",
              "          '<a target=\"_blank\" href=https://colab.research.google.com/notebooks/data_table.ipynb>data table notebook</a>'\n",
              "          + ' to learn more about interactive tables.';\n",
              "        element.innerHTML = '';\n",
              "        dataTable['output_type'] = 'display_data';\n",
              "        await google.colab.output.renderOutput(dataTable, element);\n",
              "        const docLink = document.createElement('div');\n",
              "        docLink.innerHTML = docLinkHtml;\n",
              "        element.appendChild(docLink);\n",
              "      }\n",
              "    </script>\n",
              "  </div>\n",
              "\n",
              "\n",
              "<div id=\"df-4233fe35-550b-4574-a831-50a6108fe4f9\">\n",
              "  <button class=\"colab-df-quickchart\" onclick=\"quickchart('df-4233fe35-550b-4574-a831-50a6108fe4f9')\"\n",
              "            title=\"Suggest charts\"\n",
              "            style=\"display:none;\">\n",
              "\n",
              "<svg xmlns=\"http://www.w3.org/2000/svg\" height=\"24px\"viewBox=\"0 0 24 24\"\n",
              "     width=\"24px\">\n",
              "    <g>\n",
              "        <path d=\"M19 3H5c-1.1 0-2 .9-2 2v14c0 1.1.9 2 2 2h14c1.1 0 2-.9 2-2V5c0-1.1-.9-2-2-2zM9 17H7v-7h2v7zm4 0h-2V7h2v10zm4 0h-2v-4h2v4z\"/>\n",
              "    </g>\n",
              "</svg>\n",
              "  </button>\n",
              "\n",
              "<style>\n",
              "  .colab-df-quickchart {\n",
              "      --bg-color: #E8F0FE;\n",
              "      --fill-color: #1967D2;\n",
              "      --hover-bg-color: #E2EBFA;\n",
              "      --hover-fill-color: #174EA6;\n",
              "      --disabled-fill-color: #AAA;\n",
              "      --disabled-bg-color: #DDD;\n",
              "  }\n",
              "\n",
              "  [theme=dark] .colab-df-quickchart {\n",
              "      --bg-color: #3B4455;\n",
              "      --fill-color: #D2E3FC;\n",
              "      --hover-bg-color: #434B5C;\n",
              "      --hover-fill-color: #FFFFFF;\n",
              "      --disabled-bg-color: #3B4455;\n",
              "      --disabled-fill-color: #666;\n",
              "  }\n",
              "\n",
              "  .colab-df-quickchart {\n",
              "    background-color: var(--bg-color);\n",
              "    border: none;\n",
              "    border-radius: 50%;\n",
              "    cursor: pointer;\n",
              "    display: none;\n",
              "    fill: var(--fill-color);\n",
              "    height: 32px;\n",
              "    padding: 0;\n",
              "    width: 32px;\n",
              "  }\n",
              "\n",
              "  .colab-df-quickchart:hover {\n",
              "    background-color: var(--hover-bg-color);\n",
              "    box-shadow: 0 1px 2px rgba(60, 64, 67, 0.3), 0 1px 3px 1px rgba(60, 64, 67, 0.15);\n",
              "    fill: var(--button-hover-fill-color);\n",
              "  }\n",
              "\n",
              "  .colab-df-quickchart-complete:disabled,\n",
              "  .colab-df-quickchart-complete:disabled:hover {\n",
              "    background-color: var(--disabled-bg-color);\n",
              "    fill: var(--disabled-fill-color);\n",
              "    box-shadow: none;\n",
              "  }\n",
              "\n",
              "  .colab-df-spinner {\n",
              "    border: 2px solid var(--fill-color);\n",
              "    border-color: transparent;\n",
              "    border-bottom-color: var(--fill-color);\n",
              "    animation:\n",
              "      spin 1s steps(1) infinite;\n",
              "  }\n",
              "\n",
              "  @keyframes spin {\n",
              "    0% {\n",
              "      border-color: transparent;\n",
              "      border-bottom-color: var(--fill-color);\n",
              "      border-left-color: var(--fill-color);\n",
              "    }\n",
              "    20% {\n",
              "      border-color: transparent;\n",
              "      border-left-color: var(--fill-color);\n",
              "      border-top-color: var(--fill-color);\n",
              "    }\n",
              "    30% {\n",
              "      border-color: transparent;\n",
              "      border-left-color: var(--fill-color);\n",
              "      border-top-color: var(--fill-color);\n",
              "      border-right-color: var(--fill-color);\n",
              "    }\n",
              "    40% {\n",
              "      border-color: transparent;\n",
              "      border-right-color: var(--fill-color);\n",
              "      border-top-color: var(--fill-color);\n",
              "    }\n",
              "    60% {\n",
              "      border-color: transparent;\n",
              "      border-right-color: var(--fill-color);\n",
              "    }\n",
              "    80% {\n",
              "      border-color: transparent;\n",
              "      border-right-color: var(--fill-color);\n",
              "      border-bottom-color: var(--fill-color);\n",
              "    }\n",
              "    90% {\n",
              "      border-color: transparent;\n",
              "      border-bottom-color: var(--fill-color);\n",
              "    }\n",
              "  }\n",
              "</style>\n",
              "\n",
              "  <script>\n",
              "    async function quickchart(key) {\n",
              "      const quickchartButtonEl =\n",
              "        document.querySelector('#' + key + ' button');\n",
              "      quickchartButtonEl.disabled = true;  // To prevent multiple clicks.\n",
              "      quickchartButtonEl.classList.add('colab-df-spinner');\n",
              "      try {\n",
              "        const charts = await google.colab.kernel.invokeFunction(\n",
              "            'suggestCharts', [key], {});\n",
              "      } catch (error) {\n",
              "        console.error('Error during call to suggestCharts:', error);\n",
              "      }\n",
              "      quickchartButtonEl.classList.remove('colab-df-spinner');\n",
              "      quickchartButtonEl.classList.add('colab-df-quickchart-complete');\n",
              "    }\n",
              "    (() => {\n",
              "      let quickchartButtonEl =\n",
              "        document.querySelector('#df-4233fe35-550b-4574-a831-50a6108fe4f9 button');\n",
              "      quickchartButtonEl.style.display =\n",
              "        google.colab.kernel.accessAllowed ? 'block' : 'none';\n",
              "    })();\n",
              "  </script>\n",
              "</div>\n",
              "\n",
              "    </div>\n",
              "  </div>\n"
            ],
            "application/vnd.google.colaboratory.intrinsic+json": {
              "type": "dataframe",
              "variable_name": "data",
              "summary": "{\n  \"name\": \"data\",\n  \"rows\": 4869,\n  \"fields\": [\n    {\n      \"column\": \"File Name\",\n      \"properties\": {\n        \"dtype\": \"string\",\n        \"num_unique_values\": 4869,\n        \"samples\": [\n          \"4708.txt\",\n          \"1990.txt\",\n          \"2032.txt\"\n        ],\n        \"semantic_type\": \"\",\n        \"description\": \"\"\n      }\n    },\n    {\n      \"column\": \"Caption\",\n      \"properties\": {\n        \"dtype\": \"string\",\n        \"num_unique_values\": 4663,\n        \"samples\": [\n          \"This just turned my whole entire day around ??? ... One day she gone be mines \",\n          \"When your mirror foggy (me my self and lil sis ???????? \",\n          \"Absolutely incensed by this cynical 50 Shades/Valentine cash-in at Tesco \"\n        ],\n        \"semantic_type\": \"\",\n        \"description\": \"\"\n      }\n    },\n    {\n      \"column\": \"LABEL\",\n      \"properties\": {\n        \"dtype\": \"category\",\n        \"num_unique_values\": 3,\n        \"samples\": [\n          \"negative\",\n          \"positive\",\n          \"neutral\"\n        ],\n        \"semantic_type\": \"\",\n        \"description\": \"\"\n      }\n    }\n  ]\n}"
            }
          },
          "metadata": {},
          "execution_count": 6
        }
      ]
    },
    {
      "cell_type": "code",
      "source": [
        "#df.head()"
      ],
      "metadata": {
        "id": "9ATmOz1NeXyO"
      },
      "execution_count": 7,
      "outputs": []
    },
    {
      "cell_type": "code",
      "source": [
        "#first ten enteries in dataset\n",
        "#data['File Name'][0:10]\n",
        "data['Caption'][0:10]\n",
        "#data['LABEL'][0:10]"
      ],
      "metadata": {
        "colab": {
          "base_uri": "https://localhost:8080/"
        },
        "id": "FSmjLAzXhYvf",
        "outputId": "3dca2674-34da-434c-e16d-ff2877bde1a5"
      },
      "execution_count": 8,
      "outputs": [
        {
          "output_type": "execute_result",
          "data": {
            "text/plain": [
              "0        How I feel today #legday #jelly #aching #gym \n",
              "1    @ArrivaTW absolute disgrace two carriages from...\n",
              "2    This is my Valentine's from 1 of my nephews. I...\n",
              "3    betterfeelingfilms: RT via Instagram: First da...\n",
              "4           Zoe's first love #Rattled @JohnnyHarper15 \n",
              "5    Chaotic Love - giclee print ?65 at #art #love ...\n",
              "6    They gna be mad when I reach that goal though....\n",
              "7    On day 9.. It's now in my daily routine.. Feel...\n",
              "8    #ANIMALABUSE #TORONTO #PUPPY #TORTURE WE OFFER...\n",
              "9    Mike will not accept this plastic rose. @wfaam...\n",
              "Name: Caption, dtype: object"
            ]
          },
          "metadata": {},
          "execution_count": 8
        }
      ]
    },
    {
      "cell_type": "markdown",
      "source": [
        "# NLP - Text Processing  , Lower Case , Split Paragraph , Split Sentence"
      ],
      "metadata": {
        "id": "T4saNftbrX6j"
      }
    },
    {
      "cell_type": "code",
      "source": [
        "## Text\n",
        "text ='How AI Is Cracking A Hard Problem - Giving Computers A Sense Of Smell Machine olfaction starts with sensors that detect and identify molecules in the air. (Representational) Over 100 years ago, Alexander Graham Bell asked the readers of National Geographic to do something bold and fresh – “to found a new science.” He pointed out that sciences based on the measurements of sound and light already existed. But there was no science of odor. Bell asked his readers to “measure a smell.” Today, smartphones in most people pockets provide impressive built-in capabilities based on the sciences of sound and light: voice assistants, facial recognition and photo enhancement. The science of odor does not offer anything comparable. But that situation is changing, as advances in machine olfaction, also called “digitized smell,” are finally answering Bell call to action.'"
      ],
      "metadata": {
        "id": "xRQ_C58bhxRu"
      },
      "execution_count": 9,
      "outputs": []
    },
    {
      "cell_type": "code",
      "source": [
        "## Lower Case content\n",
        "text= text.lower()\n",
        "## Split a paragraph in to sentences\n",
        "text_paragraph = text.split('.')\n",
        "#text_paragraph = text.split('\\n')\n",
        "#print(text_paragraph)\n",
        "## Split sentence into words\n",
        "for text_sentence in text_paragraph:\n",
        "  print(text_sentence.split())\n"
      ],
      "metadata": {
        "colab": {
          "base_uri": "https://localhost:8080/"
        },
        "id": "l-Ergce3nRJU",
        "outputId": "f153730c-996c-4a54-ae49-5f1f3d6bc940"
      },
      "execution_count": 10,
      "outputs": [
        {
          "output_type": "stream",
          "name": "stdout",
          "text": [
            "['how', 'ai', 'is', 'cracking', 'a', 'hard', 'problem', '-', 'giving', 'computers', 'a', 'sense', 'of', 'smell', 'machine', 'olfaction', 'starts', 'with', 'sensors', 'that', 'detect', 'and', 'identify', 'molecules', 'in', 'the', 'air']\n",
            "['(representational)', 'over', '100', 'years', 'ago,', 'alexander', 'graham', 'bell', 'asked', 'the', 'readers', 'of', 'national', 'geographic', 'to', 'do', 'something', 'bold', 'and', 'fresh', '–', '“to', 'found', 'a', 'new', 'science']\n",
            "['”', 'he', 'pointed', 'out', 'that', 'sciences', 'based', 'on', 'the', 'measurements', 'of', 'sound', 'and', 'light', 'already', 'existed']\n",
            "['but', 'there', 'was', 'no', 'science', 'of', 'odor']\n",
            "['bell', 'asked', 'his', 'readers', 'to', '“measure', 'a', 'smell']\n",
            "['”', 'today,', 'smartphones', 'in', 'most', 'people', 'pockets', 'provide', 'impressive', 'built-in', 'capabilities', 'based', 'on', 'the', 'sciences', 'of', 'sound', 'and', 'light:', 'voice', 'assistants,', 'facial', 'recognition', 'and', 'photo', 'enhancement']\n",
            "['the', 'science', 'of', 'odor', 'does', 'not', 'offer', 'anything', 'comparable']\n",
            "['but', 'that', 'situation', 'is', 'changing,', 'as', 'advances', 'in', 'machine', 'olfaction,', 'also', 'called', '“digitized', 'smell,”', 'are', 'finally', 'answering', 'bell', 'call', 'to', 'action']\n",
            "[]\n"
          ]
        }
      ]
    },
    {
      "cell_type": "code",
      "source": [
        "text"
      ],
      "metadata": {
        "colab": {
          "base_uri": "https://localhost:8080/",
          "height": 105
        },
        "id": "KbCceWrpn0zK",
        "outputId": "33fc8a0b-b73a-486e-a165-02a18ef73be1"
      },
      "execution_count": 11,
      "outputs": [
        {
          "output_type": "execute_result",
          "data": {
            "text/plain": [
              "'how ai is cracking a hard problem - giving computers a sense of smell machine olfaction starts with sensors that detect and identify molecules in the air. (representational) over 100 years ago, alexander graham bell asked the readers of national geographic to do something bold and fresh – “to found a new science.” he pointed out that sciences based on the measurements of sound and light already existed. but there was no science of odor. bell asked his readers to “measure a smell.” today, smartphones in most people pockets provide impressive built-in capabilities based on the sciences of sound and light: voice assistants, facial recognition and photo enhancement. the science of odor does not offer anything comparable. but that situation is changing, as advances in machine olfaction, also called “digitized smell,” are finally answering bell call to action.'"
            ],
            "application/vnd.google.colaboratory.intrinsic+json": {
              "type": "string"
            }
          },
          "metadata": {},
          "execution_count": 11
        }
      ]
    },
    {
      "cell_type": "code",
      "source": [
        "text_paragraph"
      ],
      "metadata": {
        "colab": {
          "base_uri": "https://localhost:8080/"
        },
        "id": "JDwv7ScZommL",
        "outputId": "8d14b37f-b073-4378-be0d-d0e1a3c32d8a"
      },
      "execution_count": 12,
      "outputs": [
        {
          "output_type": "execute_result",
          "data": {
            "text/plain": [
              "['how ai is cracking a hard problem - giving computers a sense of smell machine olfaction starts with sensors that detect and identify molecules in the air',\n",
              " ' (representational) over 100 years ago, alexander graham bell asked the readers of national geographic to do something bold and fresh – “to found a new science',\n",
              " '” he pointed out that sciences based on the measurements of sound and light already existed',\n",
              " ' but there was no science of odor',\n",
              " ' bell asked his readers to “measure a smell',\n",
              " '” today, smartphones in most people pockets provide impressive built-in capabilities based on the sciences of sound and light: voice assistants, facial recognition and photo enhancement',\n",
              " ' the science of odor does not offer anything comparable',\n",
              " ' but that situation is changing, as advances in machine olfaction, also called “digitized smell,” are finally answering bell call to action',\n",
              " '']"
            ]
          },
          "metadata": {},
          "execution_count": 12
        }
      ]
    },
    {
      "cell_type": "code",
      "source": [
        "### Reading Files\n",
        "### basic functions on NLP - Preprocessing\n",
        "### preprocessing - model building\n",
        "### convert unstructured data [into words] to structured format - M3\n",
        "### M4 - fitting a model and evaluation\n",
        "### chatgpt"
      ],
      "metadata": {
        "id": "4A-Yf4RNr2cS"
      },
      "execution_count": 13,
      "outputs": []
    },
    {
      "cell_type": "code",
      "source": [],
      "metadata": {
        "id": "R2mlx2NQsAUy"
      },
      "execution_count": 13,
      "outputs": []
    }
  ]
}